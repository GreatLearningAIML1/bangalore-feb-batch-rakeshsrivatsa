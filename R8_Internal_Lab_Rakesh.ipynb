{
  "nbformat": 4,
  "nbformat_minor": 0,
  "metadata": {
    "accelerator": "GPU",
    "colab": {
      "name": "R8_Internal_Lab_Rakesh.ipynb",
      "version": "0.3.2",
      "provenance": [],
      "collapsed_sections": []
    },
    "kernelspec": {
      "display_name": "Python 3",
      "language": "python",
      "name": "python3"
    },
    "language_info": {
      "codemirror_mode": {
        "name": "ipython",
        "version": 3
      },
      "file_extension": ".py",
      "mimetype": "text/x-python",
      "name": "python",
      "nbconvert_exporter": "python",
      "pygments_lexer": "ipython3",
      "version": "3.7.1"
    }
  },
  "cells": [
    {
      "cell_type": "markdown",
      "metadata": {
        "colab_type": "text",
        "id": "NFfDTfhlaEI_"
      },
      "source": [
        "# Transfer Learning MNIST"
      ]
    },
    {
      "cell_type": "markdown",
      "metadata": {
        "colab_type": "text",
        "id": "rNwbqCFRaEJC"
      },
      "source": [
        "* Train a simple convnet on the MNIST dataset the first 5 digits [0-4].\n",
        "* Freeze convolutional layers and fine-tune dense layers for the classification of digits [5-9]."
      ]
    },
    {
      "cell_type": "markdown",
      "metadata": {
        "id": "5Dnzaw1i5sXF",
        "colab_type": "text"
      },
      "source": [
        "## MNIST Dataset\n",
        "The MNIST database contains 60,000 training images and 10,000 testing images taken from American Census Bureau employees and American high school students. The MNIST dataset is one of the most common datasets used for image classification and accessible from many different sources. In fact, even Tensorflow and Keras allow us to import and download the MNIST dataset directly from their API."
      ]
    },
    {
      "cell_type": "markdown",
      "metadata": {
        "id": "bpUULy1Z5sXF",
        "colab_type": "text"
      },
      "source": [
        "Let's import keras and load MNIST dataset"
      ]
    },
    {
      "cell_type": "code",
      "metadata": {
        "id": "KiG7IPhm5sXG",
        "colab_type": "code",
        "colab": {}
      },
      "source": [
        "import random\n",
        "random.seed(0)\n",
        "\n",
        "import warnings\n",
        "warnings.filterwarnings(\"ignore\")"
      ],
      "execution_count": 0,
      "outputs": []
    },
    {
      "cell_type": "code",
      "metadata": {
        "id": "ZqUiJM_Z5sXL",
        "colab_type": "code",
        "outputId": "08d9a39f-5e2f-4be8-db65-99fd857f3726",
        "colab": {
          "base_uri": "https://localhost:8080/",
          "height": 68
        }
      },
      "source": [
        "from keras.datasets import mnist\n",
        "from keras.backend import backend\n",
        "\n",
        "(X_train, y_train), (X_test, y_test) = mnist.load_data()"
      ],
      "execution_count": 2,
      "outputs": [
        {
          "output_type": "stream",
          "text": [
            "Using TensorFlow backend.\n"
          ],
          "name": "stderr"
        },
        {
          "output_type": "stream",
          "text": [
            "Downloading data from https://s3.amazonaws.com/img-datasets/mnist.npz\n",
            "11493376/11490434 [==============================] - 3s 0us/step\n"
          ],
          "name": "stdout"
        }
      ]
    },
    {
      "cell_type": "markdown",
      "metadata": {
        "id": "RVw4wsuW5sXO",
        "colab_type": "text"
      },
      "source": [
        "X_train and X_test contain greyscale RGB codes (from 0 to 255) while y_train and y_test contains labels from 0 to 9 which represents which number they actually are."
      ]
    },
    {
      "cell_type": "markdown",
      "metadata": {
        "id": "xgQ86Vhw5sXP",
        "colab_type": "text"
      },
      "source": [
        "Let's visualize some numbers using matplotlib"
      ]
    },
    {
      "cell_type": "code",
      "metadata": {
        "id": "VZwg00gO5sXQ",
        "colab_type": "code",
        "outputId": "9d172905-a60f-4b16-c9ac-371476c81a85",
        "colab": {
          "base_uri": "https://localhost:8080/",
          "height": 303
        }
      },
      "source": [
        "import matplotlib.pyplot as plt\n",
        "%matplotlib inline\n",
        "print(\"Label: {}\".format(y_train[1000]))\n",
        "plt.imshow(X_train[1000], cmap='gray')"
      ],
      "execution_count": 3,
      "outputs": [
        {
          "output_type": "stream",
          "text": [
            "Label: 0\n"
          ],
          "name": "stdout"
        },
        {
          "output_type": "execute_result",
          "data": {
            "text/plain": [
              "<matplotlib.image.AxesImage at 0x7fe6c146f198>"
            ]
          },
          "metadata": {
            "tags": []
          },
          "execution_count": 3
        },
        {
          "output_type": "display_data",
          "data": {
            "image/png": "[encoded data removed]",
            "text/plain": [
              "<Figure size 432x288 with 1 Axes>"
            ]
          },
          "metadata": {
            "tags": []
          }
        }
      ]
    },
    {
      "cell_type": "markdown",
      "metadata": {
        "id": "p64mhwp95sXS",
        "colab_type": "text"
      },
      "source": [
        "## Question 1"
      ]
    },
    {
      "cell_type": "markdown",
      "metadata": {
        "id": "XxNAiWYd5sXT",
        "colab_type": "text"
      },
      "source": [
        "### Create two datasets\n",
        "- First having digits from 0 to 4\n",
        "- Second having digits from 5 to 9\n",
        "\n",
        "Hint: use labels to separate data"
      ]
    },
    {
      "cell_type": "code",
      "metadata": {
        "id": "P8aYCAm5Su85",
        "colab_type": "code",
        "colab": {}
      },
      "source": [
        "import numpy as np\n",
        "\n",
        "train_filter_0To4 = np.where(y_train <= 4 )\n",
        "test_filter_0To4 = np.where(y_test <= 4 )\n",
        "\n",
        "train_filter_5To9 = np.where(y_train >= 5 )\n",
        "test_filter_5To9 = np.where(y_test >= 5 )\n",
        "\n",
        "\n",
        "X_train_0_4, Y_train_0_4 = X_train[train_filter_0To4], y_train[train_filter_0To4]\n",
        "X_test_0_4, Y_test_0_4 = X_test[test_filter_0To4], y_test[test_filter_0To4]\n",
        "\n",
        "\n",
        "X_train_5_9, Y_train_5_9 = X_train[train_filter_5To9], y_train[train_filter_5To9]\n",
        "X_test_5_9, Y_test_5_9 = X_test[test_filter_5To9], y_test[test_filter_5To9]"
      ],
      "execution_count": 0,
      "outputs": []
    },
    {
      "cell_type": "markdown",
      "metadata": {
        "id": "M9jKcF1z5sXV",
        "colab_type": "text"
      },
      "source": [
        "## Question 2"
      ]
    },
    {
      "cell_type": "markdown",
      "metadata": {
        "id": "NMo7lvwQ5sXW",
        "colab_type": "text"
      },
      "source": [
        "### Print shape of the data\n",
        "- print shape of all variables of both the datasets you created"
      ]
    },
    {
      "cell_type": "code",
      "metadata": {
        "id": "kH7ZjEoH5sXW",
        "colab_type": "code",
        "outputId": "945ddf3d-609b-4043-e8ee-e3ece6beb3ed",
        "colab": {
          "base_uri": "https://localhost:8080/",
          "height": 153
        }
      },
      "source": [
        "print('X_train_0_4:', X_train_0_4.shape)\n",
        "print('Y_train_0_4:', Y_train_0_4.shape)\n",
        "print('X_test_0_4:', X_test_0_4.shape)\n",
        "print('Y_test_0_4:', Y_test_0_4.shape)\n",
        "print('X_train_5_9:', X_train_5_9.shape)\n",
        "print('Y_train_5_9:', Y_train_5_9.shape)\n",
        "print('X_test_5_9:', X_test_5_9.shape)\n",
        "print('Y_test_5_9:', Y_test_5_9.shape)"
      ],
      "execution_count": 5,
      "outputs": [
        {
          "output_type": "stream",
          "text": [
            "X_train_0_4: (30596, 28, 28)\n",
            "Y_train_0_4: (30596,)\n",
            "X_test_0_4: (5139, 28, 28)\n",
            "Y_test_0_4: (5139,)\n",
            "X_train_5_9: (29404, 28, 28)\n",
            "Y_train_5_9: (29404,)\n",
            "X_test_5_9: (4861, 28, 28)\n",
            "Y_test_5_9: (4861,)\n"
          ],
          "name": "stdout"
        }
      ]
    },
    {
      "cell_type": "markdown",
      "metadata": {
        "id": "IUU4PkKU5sXY",
        "colab_type": "text"
      },
      "source": [
        "## Question 3"
      ]
    },
    {
      "cell_type": "markdown",
      "metadata": {
        "id": "4I8ajqdt5sXY",
        "colab_type": "text"
      },
      "source": [
        "### Reshape data\n",
        "- reshape first dataset\n",
        "- To be able to use the dataset in Keras, we need 4-dims numpy arrays. \n",
        "- reshape features to pass it to a Conv2D layer\n",
        "- channel = 1\n",
        "- reshape features of first dataset only\n",
        "- do not reshape labels"
      ]
    },
    {
      "cell_type": "code",
      "metadata": {
        "id": "38wgBEcz5sXa",
        "colab_type": "code",
        "colab": {}
      },
      "source": [
        "#Reshape\n",
        "xtrain4 = X_train_0_4.reshape(X_train_0_4.shape[0], 28, 28, 1)\n",
        "xtest4 = X_test_0_4.reshape(X_test_0_4.shape[0], 28, 28, 1)\n",
        "\n",
        "xtrain9 = X_train_5_9\n",
        "xtest9 = X_test_5_9"
      ],
      "execution_count": 0,
      "outputs": []
    },
    {
      "cell_type": "markdown",
      "metadata": {
        "id": "_5H-BtNm5sXg",
        "colab_type": "text"
      },
      "source": [
        "## Question 4"
      ]
    },
    {
      "cell_type": "markdown",
      "metadata": {
        "id": "2ahCMtCl5sXh",
        "colab_type": "text"
      },
      "source": [
        "### Normalize data\n",
        "- normalize first dataset\n",
        "- we must normalize our data as it is always required in neural network models\n",
        "- we can achieve this by dividing the RGB codes to 255 (which is the maximum RGB code minus the minimum RGB code)\n",
        "- normalize X_train and X_test\n",
        "- make sure that the values are float so that we can get decimal points after division"
      ]
    },
    {
      "cell_type": "code",
      "metadata": {
        "id": "z4mti7pg5sXj",
        "colab_type": "code",
        "colab": {}
      },
      "source": [
        "xtrain4 = xtrain4.astype('float32')\n",
        "xtest4 = xtest4.astype('float32')\n",
        "\n",
        "# Normalize\n",
        "xtrain4 /= 255\n",
        "xtest4 /= 255"
      ],
      "execution_count": 0,
      "outputs": []
    },
    {
      "cell_type": "markdown",
      "metadata": {
        "id": "TfQ6545D5sXp",
        "colab_type": "text"
      },
      "source": [
        "### Print shape of data and number of images\n",
        "- for first dataset\n",
        "- print shape of X_train\n",
        "- print number of images in X_train\n",
        "- print number of images in X_test"
      ]
    },
    {
      "cell_type": "code",
      "metadata": {
        "id": "uQfQXZMo5sXp",
        "colab_type": "code",
        "outputId": "458c1953-34af-4bdd-da5c-38bf3aea309d",
        "colab": {
          "base_uri": "https://localhost:8080/",
          "height": 153
        }
      },
      "source": [
        "print('xtrain4:', xtrain4.shape)\n",
        "print('Y_train_0_4:', Y_train_0_4.shape)\n",
        "print('xtest4:', xtest4.shape)\n",
        "print('Y_test_0_4:', Y_test_0_4.shape)\n",
        "print('xtrain9:', xtrain9.shape)\n",
        "print('Y_train_5_9:', Y_train_5_9.shape)\n",
        "print('xtest9:', xtest9.shape)\n",
        "print('Y_test_5_9:', Y_test_5_9.shape)"
      ],
      "execution_count": 8,
      "outputs": [
        {
          "output_type": "stream",
          "text": [
            "xtrain4: (30596, 28, 28, 1)\n",
            "Y_train_0_4: (30596,)\n",
            "xtest4: (5139, 28, 28, 1)\n",
            "Y_test_0_4: (5139,)\n",
            "xtrain9: (29404, 28, 28)\n",
            "Y_train_5_9: (29404,)\n",
            "xtest9: (4861, 28, 28)\n",
            "Y_test_5_9: (4861,)\n"
          ],
          "name": "stdout"
        }
      ]
    },
    {
      "cell_type": "markdown",
      "metadata": {
        "id": "9oFjomSh5sXu",
        "colab_type": "text"
      },
      "source": [
        "## Question 5"
      ]
    },
    {
      "cell_type": "markdown",
      "metadata": {
        "id": "2lEFQQNk5sXu",
        "colab_type": "text"
      },
      "source": [
        "### One-hot encode the class vector\n",
        "- encode labels of first dataset\n",
        "- convert class vectors (integers) to binary class matrix\n",
        "- convert y_train and y_test\n",
        "- number of classes: 5\n",
        "- we are doing this to use categorical_crossentropy as loss\n",
        "\n",
        "Hint: you can use keras.utils.to_categorical"
      ]
    },
    {
      "cell_type": "code",
      "metadata": {
        "id": "aejx3Zb35sXv",
        "colab_type": "code",
        "colab": {}
      },
      "source": [
        "import keras\n",
        "num_classes = 5\n",
        "#One hot encoding\n",
        "ytrain4 = keras.utils.to_categorical(Y_train_0_4, num_classes)\n",
        "ytest4 = keras.utils.to_categorical(Y_test_0_4, num_classes)\n",
        "\n",
        "ytrain9 = Y_train_5_9\n",
        "ytest9 = Y_test_5_9"
      ],
      "execution_count": 0,
      "outputs": []
    },
    {
      "cell_type": "markdown",
      "metadata": {
        "id": "PlkiipRA5sXw",
        "colab_type": "text"
      },
      "source": [
        "## Question 6\n",
        "We will build our model by using high level Keras."
      ]
    },
    {
      "cell_type": "markdown",
      "metadata": {
        "id": "KzYMC_xm5sXx",
        "colab_type": "text"
      },
      "source": [
        "### Initialize a sequential model\n",
        "- define a sequential model\n",
        "- add 2 convolutional layers\n",
        "    - no of filters: 32\n",
        "    - kernel size: 3x3\n",
        "    - activation: \"relu\"\n",
        "    - input shape: (28, 28, 1) for first layer\n",
        "- add a max pooling layer of size 2x2\n",
        "- add a dropout layer\n",
        "    - dropout layers fight with the overfitting by disregarding some of the neurons while training\n",
        "    - use dropout rate 0.2"
      ]
    },
    {
      "cell_type": "code",
      "metadata": {
        "id": "mDr-HKl-5sXx",
        "colab_type": "code",
        "outputId": "493ae118-9ee2-4558-a229-d729567028fe",
        "colab": {
          "base_uri": "https://localhost:8080/",
          "height": 258
        }
      },
      "source": [
        "from keras.layers import Dense, Conv2D, Dropout, Flatten, MaxPooling2D\n",
        "from keras.models import Sequential\n",
        "\n",
        "num_classes = 5 \n",
        "\n",
        "model = Sequential()\n",
        "\n",
        "model.add(Conv2D(32, 3, 3, activation='relu', input_shape=(28,28,1)))\n",
        "model.add(Conv2D(32, 3, 3, activation='relu'))\n",
        "model.add(MaxPooling2D(pool_size=(2,2)))\n",
        "#Use dropout rate at 0.2\n",
        "model.add(Dropout(0.2))"
      ],
      "execution_count": 10,
      "outputs": [
        {
          "output_type": "stream",
          "text": [
            "WARNING:tensorflow:From /usr/local/lib/python3.6/dist-packages/keras/backend/tensorflow_backend.py:66: The name tf.get_default_graph is deprecated. Please use tf.compat.v1.get_default_graph instead.\n",
            "\n",
            "WARNING:tensorflow:From /usr/local/lib/python3.6/dist-packages/keras/backend/tensorflow_backend.py:541: The name tf.placeholder is deprecated. Please use tf.compat.v1.placeholder instead.\n",
            "\n",
            "WARNING:tensorflow:From /usr/local/lib/python3.6/dist-packages/keras/backend/tensorflow_backend.py:4432: The name tf.random_uniform is deprecated. Please use tf.random.uniform instead.\n",
            "\n",
            "WARNING:tensorflow:From /usr/local/lib/python3.6/dist-packages/keras/backend/tensorflow_backend.py:4267: The name tf.nn.max_pool is deprecated. Please use tf.nn.max_pool2d instead.\n",
            "\n",
            "WARNING:tensorflow:From /usr/local/lib/python3.6/dist-packages/keras/backend/tensorflow_backend.py:148: The name tf.placeholder_with_default is deprecated. Please use tf.compat.v1.placeholder_with_default instead.\n",
            "\n",
            "WARNING:tensorflow:From /usr/local/lib/python3.6/dist-packages/keras/backend/tensorflow_backend.py:3733: calling dropout (from tensorflow.python.ops.nn_ops) with keep_prob is deprecated and will be removed in a future version.\n",
            "Instructions for updating:\n",
            "Please use `rate` instead of `keep_prob`. Rate should be set to `rate = 1 - keep_prob`.\n"
          ],
          "name": "stdout"
        }
      ]
    },
    {
      "cell_type": "code",
      "metadata": {
        "id": "vCgIr2yNbWTJ",
        "colab_type": "code",
        "outputId": "1502a0e9-0a0b-4dd9-d21a-3a9da27b2858",
        "colab": {
          "base_uri": "https://localhost:8080/",
          "height": 289
        }
      },
      "source": [
        "model.summary()"
      ],
      "execution_count": 11,
      "outputs": [
        {
          "output_type": "stream",
          "text": [
            "Model: \"sequential_1\"\n",
            "_________________________________________________________________\n",
            "Layer (type)                 Output Shape              Param #   \n",
            "=================================================================\n",
            "conv2d_1 (Conv2D)            (None, 26, 26, 32)        320       \n",
            "_________________________________________________________________\n",
            "conv2d_2 (Conv2D)            (None, 24, 24, 32)        9248      \n",
            "_________________________________________________________________\n",
            "max_pooling2d_1 (MaxPooling2 (None, 12, 12, 32)        0         \n",
            "_________________________________________________________________\n",
            "dropout_1 (Dropout)          (None, 12, 12, 32)        0         \n",
            "=================================================================\n",
            "Total params: 9,568\n",
            "Trainable params: 9,568\n",
            "Non-trainable params: 0\n",
            "_________________________________________________________________\n"
          ],
          "name": "stdout"
        }
      ]
    },
    {
      "cell_type": "markdown",
      "metadata": {
        "id": "k2RaPWiP5sXz",
        "colab_type": "text"
      },
      "source": [
        "## Question 7"
      ]
    },
    {
      "cell_type": "markdown",
      "metadata": {
        "id": "4ajGIM6t5sXz",
        "colab_type": "text"
      },
      "source": [
        "### Add classification layers\n",
        "- do this after doing question 6\n",
        "- flatten the data\n",
        "    - add Flatten later\n",
        "    - flatten layers flatten 2D arrays to 1D array before building the fully connected layers\n",
        "- add 2 dense layers\n",
        "    - number of neurons in first layer: 128\n",
        "    - number of neurons in last layer: number of classes\n",
        "    - activation function in first layer: relu\n",
        "    - activation function in last layer: softmax\n",
        "    - we may experiment with any number of neurons for the first Dense layer; however, the final Dense layer must have neurons equal to the number of output classes\n",
        "- you can add a dropout layer in between, if necessary"
      ]
    },
    {
      "cell_type": "code",
      "metadata": {
        "id": "jBxWAN265sX0",
        "colab_type": "code",
        "colab": {}
      },
      "source": [
        "model.add(Flatten())\n",
        "model.add(Dense(128, activation='relu'))\n",
        "model.add(Dropout(0.5))\n",
        "model.add(Dense(num_classes, activation='softmax'))"
      ],
      "execution_count": 0,
      "outputs": []
    },
    {
      "cell_type": "code",
      "metadata": {
        "id": "ipo5s3fnbdiP",
        "colab_type": "code",
        "outputId": "f350a207-eccf-4a51-bf42-e506076dd283",
        "colab": {
          "base_uri": "https://localhost:8080/",
          "height": 425
        }
      },
      "source": [
        "model.summary()"
      ],
      "execution_count": 13,
      "outputs": [
        {
          "output_type": "stream",
          "text": [
            "Model: \"sequential_1\"\n",
            "_________________________________________________________________\n",
            "Layer (type)                 Output Shape              Param #   \n",
            "=================================================================\n",
            "conv2d_1 (Conv2D)            (None, 26, 26, 32)        320       \n",
            "_________________________________________________________________\n",
            "conv2d_2 (Conv2D)            (None, 24, 24, 32)        9248      \n",
            "_________________________________________________________________\n",
            "max_pooling2d_1 (MaxPooling2 (None, 12, 12, 32)        0         \n",
            "_________________________________________________________________\n",
            "dropout_1 (Dropout)          (None, 12, 12, 32)        0         \n",
            "_________________________________________________________________\n",
            "flatten_1 (Flatten)          (None, 4608)              0         \n",
            "_________________________________________________________________\n",
            "dense_1 (Dense)              (None, 128)               589952    \n",
            "_________________________________________________________________\n",
            "dropout_2 (Dropout)          (None, 128)               0         \n",
            "_________________________________________________________________\n",
            "dense_2 (Dense)              (None, 5)                 645       \n",
            "=================================================================\n",
            "Total params: 600,165\n",
            "Trainable params: 600,165\n",
            "Non-trainable params: 0\n",
            "_________________________________________________________________\n"
          ],
          "name": "stdout"
        }
      ]
    },
    {
      "cell_type": "markdown",
      "metadata": {
        "id": "Lhtm4d5K5sX1",
        "colab_type": "text"
      },
      "source": [
        "## Question 8"
      ]
    },
    {
      "cell_type": "markdown",
      "metadata": {
        "id": "SmXg8EaF5sX2",
        "colab_type": "text"
      },
      "source": [
        "### Compile and fit the model\n",
        "- compile your model\n",
        "    - loss: \"categorical_crossentropy\"\n",
        "    - metrics: \"accuracy\"\n",
        "    - optimizer: \"sgd\"\n",
        "- fit your model\n",
        "    - give train data - features and labels\n",
        "    - batch size: 128\n",
        "    - epochs: 10\n",
        "    - give validation data - features and labels"
      ]
    },
    {
      "cell_type": "code",
      "metadata": {
        "id": "cgclxC8s5sX4",
        "colab_type": "code",
        "outputId": "c67c59e6-e4d9-4ee8-f0ec-bcc7067c8989",
        "colab": {
          "base_uri": "https://localhost:8080/",
          "height": 105
        }
      },
      "source": [
        "model.compile(loss='categorical_crossentropy',\n",
        "              optimizer='sgd',\n",
        "              metrics=['accuracy'])"
      ],
      "execution_count": 14,
      "outputs": [
        {
          "output_type": "stream",
          "text": [
            "WARNING:tensorflow:From /usr/local/lib/python3.6/dist-packages/keras/optimizers.py:793: The name tf.train.Optimizer is deprecated. Please use tf.compat.v1.train.Optimizer instead.\n",
            "\n",
            "WARNING:tensorflow:From /usr/local/lib/python3.6/dist-packages/keras/backend/tensorflow_backend.py:3576: The name tf.log is deprecated. Please use tf.math.log instead.\n",
            "\n"
          ],
          "name": "stdout"
        }
      ]
    },
    {
      "cell_type": "code",
      "metadata": {
        "id": "niJoyJUNbvwb",
        "colab_type": "code",
        "outputId": "6236b6d3-8b28-4a70-901e-2a7d7ee1b46b",
        "colab": {
          "base_uri": "https://localhost:8080/",
          "height": 462
        }
      },
      "source": [
        "model.fit(xtrain4, ytrain4, \n",
        "          batch_size=128, nb_epoch=10, verbose=1, validation_data=(xtest4, ytest4))"
      ],
      "execution_count": 15,
      "outputs": [
        {
          "output_type": "stream",
          "text": [
            "WARNING:tensorflow:From /usr/local/lib/python3.6/dist-packages/tensorflow/python/ops/math_grad.py:1250: add_dispatch_support.<locals>.wrapper (from tensorflow.python.ops.array_ops) is deprecated and will be removed in a future version.\n",
            "Instructions for updating:\n",
            "Use tf.where in 2.0, which has the same broadcast rule as np.where\n",
            "Train on 30596 samples, validate on 5139 samples\n",
            "Epoch 1/10\n",
            "30596/30596 [==============================] - 9s 303us/step - loss: 0.7287 - acc: 0.7594 - val_loss: 0.1301 - val_acc: 0.9632\n",
            "Epoch 2/10\n",
            "30596/30596 [==============================] - 3s 94us/step - loss: 0.2005 - acc: 0.9378 - val_loss: 0.0947 - val_acc: 0.9706\n",
            "Epoch 3/10\n",
            "30596/30596 [==============================] - 3s 94us/step - loss: 0.1636 - acc: 0.9511 - val_loss: 0.1090 - val_acc: 0.9665\n",
            "Epoch 4/10\n",
            "30596/30596 [==============================] - 3s 97us/step - loss: 0.1423 - acc: 0.9563 - val_loss: 0.0955 - val_acc: 0.9685\n",
            "Epoch 5/10\n",
            "30596/30596 [==============================] - 3s 96us/step - loss: 0.1283 - acc: 0.9609 - val_loss: 0.0598 - val_acc: 0.9803\n",
            "Epoch 6/10\n",
            "30596/30596 [==============================] - 3s 96us/step - loss: 0.1203 - acc: 0.9639 - val_loss: 0.0543 - val_acc: 0.9827\n",
            "Epoch 7/10\n",
            "30596/30596 [==============================] - 3s 97us/step - loss: 0.1105 - acc: 0.9662 - val_loss: 0.0498 - val_acc: 0.9835\n",
            "Epoch 8/10\n",
            "30596/30596 [==============================] - 3s 94us/step - loss: 0.1060 - acc: 0.9681 - val_loss: 0.0462 - val_acc: 0.9856\n",
            "Epoch 9/10\n",
            "30596/30596 [==============================] - 3s 94us/step - loss: 0.1001 - acc: 0.9689 - val_loss: 0.0438 - val_acc: 0.9858\n",
            "Epoch 10/10\n",
            "30596/30596 [==============================] - 3s 95us/step - loss: 0.0950 - acc: 0.9712 - val_loss: 0.0406 - val_acc: 0.9875\n"
          ],
          "name": "stdout"
        },
        {
          "output_type": "execute_result",
          "data": {
            "text/plain": [
              "<keras.callbacks.History at 0x7fe6be253438>"
            ]
          },
          "metadata": {
            "tags": []
          },
          "execution_count": 15
        }
      ]
    },
    {
      "cell_type": "markdown",
      "metadata": {
        "id": "oSVZUu3p5sX5",
        "colab_type": "text"
      },
      "source": [
        "## Question 9"
      ]
    },
    {
      "cell_type": "markdown",
      "metadata": {
        "id": "Y5TQ3yLV5sX6",
        "colab_type": "text"
      },
      "source": [
        "### Evaluate model\n",
        "- evaluate your model and get accuracy\n",
        "- use test features and labels"
      ]
    },
    {
      "cell_type": "code",
      "metadata": {
        "id": "bBvuD3ba5sX7",
        "colab_type": "code",
        "outputId": "3e545ba9-f61c-4af4-e075-7574cc7eee5b",
        "colab": {
          "base_uri": "https://localhost:8080/",
          "height": 1000
        }
      },
      "source": [
        "model.layers[0].get_weights()"
      ],
      "execution_count": 16,
      "outputs": [
        {
          "output_type": "execute_result",
          "data": {
            "text/plain": [
              "[array([[[[-0.08502541, -0.07644026, -0.03349376, -0.0336299 ,\n",
              "            0.09826008,  0.07596757,  0.07149691, -0.07497087,\n",
              "           -0.03708574,  0.12184153, -0.13173255,  0.01357294,\n",
              "            0.11519819,  0.02163327, -0.11918204, -0.0035632 ,\n",
              "           -0.13009945, -0.11280235, -0.02685132,  0.04444862,\n",
              "           -0.05739536, -0.08588739, -0.08636211, -0.12039614,\n",
              "            0.00698584,  0.06984085,  0.00589239, -0.05942612,\n",
              "           -0.06777047,  0.17887451, -0.02094566,  0.01142157]],\n",
              " \n",
              "         [[-0.06201858, -0.03181161, -0.06938323,  0.10350031,\n",
              "           -0.05433197,  0.15450878, -0.03617889, -0.13197367,\n",
              "           -0.00822517,  0.18683822,  0.08567309, -0.102078  ,\n",
              "           -0.05795077, -0.13673688, -0.04852598, -0.07661442,\n",
              "           -0.06191437, -0.06269881, -0.06851996, -0.11271895,\n",
              "            0.04114001, -0.01638783,  0.06179431,  0.19020344,\n",
              "            0.05297484,  0.06744917,  0.10170902,  0.00839241,\n",
              "            0.17335048,  0.07609768, -0.0603106 ,  0.23695333]],\n",
              " \n",
              "         [[-0.0839985 , -0.01436973,  0.03982348, -0.06997817,\n",
              "           -0.1412905 ,  0.11928918, -0.03644667,  0.09908751,\n",
              "            0.01162033,  0.06796926, -0.12765193, -0.02745566,\n",
              "            0.09568021, -0.03521673, -0.07596872,  0.14233886,\n",
              "           -0.03262267,  0.0137236 , -0.01299141,  0.12903073,\n",
              "           -0.10641226,  0.05486356, -0.10963922,  0.19882496,\n",
              "            0.0710982 ,  0.0537749 , -0.03699994, -0.09530149,\n",
              "            0.05645323,  0.12930582,  0.0636149 ,  0.14370602]]],\n",
              " \n",
              " \n",
              "        [[[ 0.03193399,  0.11577555, -0.01956254,  0.03763788,\n",
              "           -0.14234516,  0.07902632,  0.01824439, -0.02604034,\n",
              "           -0.04637351,  0.24308927, -0.13890731,  0.13253815,\n",
              "            0.03631553, -0.05630544,  0.04207398, -0.03664466,\n",
              "            0.06059942,  0.13932654, -0.01783231,  0.08652167,\n",
              "           -0.0707746 ,  0.02928261, -0.066753  ,  0.08167251,\n",
              "            0.12521547,  0.18195342,  0.04367744,  0.03197797,\n",
              "            0.04905841,  0.18703096,  0.14633754,  0.26107523]],\n",
              " \n",
              "         [[-0.12979808, -0.0505529 , -0.05197991, -0.10590089,\n",
              "           -0.08425756,  0.31057486, -0.07295819, -0.07503092,\n",
              "           -0.14029302,  0.17694339,  0.04625268,  0.01873139,\n",
              "            0.16565306,  0.11410008,  0.02852776,  0.11717905,\n",
              "            0.02327483, -0.02278947,  0.02384397, -0.01974728,\n",
              "           -0.09317966, -0.10486873,  0.1280594 , -0.00237262,\n",
              "            0.11411966,  0.24528793, -0.00613392,  0.01379007,\n",
              "            0.06985709,  0.30299947,  0.1261128 ,  0.27215293]],\n",
              " \n",
              "         [[ 0.04714502, -0.04037686,  0.18312666, -0.01004815,\n",
              "            0.03425895,  0.34371138,  0.04519547,  0.01073645,\n",
              "            0.05860951,  0.1773568 , -0.10472854,  0.01311702,\n",
              "            0.1971579 ,  0.06052908,  0.09574838,  0.00312158,\n",
              "            0.16122188, -0.09198484, -0.08048793,  0.01669501,\n",
              "           -0.00287703,  0.1378031 , -0.10159951, -0.03982019,\n",
              "           -0.0690218 ,  0.1271849 , -0.03847794, -0.01825087,\n",
              "            0.14903155,  0.24079886, -0.09812355,  0.3052206 ]]],\n",
              " \n",
              " \n",
              "        [[[ 0.10351318,  0.00954416,  0.09603489, -0.1428429 ,\n",
              "            0.12150675,  0.30180696,  0.13551852,  0.08915448,\n",
              "           -0.03533879, -0.03366165,  0.11807656, -0.06754908,\n",
              "            0.08109991, -0.03472755, -0.00811659, -0.04008047,\n",
              "            0.1407698 , -0.12156405,  0.03874056,  0.08088998,\n",
              "           -0.02168201,  0.11560112, -0.01185026,  0.07462093,\n",
              "            0.03760369,  0.1746398 ,  0.05845185, -0.12812746,\n",
              "           -0.048421  ,  0.26678556,  0.20808922,  0.02600154]],\n",
              " \n",
              "         [[-0.1184335 ,  0.05109674,  0.19179568,  0.1307004 ,\n",
              "           -0.08714077,  0.36535993,  0.14241277,  0.07281158,\n",
              "            0.05874902,  0.00325238, -0.09335204, -0.09604252,\n",
              "            0.02487865, -0.1195087 ,  0.1059107 , -0.09139675,\n",
              "           -0.0948981 ,  0.08642   , -0.12215613, -0.12191097,\n",
              "            0.1144256 ,  0.04717274,  0.06242914, -0.05384511,\n",
              "           -0.04145791,  0.07803509,  0.07619797, -0.05231149,\n",
              "           -0.10120679,  0.25738716,  0.17537093,  0.259933  ]],\n",
              " \n",
              "         [[-0.10060668, -0.14072461, -0.06674291,  0.11298732,\n",
              "           -0.06086109,  0.30997437,  0.04072774,  0.09074967,\n",
              "           -0.08428204,  0.09188257,  0.03981264, -0.10012358,\n",
              "            0.06669692, -0.06199491, -0.06168226, -0.06637584,\n",
              "           -0.09047718, -0.06598291, -0.13696104, -0.1295694 ,\n",
              "           -0.13227971,  0.02479807, -0.08174498,  0.12905473,\n",
              "           -0.08560646,  0.21093763, -0.12594776,  0.06630345,\n",
              "            0.17276765, -0.0110198 ,  0.11649931,  0.24642669]]]],\n",
              "       dtype=float32),\n",
              " array([-1.08078485e-02,  1.51516115e-02,  3.24837783e-05,  5.20152319e-03,\n",
              "        -1.72889661e-02, -5.72118151e-04,  1.28659150e-02,  8.66308715e-03,\n",
              "        -1.03178003e-03, -7.16147712e-04, -5.66592898e-05, -2.83041154e-03,\n",
              "         3.52610979e-04,  1.00677572e-02,  1.48722101e-02,  2.58742403e-02,\n",
              "         3.53712402e-03, -6.00127410e-03,  3.26692563e-04,  2.84242593e-02,\n",
              "        -2.49040499e-03, -2.13846005e-03, -8.16652272e-03, -1.81920256e-03,\n",
              "        -1.66858023e-03,  2.63429421e-04,  2.11985912e-02,  3.63470763e-02,\n",
              "         4.09399532e-03, -5.44628885e-04,  1.07051550e-04, -3.30825133e-04],\n",
              "       dtype=float32)]"
            ]
          },
          "metadata": {
            "tags": []
          },
          "execution_count": 16
        }
      ]
    },
    {
      "cell_type": "code",
      "metadata": {
        "id": "HIdALokRcKOR",
        "colab_type": "code",
        "outputId": "dff42e89-7324-4f60-b53c-da8f73ae23ff",
        "colab": {
          "base_uri": "https://localhost:8080/",
          "height": 1000
        }
      },
      "source": [
        "model.layers[1].get_weights()"
      ],
      "execution_count": 17,
      "outputs": [
        {
          "output_type": "execute_result",
          "data": {
            "text/plain": [
              "[array([[[[ 0.00179717, -0.06099901, -0.07202639, ..., -0.05109732,\n",
              "            0.01522362, -0.01884332],\n",
              "          [-0.06485005,  0.04344539, -0.067036  , ...,  0.01084424,\n",
              "           -0.04120877, -0.02909243],\n",
              "          [-0.01482029, -0.01788675,  0.05067592, ..., -0.05239996,\n",
              "            0.02101992, -0.00418487],\n",
              "          ...,\n",
              "          [-0.08075876, -0.03125845,  0.13476259, ...,  0.05902955,\n",
              "            0.10118913, -0.00207371],\n",
              "          [-0.04322373, -0.0424989 ,  0.13104372, ...,  0.10878263,\n",
              "            0.0256284 , -0.07303414],\n",
              "          [ 0.1003048 , -0.01841143,  0.00931377, ...,  0.141051  ,\n",
              "           -0.0896304 , -0.08592809]],\n",
              " \n",
              "         [[-0.02997454, -0.07765147,  0.10120033, ...,  0.01394807,\n",
              "            0.08399837,  0.08786262],\n",
              "          [-0.09033016, -0.00613515,  0.0763483 , ...,  0.04919833,\n",
              "            0.08751801, -0.01918472],\n",
              "          [-0.02564424,  0.02368374, -0.03882422, ...,  0.08710433,\n",
              "            0.03963255,  0.02085013],\n",
              "          ...,\n",
              "          [ 0.0666109 , -0.02461067,  0.04480558, ...,  0.11512335,\n",
              "           -0.03257534,  0.00196861],\n",
              "          [-0.0575859 , -0.089747  ,  0.1371384 , ..., -0.07279927,\n",
              "           -0.01868336, -0.01773964],\n",
              "          [ 0.00282825, -0.08461605,  0.02910795, ...,  0.01084907,\n",
              "           -0.06630544,  0.035312  ]],\n",
              " \n",
              "         [[-0.07115893, -0.00372143,  0.00898438, ..., -0.05129808,\n",
              "           -0.04686956, -0.08196964],\n",
              "          [-0.02788736,  0.03113211,  0.09042987, ...,  0.05970063,\n",
              "            0.02440987,  0.07341412],\n",
              "          [ 0.01344925, -0.00312693,  0.00729146, ..., -0.00862138,\n",
              "           -0.08212712, -0.09163531],\n",
              "          ...,\n",
              "          [ 0.07038757, -0.02410214,  0.11667968, ...,  0.05659674,\n",
              "           -0.07429055,  0.09224556],\n",
              "          [-0.02934459, -0.06826834,  0.11357869, ...,  0.02082485,\n",
              "            0.0212777 , -0.040527  ],\n",
              "          [ 0.13227566,  0.01406518,  0.01687655, ...,  0.14787187,\n",
              "            0.04894281,  0.04895102]]],\n",
              " \n",
              " \n",
              "        [[[-0.08668438, -0.0260087 ,  0.08603903, ..., -0.00125153,\n",
              "            0.00066   , -0.08774473],\n",
              "          [ 0.07011746, -0.08833359, -0.0547059 , ...,  0.00576369,\n",
              "           -0.06678392, -0.03807492],\n",
              "          [-0.05749174, -0.00653011,  0.07016289, ...,  0.0884982 ,\n",
              "            0.03393711, -0.09784338],\n",
              "          ...,\n",
              "          [-0.01258761, -0.03198432,  0.1147633 , ...,  0.08388742,\n",
              "           -0.01878566, -0.00638834],\n",
              "          [ 0.01317568,  0.0843541 ,  0.01744403, ...,  0.01181403,\n",
              "           -0.04101927,  0.05412308],\n",
              "          [-0.03588704,  0.08544526,  0.17570437, ...,  0.12607116,\n",
              "           -0.09260509, -0.0151394 ]],\n",
              " \n",
              "         [[-0.08476222,  0.03428427,  0.04905939, ...,  0.09965111,\n",
              "            0.05531954,  0.0505901 ],\n",
              "          [-0.0605582 , -0.07166999, -0.03357016, ..., -0.02468936,\n",
              "            0.05159978, -0.05827928],\n",
              "          [-0.022912  ,  0.05213948, -0.04581536, ...,  0.00747356,\n",
              "           -0.0660504 , -0.02713454],\n",
              "          ...,\n",
              "          [ 0.02147737, -0.01611248, -0.02481808, ...,  0.10006334,\n",
              "            0.05111137, -0.00494168],\n",
              "          [-0.04972399, -0.02623775, -0.06614433, ..., -0.03260249,\n",
              "            0.05997646,  0.00490961],\n",
              "          [-0.01883918,  0.09483169,  0.02407838, ..., -0.01286423,\n",
              "            0.0928213 , -0.07280479]],\n",
              " \n",
              "         [[-0.01410733,  0.06111759,  0.07270392, ...,  0.03605535,\n",
              "            0.08891882,  0.0426482 ],\n",
              "          [-0.07511196,  0.01038164,  0.04531748, ..., -0.03986249,\n",
              "           -0.08430374, -0.0402202 ],\n",
              "          [-0.07798841,  0.07554565,  0.04876649, ...,  0.00991084,\n",
              "            0.00365502, -0.09747758],\n",
              "          ...,\n",
              "          [-0.03669374,  0.03069369,  0.1393354 , ..., -0.02667319,\n",
              "           -0.00422819,  0.03827644],\n",
              "          [ 0.03004579, -0.00484201,  0.12756383, ..., -0.07526172,\n",
              "            0.05473529,  0.03516089],\n",
              "          [-0.05521436, -0.06605226,  0.05870016, ...,  0.0180793 ,\n",
              "           -0.05486235, -0.02554695]]],\n",
              " \n",
              " \n",
              "        [[[ 0.06228472,  0.05034632,  0.00822049, ..., -0.03506803,\n",
              "            0.04645584,  0.00560364],\n",
              "          [-0.04528994, -0.01455299,  0.0027816 , ..., -0.02880806,\n",
              "            0.02115423,  0.09820359],\n",
              "          [ 0.08768117,  0.06132191, -0.08688679, ..., -0.06162922,\n",
              "           -0.06450933, -0.04869628],\n",
              "          ...,\n",
              "          [ 0.03528511, -0.03191646,  0.09423851, ..., -0.06019134,\n",
              "            0.04854055, -0.01233977],\n",
              "          [ 0.04281816,  0.03500676,  0.0402613 , ...,  0.07426652,\n",
              "           -0.08281977, -0.09890828],\n",
              "          [ 0.01861006,  0.08534439,  0.02156967, ..., -0.04996147,\n",
              "           -0.08670133,  0.02306851]],\n",
              " \n",
              "         [[-0.05094505, -0.01535587,  0.09633595, ...,  0.08405766,\n",
              "            0.03359761,  0.04225537],\n",
              "          [-0.08081089, -0.03167749, -0.0632753 , ...,  0.06308907,\n",
              "            0.0054319 ,  0.0255277 ],\n",
              "          [ 0.09380001,  0.03861963, -0.00682038, ...,  0.01896674,\n",
              "            0.00122285, -0.07071882],\n",
              "          ...,\n",
              "          [-0.05024389,  0.01218402,  0.04662742, ..., -0.05063442,\n",
              "            0.08446375, -0.02596273],\n",
              "          [ 0.08800357,  0.0666393 ,  0.04996618, ...,  0.00895289,\n",
              "           -0.00725525, -0.06057362],\n",
              "          [ 0.04180884, -0.10092247,  0.16598797, ...,  0.09314618,\n",
              "           -0.00513722,  0.03286292]],\n",
              " \n",
              "         [[ 0.05615377, -0.09879483, -0.03859701, ...,  0.07858238,\n",
              "            0.10164764, -0.02730439],\n",
              "          [-0.00810004, -0.05038295,  0.09817636, ..., -0.08774205,\n",
              "            0.01138616, -0.0991027 ],\n",
              "          [ 0.01316472, -0.09708685, -0.09343838, ..., -0.05048493,\n",
              "           -0.04781776,  0.02421309],\n",
              "          ...,\n",
              "          [-0.0489578 ,  0.02785821,  0.12016332, ...,  0.09467331,\n",
              "            0.00716468, -0.01086201],\n",
              "          [-0.03472038,  0.02124626, -0.06316765, ..., -0.00960003,\n",
              "            0.04184264,  0.05003768],\n",
              "          [-0.00056514,  0.0253739 ,  0.05441977, ...,  0.00655241,\n",
              "           -0.01641367,  0.03215523]]]], dtype=float32),\n",
              " array([ 0.00531356, -0.00367841, -0.01837076,  0.00399901, -0.01736461,\n",
              "        -0.00611724,  0.00440431,  0.00019065, -0.01123894,  0.01474063,\n",
              "        -0.01151194, -0.00364951,  0.06317679, -0.00608567,  0.02792235,\n",
              "         0.01189038,  0.01935528,  0.00326601, -0.00433117, -0.00530565,\n",
              "        -0.00522887,  0.00075942,  0.00847002, -0.01947787, -0.00847229,\n",
              "        -0.00187785, -0.01540701,  0.0029168 ,  0.00535697, -0.01347298,\n",
              "         0.00723494,  0.01022995], dtype=float32)]"
            ]
          },
          "metadata": {
            "tags": []
          },
          "execution_count": 17
        }
      ]
    },
    {
      "cell_type": "code",
      "metadata": {
        "id": "1k8txtU_c73E",
        "colab_type": "code",
        "outputId": "993a230c-49a0-4ae4-f085-be723a297aa1",
        "colab": {
          "base_uri": "https://localhost:8080/",
          "height": 799
        }
      },
      "source": [
        "model.layers[5].get_weights()"
      ],
      "execution_count": 18,
      "outputs": [
        {
          "output_type": "execute_result",
          "data": {
            "text/plain": [
              "[array([[-0.01503936, -0.0272405 , -0.03441771, ...,  0.02700783,\n",
              "         -0.01764573, -0.01547917],\n",
              "        [ 0.01024182, -0.00550205,  0.03074175, ...,  0.00361351,\n",
              "         -0.00835319, -0.00166696],\n",
              "        [ 0.01464822,  0.00414444,  0.02818453, ...,  0.0234035 ,\n",
              "          0.03365636,  0.02394883],\n",
              "        ...,\n",
              "        [-0.0022322 , -0.00177566, -0.02578815, ...,  0.01687063,\n",
              "         -0.0251763 , -0.00412828],\n",
              "        [ 0.03059836, -0.02527697,  0.02233634, ..., -0.01727634,\n",
              "         -0.0272133 , -0.03415852],\n",
              "        [ 0.01491937,  0.00505403,  0.00659648, ...,  0.03145714,\n",
              "          0.02783209, -0.02981105]], dtype=float32),\n",
              " array([ 4.33503743e-03, -4.77253320e-03,  7.34862778e-03, -2.37411074e-03,\n",
              "         9.58461408e-03,  2.57964851e-03,  2.82314396e-03,  1.45964290e-03,\n",
              "         4.50016320e-04,  1.37382513e-02,  5.73456474e-03, -4.26490745e-03,\n",
              "         1.59039570e-03,  4.68439329e-03, -2.21749465e-03,  1.06657797e-04,\n",
              "         6.85811508e-04, -1.01504287e-04,  1.70857795e-02, -9.72092338e-03,\n",
              "         1.08889164e-03,  6.90939790e-03,  5.22956392e-03, -1.65634241e-03,\n",
              "        -2.95279035e-03, -6.67616352e-03,  9.77901891e-06,  9.97842383e-03,\n",
              "         1.82438586e-02, -4.81878495e-04,  1.34410569e-02,  8.93337373e-03,\n",
              "         1.87534967e-03,  7.24032475e-03,  6.80766534e-03,  9.24110319e-03,\n",
              "        -1.09103452e-02,  2.71660276e-03, -3.73590831e-03, -8.66901875e-03,\n",
              "        -5.58396056e-03, -6.57297112e-03,  6.72969827e-03, -2.20870762e-03,\n",
              "        -2.53291777e-03,  2.15273052e-02,  3.52957490e-04,  8.73524509e-03,\n",
              "         1.63437724e-02, -7.03317625e-03,  4.23011510e-03,  6.42220257e-03,\n",
              "         1.20749911e-02,  2.55552735e-02, -6.31449046e-03,  3.40730720e-03,\n",
              "         1.04084685e-02, -7.21867522e-03, -8.54631513e-03,  5.12132840e-03,\n",
              "        -1.91454520e-03,  5.04183117e-03,  3.19363945e-03, -1.47658689e-02,\n",
              "        -1.06723281e-03,  1.05013559e-02, -1.00711705e-02,  1.53610518e-03,\n",
              "         3.01422086e-04, -2.02423125e-03, -2.08471809e-03, -1.10277841e-02,\n",
              "        -1.67519716e-03,  4.37164865e-03, -5.71401836e-03,  2.97549530e-03,\n",
              "        -7.61006668e-05,  1.46838529e-02,  3.12494137e-03,  1.05708884e-02,\n",
              "         1.52319216e-03,  8.54380336e-03,  8.69784225e-03,  2.21255291e-02,\n",
              "        -1.62896945e-03, -7.30240764e-03, -5.27140778e-03, -2.72362679e-03,\n",
              "        -1.04677733e-02,  1.79044332e-03,  5.81082795e-03,  2.50194073e-02,\n",
              "        -5.28612314e-03,  6.98103031e-05, -4.03272873e-03,  7.43274856e-03,\n",
              "        -7.51406047e-03, -1.73778587e-03,  7.89669435e-03,  1.87385287e-02,\n",
              "         8.34860490e-04, -1.73390238e-03,  3.99596244e-03, -1.26972178e-03,\n",
              "        -2.02606060e-03,  8.39592703e-03,  3.56163480e-03, -7.55581446e-03,\n",
              "        -1.18511484e-03, -8.53762124e-03, -4.46463982e-03,  1.82704744e-03,\n",
              "         4.05744743e-03, -1.47931059e-04,  2.57043517e-03, -6.41114002e-06,\n",
              "         1.08654320e-03,  8.94384552e-03, -8.34257621e-03, -8.91698059e-03,\n",
              "         1.42062549e-02,  1.72334686e-02,  2.24158005e-03,  1.83492294e-03,\n",
              "        -2.43117474e-03,  7.91903399e-03,  4.02950170e-03,  2.19201879e-03],\n",
              "       dtype=float32)]"
            ]
          },
          "metadata": {
            "tags": []
          },
          "execution_count": 18
        }
      ]
    },
    {
      "cell_type": "code",
      "metadata": {
        "id": "-tqvafGidFjS",
        "colab_type": "code",
        "outputId": "a84fdd12-d1ce-4275-dc7c-35603282843f",
        "colab": {
          "base_uri": "https://localhost:8080/",
          "height": 1000
        }
      },
      "source": [
        "model.layers[0].get_weights()"
      ],
      "execution_count": 19,
      "outputs": [
        {
          "output_type": "execute_result",
          "data": {
            "text/plain": [
              "[array([[[[-0.08502541, -0.07644026, -0.03349376, -0.0336299 ,\n",
              "            0.09826008,  0.07596757,  0.07149691, -0.07497087,\n",
              "           -0.03708574,  0.12184153, -0.13173255,  0.01357294,\n",
              "            0.11519819,  0.02163327, -0.11918204, -0.0035632 ,\n",
              "           -0.13009945, -0.11280235, -0.02685132,  0.04444862,\n",
              "           -0.05739536, -0.08588739, -0.08636211, -0.12039614,\n",
              "            0.00698584,  0.06984085,  0.00589239, -0.05942612,\n",
              "           -0.06777047,  0.17887451, -0.02094566,  0.01142157]],\n",
              " \n",
              "         [[-0.06201858, -0.03181161, -0.06938323,  0.10350031,\n",
              "           -0.05433197,  0.15450878, -0.03617889, -0.13197367,\n",
              "           -0.00822517,  0.18683822,  0.08567309, -0.102078  ,\n",
              "           -0.05795077, -0.13673688, -0.04852598, -0.07661442,\n",
              "           -0.06191437, -0.06269881, -0.06851996, -0.11271895,\n",
              "            0.04114001, -0.01638783,  0.06179431,  0.19020344,\n",
              "            0.05297484,  0.06744917,  0.10170902,  0.00839241,\n",
              "            0.17335048,  0.07609768, -0.0603106 ,  0.23695333]],\n",
              " \n",
              "         [[-0.0839985 , -0.01436973,  0.03982348, -0.06997817,\n",
              "           -0.1412905 ,  0.11928918, -0.03644667,  0.09908751,\n",
              "            0.01162033,  0.06796926, -0.12765193, -0.02745566,\n",
              "            0.09568021, -0.03521673, -0.07596872,  0.14233886,\n",
              "           -0.03262267,  0.0137236 , -0.01299141,  0.12903073,\n",
              "           -0.10641226,  0.05486356, -0.10963922,  0.19882496,\n",
              "            0.0710982 ,  0.0537749 , -0.03699994, -0.09530149,\n",
              "            0.05645323,  0.12930582,  0.0636149 ,  0.14370602]]],\n",
              " \n",
              " \n",
              "        [[[ 0.03193399,  0.11577555, -0.01956254,  0.03763788,\n",
              "           -0.14234516,  0.07902632,  0.01824439, -0.02604034,\n",
              "           -0.04637351,  0.24308927, -0.13890731,  0.13253815,\n",
              "            0.03631553, -0.05630544,  0.04207398, -0.03664466,\n",
              "            0.06059942,  0.13932654, -0.01783231,  0.08652167,\n",
              "           -0.0707746 ,  0.02928261, -0.066753  ,  0.08167251,\n",
              "            0.12521547,  0.18195342,  0.04367744,  0.03197797,\n",
              "            0.04905841,  0.18703096,  0.14633754,  0.26107523]],\n",
              " \n",
              "         [[-0.12979808, -0.0505529 , -0.05197991, -0.10590089,\n",
              "           -0.08425756,  0.31057486, -0.07295819, -0.07503092,\n",
              "           -0.14029302,  0.17694339,  0.04625268,  0.01873139,\n",
              "            0.16565306,  0.11410008,  0.02852776,  0.11717905,\n",
              "            0.02327483, -0.02278947,  0.02384397, -0.01974728,\n",
              "           -0.09317966, -0.10486873,  0.1280594 , -0.00237262,\n",
              "            0.11411966,  0.24528793, -0.00613392,  0.01379007,\n",
              "            0.06985709,  0.30299947,  0.1261128 ,  0.27215293]],\n",
              " \n",
              "         [[ 0.04714502, -0.04037686,  0.18312666, -0.01004815,\n",
              "            0.03425895,  0.34371138,  0.04519547,  0.01073645,\n",
              "            0.05860951,  0.1773568 , -0.10472854,  0.01311702,\n",
              "            0.1971579 ,  0.06052908,  0.09574838,  0.00312158,\n",
              "            0.16122188, -0.09198484, -0.08048793,  0.01669501,\n",
              "           -0.00287703,  0.1378031 , -0.10159951, -0.03982019,\n",
              "           -0.0690218 ,  0.1271849 , -0.03847794, -0.01825087,\n",
              "            0.14903155,  0.24079886, -0.09812355,  0.3052206 ]]],\n",
              " \n",
              " \n",
              "        [[[ 0.10351318,  0.00954416,  0.09603489, -0.1428429 ,\n",
              "            0.12150675,  0.30180696,  0.13551852,  0.08915448,\n",
              "           -0.03533879, -0.03366165,  0.11807656, -0.06754908,\n",
              "            0.08109991, -0.03472755, -0.00811659, -0.04008047,\n",
              "            0.1407698 , -0.12156405,  0.03874056,  0.08088998,\n",
              "           -0.02168201,  0.11560112, -0.01185026,  0.07462093,\n",
              "            0.03760369,  0.1746398 ,  0.05845185, -0.12812746,\n",
              "           -0.048421  ,  0.26678556,  0.20808922,  0.02600154]],\n",
              " \n",
              "         [[-0.1184335 ,  0.05109674,  0.19179568,  0.1307004 ,\n",
              "           -0.08714077,  0.36535993,  0.14241277,  0.07281158,\n",
              "            0.05874902,  0.00325238, -0.09335204, -0.09604252,\n",
              "            0.02487865, -0.1195087 ,  0.1059107 , -0.09139675,\n",
              "           -0.0948981 ,  0.08642   , -0.12215613, -0.12191097,\n",
              "            0.1144256 ,  0.04717274,  0.06242914, -0.05384511,\n",
              "           -0.04145791,  0.07803509,  0.07619797, -0.05231149,\n",
              "           -0.10120679,  0.25738716,  0.17537093,  0.259933  ]],\n",
              " \n",
              "         [[-0.10060668, -0.14072461, -0.06674291,  0.11298732,\n",
              "           -0.06086109,  0.30997437,  0.04072774,  0.09074967,\n",
              "           -0.08428204,  0.09188257,  0.03981264, -0.10012358,\n",
              "            0.06669692, -0.06199491, -0.06168226, -0.06637584,\n",
              "           -0.09047718, -0.06598291, -0.13696104, -0.1295694 ,\n",
              "           -0.13227971,  0.02479807, -0.08174498,  0.12905473,\n",
              "           -0.08560646,  0.21093763, -0.12594776,  0.06630345,\n",
              "            0.17276765, -0.0110198 ,  0.11649931,  0.24642669]]]],\n",
              "       dtype=float32),\n",
              " array([-1.08078485e-02,  1.51516115e-02,  3.24837783e-05,  5.20152319e-03,\n",
              "        -1.72889661e-02, -5.72118151e-04,  1.28659150e-02,  8.66308715e-03,\n",
              "        -1.03178003e-03, -7.16147712e-04, -5.66592898e-05, -2.83041154e-03,\n",
              "         3.52610979e-04,  1.00677572e-02,  1.48722101e-02,  2.58742403e-02,\n",
              "         3.53712402e-03, -6.00127410e-03,  3.26692563e-04,  2.84242593e-02,\n",
              "        -2.49040499e-03, -2.13846005e-03, -8.16652272e-03, -1.81920256e-03,\n",
              "        -1.66858023e-03,  2.63429421e-04,  2.11985912e-02,  3.63470763e-02,\n",
              "         4.09399532e-03, -5.44628885e-04,  1.07051550e-04, -3.30825133e-04],\n",
              "       dtype=float32)]"
            ]
          },
          "metadata": {
            "tags": []
          },
          "execution_count": 19
        }
      ]
    },
    {
      "cell_type": "markdown",
      "metadata": {
        "id": "8aUzOh9m5sX-",
        "colab_type": "text"
      },
      "source": [
        "## Question 10"
      ]
    },
    {
      "cell_type": "markdown",
      "metadata": {
        "id": "srd-YYNH5sX-",
        "colab_type": "text"
      },
      "source": [
        "## Transfer learning\n",
        "Now we will apply this model on second dataset (5-9 digits)\n",
        "\n",
        "- fix the first convolution layers so that the weights in the convolution layers dont get updated in the process of training\n",
        "- get the second dataset\n",
        "- train the last 2 dense layers\n",
        "- predict the accuracy and loss"
      ]
    },
    {
      "cell_type": "markdown",
      "metadata": {
        "id": "KvhdH7D55sYA",
        "colab_type": "text"
      },
      "source": [
        "### Make only dense layers trainable\n",
        "- set trainalble = False for all layers other than Dense layers"
      ]
    },
    {
      "cell_type": "code",
      "metadata": {
        "colab_type": "code",
        "id": "brN7VZHFaEJ4",
        "outputId": "af173d2f-5025-4d32-8393-898babf04021",
        "colab": {
          "base_uri": "https://localhost:8080/",
          "height": 425
        }
      },
      "source": [
        "model.summary()"
      ],
      "execution_count": 20,
      "outputs": [
        {
          "output_type": "stream",
          "text": [
            "Model: \"sequential_1\"\n",
            "_________________________________________________________________\n",
            "Layer (type)                 Output Shape              Param #   \n",
            "=================================================================\n",
            "conv2d_1 (Conv2D)            (None, 26, 26, 32)        320       \n",
            "_________________________________________________________________\n",
            "conv2d_2 (Conv2D)            (None, 24, 24, 32)        9248      \n",
            "_________________________________________________________________\n",
            "max_pooling2d_1 (MaxPooling2 (None, 12, 12, 32)        0         \n",
            "_________________________________________________________________\n",
            "dropout_1 (Dropout)          (None, 12, 12, 32)        0         \n",
            "_________________________________________________________________\n",
            "flatten_1 (Flatten)          (None, 4608)              0         \n",
            "_________________________________________________________________\n",
            "dense_1 (Dense)              (None, 128)               589952    \n",
            "_________________________________________________________________\n",
            "dropout_2 (Dropout)          (None, 128)               0         \n",
            "_________________________________________________________________\n",
            "dense_2 (Dense)              (None, 5)                 645       \n",
            "=================================================================\n",
            "Total params: 600,165\n",
            "Trainable params: 600,165\n",
            "Non-trainable params: 0\n",
            "_________________________________________________________________\n"
          ],
          "name": "stdout"
        }
      ]
    },
    {
      "cell_type": "markdown",
      "metadata": {
        "id": "FYR9VGzO5sYE",
        "colab_type": "text"
      },
      "source": [
        "### Modify data\n",
        "- in your second data, class labels will start from 5 to 9 but for keras.utils.to_categorical the labels should start from 0\n",
        "- so you need to subtract 5 from train and test labels"
      ]
    },
    {
      "cell_type": "code",
      "metadata": {
        "id": "lC5W75L35sYF",
        "colab_type": "code",
        "colab": {}
      },
      "source": [
        "ytrain9 = ytrain9 - 5\n",
        "ytest9 = ytest9 - 5 "
      ],
      "execution_count": 0,
      "outputs": []
    },
    {
      "cell_type": "markdown",
      "metadata": {
        "id": "YGY3OTBt5sYG",
        "colab_type": "text"
      },
      "source": [
        "### Reshape data\n",
        "- reshape second dataset\n",
        "- To be able to use the dataset in Keras, we need 4-dims numpy arrays. \n",
        "- reshape features to pass it to a Conv2D layer\n",
        "- channel = 1\n",
        "- reshape features of first dataset only\n",
        "- do not reshape labels"
      ]
    },
    {
      "cell_type": "code",
      "metadata": {
        "id": "0V7RUlRD5sYH",
        "colab_type": "code",
        "colab": {}
      },
      "source": [
        "xtrain9 = X_train_5_9.reshape(xtrain9.shape[0], 28, 28, 1)\n",
        "xtest9 = X_test_5_9.reshape(xtest9.shape[0], 28, 28, 1)"
      ],
      "execution_count": 0,
      "outputs": []
    },
    {
      "cell_type": "markdown",
      "metadata": {
        "id": "c7omqMQH5sYJ",
        "colab_type": "text"
      },
      "source": [
        "### Normalize data\n",
        "- normalize second data\n",
        "- we must normalize our data as it is always required in neural network models\n",
        "- we can achieve this by dividing the RGB codes to 255 (which is the maximum RGB code minus the minimum RGB code)\n",
        "- normalize X_train and X_test\n",
        "- make sure that the values are float so that we can get decimal points after division"
      ]
    },
    {
      "cell_type": "code",
      "metadata": {
        "id": "PEFYNHRp5sYJ",
        "colab_type": "code",
        "colab": {}
      },
      "source": [
        "xtrain9 = xtrain9.astype('float32')\n",
        "xtest9 = xtest9.astype('float32')\n",
        "# Normalize by dividing by 255\n",
        "xtrain9 /= 255\n",
        "xtest9 /= 255"
      ],
      "execution_count": 0,
      "outputs": []
    },
    {
      "cell_type": "markdown",
      "metadata": {
        "id": "0OfdlF655sYM",
        "colab_type": "text"
      },
      "source": [
        "### Print shape of data and number of images\n",
        "- print shape of X_train\n",
        "- print number of images in X_train\n",
        "- print number of images in X_test"
      ]
    },
    {
      "cell_type": "code",
      "metadata": {
        "id": "bZEkCQ-P5sYO",
        "colab_type": "code",
        "outputId": "f3bcb5a6-c2e1-4b1f-b987-8c147af5ba8e",
        "colab": {
          "base_uri": "https://localhost:8080/",
          "height": 153
        }
      },
      "source": [
        "print('xtrain4:', xtrain4.shape)\n",
        "print('ytrain4:', ytrain4.shape)\n",
        "print('xtest4:', xtest4.shape)\n",
        "print('ytest4:', ytest4.shape)\n",
        "print('xtrain9:', xtrain9.shape)\n",
        "print('ytrain9:', ytrain9.shape)\n",
        "print('xtest9:', xtest9.shape)\n",
        "print('ytest9:', ytest9.shape)"
      ],
      "execution_count": 24,
      "outputs": [
        {
          "output_type": "stream",
          "text": [
            "xtrain4: (30596, 28, 28, 1)\n",
            "ytrain4: (30596, 5)\n",
            "xtest4: (5139, 28, 28, 1)\n",
            "ytest4: (5139, 5)\n",
            "xtrain9: (29404, 28, 28, 1)\n",
            "ytrain9: (29404,)\n",
            "xtest9: (4861, 28, 28, 1)\n",
            "ytest9: (4861,)\n"
          ],
          "name": "stdout"
        }
      ]
    },
    {
      "cell_type": "markdown",
      "metadata": {
        "id": "c_3-0Qwo5sYQ",
        "colab_type": "text"
      },
      "source": [
        "### One-hot encode the class vector\n",
        "- convert class vectors (integers) to binary class matrix\n",
        "- convert y_train and y_test\n",
        "- number of classes: 5\n",
        "- we are doing this to use categorical_crossentropy as loss\n",
        "\n",
        "Hint: you can use keras.utils.to_categorical"
      ]
    },
    {
      "cell_type": "code",
      "metadata": {
        "id": "k46Me5Re5sYR",
        "colab_type": "code",
        "colab": {}
      },
      "source": [
        "ytrain9 = keras.utils.to_categorical(ytrain9, num_classes)\n",
        "ytest9 = keras.utils.to_categorical(ytest9, num_classes)"
      ],
      "execution_count": 0,
      "outputs": []
    },
    {
      "cell_type": "markdown",
      "metadata": {
        "id": "D9xEoW515sYS",
        "colab_type": "text"
      },
      "source": [
        "### Fit the model\n",
        "- give train data - features and labels\n",
        "- batch size: 128\n",
        "- epochs: 10\n",
        "- give validation data - features and labels"
      ]
    },
    {
      "cell_type": "code",
      "metadata": {
        "id": "B6f-XAc-5sYT",
        "colab_type": "code",
        "colab": {}
      },
      "source": [
        "for layer in model.layers[:5:]:\n",
        "    layer.trainable = False"
      ],
      "execution_count": 0,
      "outputs": []
    },
    {
      "cell_type": "code",
      "metadata": {
        "id": "GW_u0mi9gWy_",
        "colab_type": "code",
        "outputId": "6e6934a0-609f-4100-d304-a2e6ac2a9a8c",
        "colab": {
          "base_uri": "https://localhost:8080/",
          "height": 391
        }
      },
      "source": [
        "model.fit(xtrain9, ytrain9, \n",
        "          batch_size=128, nb_epoch=10, verbose=1, validation_data=(xtest9, ytest9))"
      ],
      "execution_count": 27,
      "outputs": [
        {
          "output_type": "stream",
          "text": [
            "Train on 29404 samples, validate on 4861 samples\n",
            "Epoch 1/10\n",
            "29404/29404 [==============================] - 3s 97us/step - loss: 0.6079 - acc: 0.7915 - val_loss: 0.2269 - val_acc: 0.9264\n",
            "Epoch 2/10\n",
            "29404/29404 [==============================] - 3s 94us/step - loss: 0.3172 - acc: 0.8953 - val_loss: 0.1709 - val_acc: 0.9465\n",
            "Epoch 3/10\n",
            "29404/29404 [==============================] - 3s 95us/step - loss: 0.2666 - acc: 0.9143 - val_loss: 0.1435 - val_acc: 0.9566\n",
            "Epoch 4/10\n",
            "29404/29404 [==============================] - 3s 95us/step - loss: 0.2406 - acc: 0.9244 - val_loss: 0.1307 - val_acc: 0.9562\n",
            "Epoch 5/10\n",
            "29404/29404 [==============================] - 3s 95us/step - loss: 0.2186 - acc: 0.9297 - val_loss: 0.1174 - val_acc: 0.9615\n",
            "Epoch 6/10\n",
            "29404/29404 [==============================] - 3s 95us/step - loss: 0.1993 - acc: 0.9355 - val_loss: 0.1083 - val_acc: 0.9644\n",
            "Epoch 7/10\n",
            "29404/29404 [==============================] - 3s 95us/step - loss: 0.1917 - acc: 0.9389 - val_loss: 0.1029 - val_acc: 0.9687\n",
            "Epoch 8/10\n",
            "29404/29404 [==============================] - 3s 95us/step - loss: 0.1828 - acc: 0.9407 - val_loss: 0.0969 - val_acc: 0.9693\n",
            "Epoch 9/10\n",
            "29404/29404 [==============================] - 3s 95us/step - loss: 0.1721 - acc: 0.9456 - val_loss: 0.0926 - val_acc: 0.9687\n",
            "Epoch 10/10\n",
            "29404/29404 [==============================] - 3s 94us/step - loss: 0.1712 - acc: 0.9455 - val_loss: 0.0898 - val_acc: 0.9704\n"
          ],
          "name": "stdout"
        },
        {
          "output_type": "execute_result",
          "data": {
            "text/plain": [
              "<keras.callbacks.History at 0x7fe6b0b78f98>"
            ]
          },
          "metadata": {
            "tags": []
          },
          "execution_count": 27
        }
      ]
    },
    {
      "cell_type": "markdown",
      "metadata": {
        "id": "85ginrII5sYV",
        "colab_type": "text"
      },
      "source": [
        "### Evaluate model\n",
        "- evaluate your model and get accuracy\n",
        "- use test features and labels"
      ]
    },
    {
      "cell_type": "code",
      "metadata": {
        "id": "k11-vrsm5sYW",
        "colab_type": "code",
        "outputId": "57963890-41b1-41ef-fcf9-79d6761c5a56",
        "colab": {
          "base_uri": "https://localhost:8080/",
          "height": 1000
        }
      },
      "source": [
        "model.layers[0].get_weights()"
      ],
      "execution_count": 28,
      "outputs": [
        {
          "output_type": "execute_result",
          "data": {
            "text/plain": [
              "[array([[[[-0.08488155, -0.07436161, -0.04495415, -0.03594651,\n",
              "            0.09761667,  0.03770594,  0.07242732, -0.08008096,\n",
              "           -0.03727945,  0.12522943, -0.13162762,  0.01497757,\n",
              "            0.10914627,  0.02210459, -0.11930399,  0.00996439,\n",
              "           -0.12827645, -0.11267703, -0.02712845,  0.05303518,\n",
              "           -0.05746094, -0.08470874, -0.0872362 , -0.12394316,\n",
              "            0.00990834,  0.06905862,  0.00153827, -0.05185685,\n",
              "           -0.0785821 ,  0.18622725, -0.02048925, -0.0023898 ]],\n",
              " \n",
              "         [[-0.06203409, -0.0316832 , -0.07437395,  0.10155006,\n",
              "           -0.05463834,  0.16354911, -0.03447207, -0.12786634,\n",
              "           -0.00843297,  0.20592126,  0.08621688, -0.10016958,\n",
              "           -0.04804432, -0.13661355, -0.05328355, -0.06757134,\n",
              "           -0.05998512, -0.062504  , -0.06852524, -0.09913328,\n",
              "            0.04119469, -0.01152885,  0.06081836,  0.19680287,\n",
              "            0.05466634,  0.09654499,  0.10336398,  0.01093021,\n",
              "            0.1741676 ,  0.11432351, -0.04806995,  0.26447615]],\n",
              " \n",
              "         [[-0.08402474, -0.01505375,  0.04353716, -0.07251935,\n",
              "           -0.14132045,  0.1584543 , -0.03587725,  0.11197855,\n",
              "            0.01280038,  0.09589328, -0.12758145, -0.02735986,\n",
              "            0.12093468, -0.03489859, -0.08093324,  0.14412402,\n",
              "           -0.02409113,  0.01380019, -0.01307802,  0.13804863,\n",
              "           -0.10641942,  0.06122539, -0.11000463,  0.21174407,\n",
              "            0.07210813,  0.09518602, -0.03037117, -0.09981073,\n",
              "            0.06779821,  0.17554252,  0.07478622,  0.19852756]]],\n",
              " \n",
              " \n",
              "        [[[ 0.03213038,  0.11511495, -0.01811781,  0.03908763,\n",
              "           -0.14170767,  0.11181084,  0.01752146, -0.03147202,\n",
              "           -0.04637321,  0.27015474, -0.13944249,  0.13219942,\n",
              "            0.04936224, -0.05689282,  0.04477087, -0.02798595,\n",
              "            0.06547228,  0.14037643, -0.01816583,  0.08541942,\n",
              "           -0.07121586,  0.03376488, -0.06847624,  0.08368907,\n",
              "            0.13789475,  0.22242889,  0.04744376,  0.03286067,\n",
              "            0.04188098,  0.2505511 ,  0.16283332,  0.29481554]],\n",
              " \n",
              "         [[-0.12981471, -0.05209377, -0.04071479, -0.10419335,\n",
              "           -0.08414169,  0.39528632, -0.07043033, -0.0702953 ,\n",
              "           -0.14034486,  0.22110935,  0.046911  ,  0.01958527,\n",
              "            0.19356214,  0.11346429,  0.02654275,  0.119627  ,\n",
              "            0.02949836, -0.02218592,  0.02396207, -0.01933154,\n",
              "           -0.0932157 , -0.09352197,  0.12589188,  0.01255502,\n",
              "            0.12440272,  0.31301537,  0.00164801,  0.01286384,\n",
              "            0.07659689,  0.39515585,  0.15276583,  0.34761372]],\n",
              " \n",
              "         [[ 0.04709513, -0.04119308,  0.20064199, -0.00931175,\n",
              "            0.03428139,  0.44334647,  0.04929528,  0.02229044,\n",
              "            0.0587936 ,  0.22548169, -0.10430387,  0.01333648,\n",
              "            0.23411852,  0.06023158,  0.09472655,  0.00307419,\n",
              "            0.17638163, -0.09182573, -0.08048001,  0.01452131,\n",
              "           -0.00285388,  0.14764784, -0.10201259, -0.02046909,\n",
              "           -0.05985834,  0.19617985, -0.02924683, -0.02426239,\n",
              "            0.16061509,  0.3278908 , -0.07260956,  0.39734107]]],\n",
              " \n",
              " \n",
              "        [[[ 0.10300089,  0.0108877 ,  0.11356404, -0.13340886,\n",
              "            0.1186604 ,  0.3432327 ,  0.14298216,  0.08433681,\n",
              "           -0.03534466, -0.01754482,  0.11369324, -0.06984003,\n",
              "            0.08594155, -0.03538897,  0.00409765, -0.03889552,\n",
              "            0.14715797, -0.12105608,  0.0354929 ,  0.07594343,\n",
              "           -0.02330159,  0.12855624, -0.01375558,  0.06656484,\n",
              "            0.04262968,  0.20926969,  0.06336888, -0.12829852,\n",
              "           -0.05016649,  0.30736232,  0.2287849 ,  0.0436995 ]],\n",
              " \n",
              "         [[-0.11877391,  0.05083498,  0.2167361 ,  0.14248846,\n",
              "           -0.08825552,  0.44413462,  0.15499137,  0.07252896,\n",
              "            0.05877756,  0.02290444, -0.09484267, -0.09585977,\n",
              "            0.03873888, -0.119973  ,  0.11514921, -0.09838764,\n",
              "           -0.08914183,  0.08652099, -0.12248701, -0.12656666,\n",
              "            0.11372011,  0.06031158,  0.06051226, -0.05545276,\n",
              "           -0.03479265,  0.1251187 ,  0.08297212, -0.05169383,\n",
              "           -0.09505089,  0.3104755 ,  0.20191708,  0.30106756]],\n",
              " \n",
              "         [[-0.10067578, -0.14205116, -0.03821379,  0.12276673,\n",
              "           -0.06106613,  0.38689524,  0.05111559,  0.09282004,\n",
              "           -0.08408801,  0.11213683,  0.03955207, -0.0999664 ,\n",
              "            0.0816207 , -0.06210393, -0.05576125, -0.06995263,\n",
              "           -0.07788294, -0.06597272, -0.13696457, -0.13598844,\n",
              "           -0.13230611,  0.03472633, -0.08206225,  0.12885903,\n",
              "           -0.07754284,  0.24902411, -0.11950159,  0.06424557,\n",
              "            0.17718631,  0.03284387,  0.14164852,  0.28905517]]]],\n",
              "       dtype=float32),\n",
              " array([-1.1752471e-02,  3.4295514e-02,  5.1604058e-03,  2.3081901e-02,\n",
              "        -2.4857732e-02, -4.3847125e-02,  4.9625058e-03,  1.8064070e-02,\n",
              "         2.5293347e-03, -1.4359079e-02, -7.6303282e-03, -4.1863965e-03,\n",
              "        -1.0991873e-02,  5.4034819e-03,  2.5716564e-02,  3.2947388e-02,\n",
              "         9.0989545e-03, -5.1485039e-03,  3.4744253e-03,  4.4722613e-02,\n",
              "        -4.3818182e-03, -1.9075181e-03, -1.0991306e-02, -2.7379131e-02,\n",
              "        -5.3503089e-05, -1.6923014e-02, -3.0422586e-04,  6.9643214e-02,\n",
              "        -9.6620811e-04, -1.5968321e-02, -2.2918654e-03, -2.0843055e-02],\n",
              "       dtype=float32)]"
            ]
          },
          "metadata": {
            "tags": []
          },
          "execution_count": 28
        }
      ]
    },
    {
      "cell_type": "code",
      "metadata": {
        "id": "M4pjijx3hJ4R",
        "colab_type": "code",
        "outputId": "9115bdde-eb97-4733-b44d-d2e6dee1fd86",
        "colab": {
          "base_uri": "https://localhost:8080/",
          "height": 1000
        }
      },
      "source": [
        "model.layers[0].get_weights()"
      ],
      "execution_count": 29,
      "outputs": [
        {
          "output_type": "execute_result",
          "data": {
            "text/plain": [
              "[array([[[[-0.08488155, -0.07436161, -0.04495415, -0.03594651,\n",
              "            0.09761667,  0.03770594,  0.07242732, -0.08008096,\n",
              "           -0.03727945,  0.12522943, -0.13162762,  0.01497757,\n",
              "            0.10914627,  0.02210459, -0.11930399,  0.00996439,\n",
              "           -0.12827645, -0.11267703, -0.02712845,  0.05303518,\n",
              "           -0.05746094, -0.08470874, -0.0872362 , -0.12394316,\n",
              "            0.00990834,  0.06905862,  0.00153827, -0.05185685,\n",
              "           -0.0785821 ,  0.18622725, -0.02048925, -0.0023898 ]],\n",
              " \n",
              "         [[-0.06203409, -0.0316832 , -0.07437395,  0.10155006,\n",
              "           -0.05463834,  0.16354911, -0.03447207, -0.12786634,\n",
              "           -0.00843297,  0.20592126,  0.08621688, -0.10016958,\n",
              "           -0.04804432, -0.13661355, -0.05328355, -0.06757134,\n",
              "           -0.05998512, -0.062504  , -0.06852524, -0.09913328,\n",
              "            0.04119469, -0.01152885,  0.06081836,  0.19680287,\n",
              "            0.05466634,  0.09654499,  0.10336398,  0.01093021,\n",
              "            0.1741676 ,  0.11432351, -0.04806995,  0.26447615]],\n",
              " \n",
              "         [[-0.08402474, -0.01505375,  0.04353716, -0.07251935,\n",
              "           -0.14132045,  0.1584543 , -0.03587725,  0.11197855,\n",
              "            0.01280038,  0.09589328, -0.12758145, -0.02735986,\n",
              "            0.12093468, -0.03489859, -0.08093324,  0.14412402,\n",
              "           -0.02409113,  0.01380019, -0.01307802,  0.13804863,\n",
              "           -0.10641942,  0.06122539, -0.11000463,  0.21174407,\n",
              "            0.07210813,  0.09518602, -0.03037117, -0.09981073,\n",
              "            0.06779821,  0.17554252,  0.07478622,  0.19852756]]],\n",
              " \n",
              " \n",
              "        [[[ 0.03213038,  0.11511495, -0.01811781,  0.03908763,\n",
              "           -0.14170767,  0.11181084,  0.01752146, -0.03147202,\n",
              "           -0.04637321,  0.27015474, -0.13944249,  0.13219942,\n",
              "            0.04936224, -0.05689282,  0.04477087, -0.02798595,\n",
              "            0.06547228,  0.14037643, -0.01816583,  0.08541942,\n",
              "           -0.07121586,  0.03376488, -0.06847624,  0.08368907,\n",
              "            0.13789475,  0.22242889,  0.04744376,  0.03286067,\n",
              "            0.04188098,  0.2505511 ,  0.16283332,  0.29481554]],\n",
              " \n",
              "         [[-0.12981471, -0.05209377, -0.04071479, -0.10419335,\n",
              "           -0.08414169,  0.39528632, -0.07043033, -0.0702953 ,\n",
              "           -0.14034486,  0.22110935,  0.046911  ,  0.01958527,\n",
              "            0.19356214,  0.11346429,  0.02654275,  0.119627  ,\n",
              "            0.02949836, -0.02218592,  0.02396207, -0.01933154,\n",
              "           -0.0932157 , -0.09352197,  0.12589188,  0.01255502,\n",
              "            0.12440272,  0.31301537,  0.00164801,  0.01286384,\n",
              "            0.07659689,  0.39515585,  0.15276583,  0.34761372]],\n",
              " \n",
              "         [[ 0.04709513, -0.04119308,  0.20064199, -0.00931175,\n",
              "            0.03428139,  0.44334647,  0.04929528,  0.02229044,\n",
              "            0.0587936 ,  0.22548169, -0.10430387,  0.01333648,\n",
              "            0.23411852,  0.06023158,  0.09472655,  0.00307419,\n",
              "            0.17638163, -0.09182573, -0.08048001,  0.01452131,\n",
              "           -0.00285388,  0.14764784, -0.10201259, -0.02046909,\n",
              "           -0.05985834,  0.19617985, -0.02924683, -0.02426239,\n",
              "            0.16061509,  0.3278908 , -0.07260956,  0.39734107]]],\n",
              " \n",
              " \n",
              "        [[[ 0.10300089,  0.0108877 ,  0.11356404, -0.13340886,\n",
              "            0.1186604 ,  0.3432327 ,  0.14298216,  0.08433681,\n",
              "           -0.03534466, -0.01754482,  0.11369324, -0.06984003,\n",
              "            0.08594155, -0.03538897,  0.00409765, -0.03889552,\n",
              "            0.14715797, -0.12105608,  0.0354929 ,  0.07594343,\n",
              "           -0.02330159,  0.12855624, -0.01375558,  0.06656484,\n",
              "            0.04262968,  0.20926969,  0.06336888, -0.12829852,\n",
              "           -0.05016649,  0.30736232,  0.2287849 ,  0.0436995 ]],\n",
              " \n",
              "         [[-0.11877391,  0.05083498,  0.2167361 ,  0.14248846,\n",
              "           -0.08825552,  0.44413462,  0.15499137,  0.07252896,\n",
              "            0.05877756,  0.02290444, -0.09484267, -0.09585977,\n",
              "            0.03873888, -0.119973  ,  0.11514921, -0.09838764,\n",
              "           -0.08914183,  0.08652099, -0.12248701, -0.12656666,\n",
              "            0.11372011,  0.06031158,  0.06051226, -0.05545276,\n",
              "           -0.03479265,  0.1251187 ,  0.08297212, -0.05169383,\n",
              "           -0.09505089,  0.3104755 ,  0.20191708,  0.30106756]],\n",
              " \n",
              "         [[-0.10067578, -0.14205116, -0.03821379,  0.12276673,\n",
              "           -0.06106613,  0.38689524,  0.05111559,  0.09282004,\n",
              "           -0.08408801,  0.11213683,  0.03955207, -0.0999664 ,\n",
              "            0.0816207 , -0.06210393, -0.05576125, -0.06995263,\n",
              "           -0.07788294, -0.06597272, -0.13696457, -0.13598844,\n",
              "           -0.13230611,  0.03472633, -0.08206225,  0.12885903,\n",
              "           -0.07754284,  0.24902411, -0.11950159,  0.06424557,\n",
              "            0.17718631,  0.03284387,  0.14164852,  0.28905517]]]],\n",
              "       dtype=float32),\n",
              " array([-1.1752471e-02,  3.4295514e-02,  5.1604058e-03,  2.3081901e-02,\n",
              "        -2.4857732e-02, -4.3847125e-02,  4.9625058e-03,  1.8064070e-02,\n",
              "         2.5293347e-03, -1.4359079e-02, -7.6303282e-03, -4.1863965e-03,\n",
              "        -1.0991873e-02,  5.4034819e-03,  2.5716564e-02,  3.2947388e-02,\n",
              "         9.0989545e-03, -5.1485039e-03,  3.4744253e-03,  4.4722613e-02,\n",
              "        -4.3818182e-03, -1.9075181e-03, -1.0991306e-02, -2.7379131e-02,\n",
              "        -5.3503089e-05, -1.6923014e-02, -3.0422586e-04,  6.9643214e-02,\n",
              "        -9.6620811e-04, -1.5968321e-02, -2.2918654e-03, -2.0843055e-02],\n",
              "       dtype=float32)]"
            ]
          },
          "metadata": {
            "tags": []
          },
          "execution_count": 29
        }
      ]
    },
    {
      "cell_type": "code",
      "metadata": {
        "id": "FOvMkMWyhSUe",
        "colab_type": "code",
        "outputId": "80792949-c984-493b-cd05-4f56ebf5b9f2",
        "colab": {
          "base_uri": "https://localhost:8080/",
          "height": 68
        }
      },
      "source": [
        "scores = model.evaluate(xtest9, ytest9, verbose=0)\n",
        "print(\"Scores: \", scores)\n",
        "print(\"\\n Baseline Error: %.2f%%\" % (100-scores[1]*100))"
      ],
      "execution_count": 30,
      "outputs": [
        {
          "output_type": "stream",
          "text": [
            "Scores:  [0.08984766336496267, 0.9703764658826683]\n",
            "\n",
            " Baseline Error: 2.96%\n"
          ],
          "name": "stdout"
        }
      ]
    },
    {
      "cell_type": "markdown",
      "metadata": {
        "id": "dTNhSDqn5sYY",
        "colab_type": "text"
      },
      "source": [
        "-----------------------------------------------------------------------------"
      ]
    },
    {
      "cell_type": "markdown",
      "metadata": {
        "colab_type": "text",
        "id": "FU-HwvIdH0M-"
      },
      "source": [
        "# Sentiment analysis \n",
        "\n",
        "The objective of the second problem is to perform Sentiment analysis from the tweets collected from the users targeted at various mobile devices.\n",
        "Based on the tweet posted by a user (text), we will classify if the sentiment of the user targeted at a particular mobile device is positive or not."
      ]
    },
    {
      "cell_type": "markdown",
      "metadata": {
        "id": "aIWWfNks5sYa",
        "colab_type": "text"
      },
      "source": [
        "## Question 1"
      ]
    },
    {
      "cell_type": "markdown",
      "metadata": {
        "colab_type": "text",
        "id": "nAQDiZHRH0M_"
      },
      "source": [
        "### Read the data\n",
        "- read tweets.csv\n",
        "- use latin encoding if it gives encoding error while loading"
      ]
    },
    {
      "cell_type": "code",
      "metadata": {
        "colab_type": "code",
        "id": "3eXGIe-SH0NA",
        "outputId": "203c7b68-dbed-4359-fbf0-3f9c985f2eff",
        "colab": {
          "base_uri": "https://localhost:8080/",
          "height": 34
        }
      },
      "source": [
        "from google.colab import drive\n",
        "drive.mount('/content/drive')\n",
        "\n",
        "import pandas as pd\n",
        "\n",
        "data = pd.read_csv('/content/drive/My Drive/AIML_NoteBooks/LabAndAssignments/R8/tweets.csv',encoding ='latin1')"
      ],
      "execution_count": 33,
      "outputs": [
        {
          "output_type": "stream",
          "text": [
            "Drive already mounted at /content/drive; to attempt to forcibly remount, call drive.mount(\"/content/drive\", force_remount=True).\n"
          ],
          "name": "stdout"
        }
      ]
    },
    {
      "cell_type": "markdown",
      "metadata": {
        "id": "39pqw0aE5sYe",
        "colab_type": "text"
      },
      "source": [
        "### Drop null values\n",
        "- drop all the rows with null values"
      ]
    },
    {
      "cell_type": "code",
      "metadata": {
        "id": "BF_69oyI5sYf",
        "colab_type": "code",
        "outputId": "000d879b-31f5-4887-b8bb-5b271ca3dcf8",
        "colab": {
          "base_uri": "https://localhost:8080/",
          "height": 34
        }
      },
      "source": [
        "data.isnull().values.any()"
      ],
      "execution_count": 34,
      "outputs": [
        {
          "output_type": "execute_result",
          "data": {
            "text/plain": [
              "True"
            ]
          },
          "metadata": {
            "tags": []
          },
          "execution_count": 34
        }
      ]
    },
    {
      "cell_type": "code",
      "metadata": {
        "id": "5Cs0QdkMjIMj",
        "colab_type": "code",
        "outputId": "1640c7e1-ba85-4fef-f90d-18fef6a86ca6",
        "colab": {
          "base_uri": "https://localhost:8080/",
          "height": 34
        }
      },
      "source": [
        "data.isna().values.any()"
      ],
      "execution_count": 35,
      "outputs": [
        {
          "output_type": "execute_result",
          "data": {
            "text/plain": [
              "True"
            ]
          },
          "metadata": {
            "tags": []
          },
          "execution_count": 35
        }
      ]
    },
    {
      "cell_type": "code",
      "metadata": {
        "id": "qpfZyWiqjL48",
        "colab_type": "code",
        "colab": {}
      },
      "source": [
        "data = data.dropna()"
      ],
      "execution_count": 0,
      "outputs": []
    },
    {
      "cell_type": "code",
      "metadata": {
        "id": "AK-4dRUIjQGn",
        "colab_type": "code",
        "outputId": "a474fdc3-68d9-4b2c-ca22-4da8b1c1c7b0",
        "colab": {
          "base_uri": "https://localhost:8080/",
          "height": 34
        }
      },
      "source": [
        "data.isnull().values.any()"
      ],
      "execution_count": 37,
      "outputs": [
        {
          "output_type": "execute_result",
          "data": {
            "text/plain": [
              "False"
            ]
          },
          "metadata": {
            "tags": []
          },
          "execution_count": 37
        }
      ]
    },
    {
      "cell_type": "markdown",
      "metadata": {
        "id": "0bm4bDiy5sYg",
        "colab_type": "text"
      },
      "source": [
        "### Print the dataframe\n",
        "- print initial 5 rows of the data\n",
        "- use df.head()"
      ]
    },
    {
      "cell_type": "code",
      "metadata": {
        "scrolled": true,
        "id": "ceSlvAVa5sYh",
        "colab_type": "code",
        "outputId": "b8411769-7b8e-48c9-96bf-38fe8b6f85df",
        "colab": {
          "base_uri": "https://localhost:8080/",
          "height": 204
        }
      },
      "source": [
        "data.head(5)"
      ],
      "execution_count": 38,
      "outputs": [
        {
          "output_type": "execute_result",
          "data": {
            "text/html": [
              "<div>\n",
              "<style scoped>\n",
              "    .dataframe tbody tr th:only-of-type {\n",
              "        vertical-align: middle;\n",
              "    }\n",
              "\n",
              "    .dataframe tbody tr th {\n",
              "        vertical-align: top;\n",
              "    }\n",
              "\n",
              "    .dataframe thead th {\n",
              "        text-align: right;\n",
              "    }\n",
              "</style>\n",
              "<table border=\"1\" class=\"dataframe\">\n",
              "  <thead>\n",
              "    <tr style=\"text-align: right;\">\n",
              "      <th></th>\n",
              "      <th>tweet_text</th>\n",
              "      <th>emotion_in_tweet_is_directed_at</th>\n",
              "      <th>is_there_an_emotion_directed_at_a_brand_or_product</th>\n",
              "    </tr>\n",
              "  </thead>\n",
              "  <tbody>\n",
              "    <tr>\n",
              "      <th>0</th>\n",
              "      <td>.@wesley83 I have a 3G iPhone. After 3 hrs twe...</td>\n",
              "      <td>iPhone</td>\n",
              "      <td>Negative emotion</td>\n",
              "    </tr>\n",
              "    <tr>\n",
              "      <th>1</th>\n",
              "      <td>@jessedee Know about @fludapp ? Awesome iPad/i...</td>\n",
              "      <td>iPad or iPhone App</td>\n",
              "      <td>Positive emotion</td>\n",
              "    </tr>\n",
              "    <tr>\n",
              "      <th>2</th>\n",
              "      <td>@swonderlin Can not wait for #iPad 2 also. The...</td>\n",
              "      <td>iPad</td>\n",
              "      <td>Positive emotion</td>\n",
              "    </tr>\n",
              "    <tr>\n",
              "      <th>3</th>\n",
              "      <td>@sxsw I hope this year's festival isn't as cra...</td>\n",
              "      <td>iPad or iPhone App</td>\n",
              "      <td>Negative emotion</td>\n",
              "    </tr>\n",
              "    <tr>\n",
              "      <th>4</th>\n",
              "      <td>@sxtxstate great stuff on Fri #SXSW: Marissa M...</td>\n",
              "      <td>Google</td>\n",
              "      <td>Positive emotion</td>\n",
              "    </tr>\n",
              "  </tbody>\n",
              "</table>\n",
              "</div>"
            ],
            "text/plain": [
              "                                          tweet_text  ... is_there_an_emotion_directed_at_a_brand_or_product\n",
              "0  .@wesley83 I have a 3G iPhone. After 3 hrs twe...  ...                                   Negative emotion\n",
              "1  @jessedee Know about @fludapp ? Awesome iPad/i...  ...                                   Positive emotion\n",
              "2  @swonderlin Can not wait for #iPad 2 also. The...  ...                                   Positive emotion\n",
              "3  @sxsw I hope this year's festival isn't as cra...  ...                                   Negative emotion\n",
              "4  @sxtxstate great stuff on Fri #SXSW: Marissa M...  ...                                   Positive emotion\n",
              "\n",
              "[5 rows x 3 columns]"
            ]
          },
          "metadata": {
            "tags": []
          },
          "execution_count": 38
        }
      ]
    },
    {
      "cell_type": "markdown",
      "metadata": {
        "id": "jcWfPVqG5sYi",
        "colab_type": "text"
      },
      "source": [
        "## Question 2"
      ]
    },
    {
      "cell_type": "markdown",
      "metadata": {
        "id": "JBbAeip_5sYj",
        "colab_type": "text"
      },
      "source": [
        "### Preprocess data\n",
        "- convert all text to lowercase - use .lower()\n",
        "- select only numbers, alphabets, and #+_ from text - use re.sub()\n",
        "- strip all the text - use .strip()\n",
        "    - this is for removing extra spaces"
      ]
    },
    {
      "cell_type": "code",
      "metadata": {
        "id": "PE4Bn_YT5sYj",
        "colab_type": "code",
        "colab": {}
      },
      "source": [
        "data['tweet_text'] = data['tweet_text'].str.lower()"
      ],
      "execution_count": 0,
      "outputs": []
    },
    {
      "cell_type": "markdown",
      "metadata": {
        "id": "QlMvbtrK5sYl",
        "colab_type": "text"
      },
      "source": [
        "print dataframe"
      ]
    },
    {
      "cell_type": "code",
      "metadata": {
        "id": "afocjaUn5sYm",
        "colab_type": "code",
        "outputId": "fa44a0ac-8223-4ae0-8530-60df0f68af29",
        "colab": {
          "base_uri": "https://localhost:8080/",
          "height": 204
        }
      },
      "source": [
        "data.head(5)"
      ],
      "execution_count": 40,
      "outputs": [
        {
          "output_type": "execute_result",
          "data": {
            "text/html": [
              "<div>\n",
              "<style scoped>\n",
              "    .dataframe tbody tr th:only-of-type {\n",
              "        vertical-align: middle;\n",
              "    }\n",
              "\n",
              "    .dataframe tbody tr th {\n",
              "        vertical-align: top;\n",
              "    }\n",
              "\n",
              "    .dataframe thead th {\n",
              "        text-align: right;\n",
              "    }\n",
              "</style>\n",
              "<table border=\"1\" class=\"dataframe\">\n",
              "  <thead>\n",
              "    <tr style=\"text-align: right;\">\n",
              "      <th></th>\n",
              "      <th>tweet_text</th>\n",
              "      <th>emotion_in_tweet_is_directed_at</th>\n",
              "      <th>is_there_an_emotion_directed_at_a_brand_or_product</th>\n",
              "    </tr>\n",
              "  </thead>\n",
              "  <tbody>\n",
              "    <tr>\n",
              "      <th>0</th>\n",
              "      <td>.@wesley83 i have a 3g iphone. after 3 hrs twe...</td>\n",
              "      <td>iPhone</td>\n",
              "      <td>Negative emotion</td>\n",
              "    </tr>\n",
              "    <tr>\n",
              "      <th>1</th>\n",
              "      <td>@jessedee know about @fludapp ? awesome ipad/i...</td>\n",
              "      <td>iPad or iPhone App</td>\n",
              "      <td>Positive emotion</td>\n",
              "    </tr>\n",
              "    <tr>\n",
              "      <th>2</th>\n",
              "      <td>@swonderlin can not wait for #ipad 2 also. the...</td>\n",
              "      <td>iPad</td>\n",
              "      <td>Positive emotion</td>\n",
              "    </tr>\n",
              "    <tr>\n",
              "      <th>3</th>\n",
              "      <td>@sxsw i hope this year's festival isn't as cra...</td>\n",
              "      <td>iPad or iPhone App</td>\n",
              "      <td>Negative emotion</td>\n",
              "    </tr>\n",
              "    <tr>\n",
              "      <th>4</th>\n",
              "      <td>@sxtxstate great stuff on fri #sxsw: marissa m...</td>\n",
              "      <td>Google</td>\n",
              "      <td>Positive emotion</td>\n",
              "    </tr>\n",
              "  </tbody>\n",
              "</table>\n",
              "</div>"
            ],
            "text/plain": [
              "                                          tweet_text  ... is_there_an_emotion_directed_at_a_brand_or_product\n",
              "0  .@wesley83 i have a 3g iphone. after 3 hrs twe...  ...                                   Negative emotion\n",
              "1  @jessedee know about @fludapp ? awesome ipad/i...  ...                                   Positive emotion\n",
              "2  @swonderlin can not wait for #ipad 2 also. the...  ...                                   Positive emotion\n",
              "3  @sxsw i hope this year's festival isn't as cra...  ...                                   Negative emotion\n",
              "4  @sxtxstate great stuff on fri #sxsw: marissa m...  ...                                   Positive emotion\n",
              "\n",
              "[5 rows x 3 columns]"
            ]
          },
          "metadata": {
            "tags": []
          },
          "execution_count": 40
        }
      ]
    },
    {
      "cell_type": "code",
      "metadata": {
        "id": "3g_OccgqkKT7",
        "colab_type": "code",
        "outputId": "e95f8c75-add6-4b56-a7da-e69286725298",
        "colab": {
          "base_uri": "https://localhost:8080/",
          "height": 204
        }
      },
      "source": [
        "import re\n",
        "data = data.applymap(lambda x: re.sub(r\"[^0-9A-Za-z#+_ ]+\",\"\",x))\n",
        "data.head(5)"
      ],
      "execution_count": 41,
      "outputs": [
        {
          "output_type": "execute_result",
          "data": {
            "text/html": [
              "<div>\n",
              "<style scoped>\n",
              "    .dataframe tbody tr th:only-of-type {\n",
              "        vertical-align: middle;\n",
              "    }\n",
              "\n",
              "    .dataframe tbody tr th {\n",
              "        vertical-align: top;\n",
              "    }\n",
              "\n",
              "    .dataframe thead th {\n",
              "        text-align: right;\n",
              "    }\n",
              "</style>\n",
              "<table border=\"1\" class=\"dataframe\">\n",
              "  <thead>\n",
              "    <tr style=\"text-align: right;\">\n",
              "      <th></th>\n",
              "      <th>tweet_text</th>\n",
              "      <th>emotion_in_tweet_is_directed_at</th>\n",
              "      <th>is_there_an_emotion_directed_at_a_brand_or_product</th>\n",
              "    </tr>\n",
              "  </thead>\n",
              "  <tbody>\n",
              "    <tr>\n",
              "      <th>0</th>\n",
              "      <td>wesley83 i have a 3g iphone after 3 hrs tweeti...</td>\n",
              "      <td>iPhone</td>\n",
              "      <td>Negative emotion</td>\n",
              "    </tr>\n",
              "    <tr>\n",
              "      <th>1</th>\n",
              "      <td>jessedee know about fludapp  awesome ipadiphon...</td>\n",
              "      <td>iPad or iPhone App</td>\n",
              "      <td>Positive emotion</td>\n",
              "    </tr>\n",
              "    <tr>\n",
              "      <th>2</th>\n",
              "      <td>swonderlin can not wait for #ipad 2 also they ...</td>\n",
              "      <td>iPad</td>\n",
              "      <td>Positive emotion</td>\n",
              "    </tr>\n",
              "    <tr>\n",
              "      <th>3</th>\n",
              "      <td>sxsw i hope this years festival isnt as crashy...</td>\n",
              "      <td>iPad or iPhone App</td>\n",
              "      <td>Negative emotion</td>\n",
              "    </tr>\n",
              "    <tr>\n",
              "      <th>4</th>\n",
              "      <td>sxtxstate great stuff on fri #sxsw marissa may...</td>\n",
              "      <td>Google</td>\n",
              "      <td>Positive emotion</td>\n",
              "    </tr>\n",
              "  </tbody>\n",
              "</table>\n",
              "</div>"
            ],
            "text/plain": [
              "                                          tweet_text  ... is_there_an_emotion_directed_at_a_brand_or_product\n",
              "0  wesley83 i have a 3g iphone after 3 hrs tweeti...  ...                                   Negative emotion\n",
              "1  jessedee know about fludapp  awesome ipadiphon...  ...                                   Positive emotion\n",
              "2  swonderlin can not wait for #ipad 2 also they ...  ...                                   Positive emotion\n",
              "3  sxsw i hope this years festival isnt as crashy...  ...                                   Negative emotion\n",
              "4  sxtxstate great stuff on fri #sxsw marissa may...  ...                                   Positive emotion\n",
              "\n",
              "[5 rows x 3 columns]"
            ]
          },
          "metadata": {
            "tags": []
          },
          "execution_count": 41
        }
      ]
    },
    {
      "cell_type": "code",
      "metadata": {
        "id": "9OBM04mWk6Ep",
        "colab_type": "code",
        "outputId": "529fd3ac-87f3-40c8-877e-ec215892f2cf",
        "colab": {
          "base_uri": "https://localhost:8080/",
          "height": 204
        }
      },
      "source": [
        "data.tweet_text = data.tweet_text.str.strip()\n",
        "data.head(5)"
      ],
      "execution_count": 42,
      "outputs": [
        {
          "output_type": "execute_result",
          "data": {
            "text/html": [
              "<div>\n",
              "<style scoped>\n",
              "    .dataframe tbody tr th:only-of-type {\n",
              "        vertical-align: middle;\n",
              "    }\n",
              "\n",
              "    .dataframe tbody tr th {\n",
              "        vertical-align: top;\n",
              "    }\n",
              "\n",
              "    .dataframe thead th {\n",
              "        text-align: right;\n",
              "    }\n",
              "</style>\n",
              "<table border=\"1\" class=\"dataframe\">\n",
              "  <thead>\n",
              "    <tr style=\"text-align: right;\">\n",
              "      <th></th>\n",
              "      <th>tweet_text</th>\n",
              "      <th>emotion_in_tweet_is_directed_at</th>\n",
              "      <th>is_there_an_emotion_directed_at_a_brand_or_product</th>\n",
              "    </tr>\n",
              "  </thead>\n",
              "  <tbody>\n",
              "    <tr>\n",
              "      <th>0</th>\n",
              "      <td>wesley83 i have a 3g iphone after 3 hrs tweeti...</td>\n",
              "      <td>iPhone</td>\n",
              "      <td>Negative emotion</td>\n",
              "    </tr>\n",
              "    <tr>\n",
              "      <th>1</th>\n",
              "      <td>jessedee know about fludapp  awesome ipadiphon...</td>\n",
              "      <td>iPad or iPhone App</td>\n",
              "      <td>Positive emotion</td>\n",
              "    </tr>\n",
              "    <tr>\n",
              "      <th>2</th>\n",
              "      <td>swonderlin can not wait for #ipad 2 also they ...</td>\n",
              "      <td>iPad</td>\n",
              "      <td>Positive emotion</td>\n",
              "    </tr>\n",
              "    <tr>\n",
              "      <th>3</th>\n",
              "      <td>sxsw i hope this years festival isnt as crashy...</td>\n",
              "      <td>iPad or iPhone App</td>\n",
              "      <td>Negative emotion</td>\n",
              "    </tr>\n",
              "    <tr>\n",
              "      <th>4</th>\n",
              "      <td>sxtxstate great stuff on fri #sxsw marissa may...</td>\n",
              "      <td>Google</td>\n",
              "      <td>Positive emotion</td>\n",
              "    </tr>\n",
              "  </tbody>\n",
              "</table>\n",
              "</div>"
            ],
            "text/plain": [
              "                                          tweet_text  ... is_there_an_emotion_directed_at_a_brand_or_product\n",
              "0  wesley83 i have a 3g iphone after 3 hrs tweeti...  ...                                   Negative emotion\n",
              "1  jessedee know about fludapp  awesome ipadiphon...  ...                                   Positive emotion\n",
              "2  swonderlin can not wait for #ipad 2 also they ...  ...                                   Positive emotion\n",
              "3  sxsw i hope this years festival isnt as crashy...  ...                                   Negative emotion\n",
              "4  sxtxstate great stuff on fri #sxsw marissa may...  ...                                   Positive emotion\n",
              "\n",
              "[5 rows x 3 columns]"
            ]
          },
          "metadata": {
            "tags": []
          },
          "execution_count": 42
        }
      ]
    },
    {
      "cell_type": "markdown",
      "metadata": {
        "id": "bcTUnvtg5sYn",
        "colab_type": "text"
      },
      "source": [
        "## Question 3"
      ]
    },
    {
      "cell_type": "markdown",
      "metadata": {
        "id": "4gnaeSXZ5sYo",
        "colab_type": "text"
      },
      "source": [
        "### Preprocess data\n",
        "- in column \"is_there_an_emotion_directed_at_a_brand_or_product\"\n",
        "    - select only those rows where value equal to \"positive emotion\" or \"negative emotion\"\n",
        "- find the value counts of \"positive emotion\" and \"negative emotion\""
      ]
    },
    {
      "cell_type": "code",
      "metadata": {
        "id": "nLewJh_35sYp",
        "colab_type": "code",
        "colab": {}
      },
      "source": [
        "col = 'is_there_an_emotion_directed_at_a_brand_or_product'"
      ],
      "execution_count": 0,
      "outputs": []
    },
    {
      "cell_type": "code",
      "metadata": {
        "id": "3VFYB4eh5sYr",
        "colab_type": "code",
        "colab": {}
      },
      "source": [
        "data = data[(data[col] == 'Negative emotion') | (data[col] == 'Positive emotion')]"
      ],
      "execution_count": 0,
      "outputs": []
    },
    {
      "cell_type": "code",
      "metadata": {
        "id": "Zn5X46bslpr3",
        "colab_type": "code",
        "outputId": "f1dc96fd-35b8-4dbe-e92b-f8662d3dcd0f",
        "colab": {
          "base_uri": "https://localhost:8080/",
          "height": 204
        }
      },
      "source": [
        "data.head()"
      ],
      "execution_count": 45,
      "outputs": [
        {
          "output_type": "execute_result",
          "data": {
            "text/html": [
              "<div>\n",
              "<style scoped>\n",
              "    .dataframe tbody tr th:only-of-type {\n",
              "        vertical-align: middle;\n",
              "    }\n",
              "\n",
              "    .dataframe tbody tr th {\n",
              "        vertical-align: top;\n",
              "    }\n",
              "\n",
              "    .dataframe thead th {\n",
              "        text-align: right;\n",
              "    }\n",
              "</style>\n",
              "<table border=\"1\" class=\"dataframe\">\n",
              "  <thead>\n",
              "    <tr style=\"text-align: right;\">\n",
              "      <th></th>\n",
              "      <th>tweet_text</th>\n",
              "      <th>emotion_in_tweet_is_directed_at</th>\n",
              "      <th>is_there_an_emotion_directed_at_a_brand_or_product</th>\n",
              "    </tr>\n",
              "  </thead>\n",
              "  <tbody>\n",
              "    <tr>\n",
              "      <th>0</th>\n",
              "      <td>wesley83 i have a 3g iphone after 3 hrs tweeti...</td>\n",
              "      <td>iPhone</td>\n",
              "      <td>Negative emotion</td>\n",
              "    </tr>\n",
              "    <tr>\n",
              "      <th>1</th>\n",
              "      <td>jessedee know about fludapp  awesome ipadiphon...</td>\n",
              "      <td>iPad or iPhone App</td>\n",
              "      <td>Positive emotion</td>\n",
              "    </tr>\n",
              "    <tr>\n",
              "      <th>2</th>\n",
              "      <td>swonderlin can not wait for #ipad 2 also they ...</td>\n",
              "      <td>iPad</td>\n",
              "      <td>Positive emotion</td>\n",
              "    </tr>\n",
              "    <tr>\n",
              "      <th>3</th>\n",
              "      <td>sxsw i hope this years festival isnt as crashy...</td>\n",
              "      <td>iPad or iPhone App</td>\n",
              "      <td>Negative emotion</td>\n",
              "    </tr>\n",
              "    <tr>\n",
              "      <th>4</th>\n",
              "      <td>sxtxstate great stuff on fri #sxsw marissa may...</td>\n",
              "      <td>Google</td>\n",
              "      <td>Positive emotion</td>\n",
              "    </tr>\n",
              "  </tbody>\n",
              "</table>\n",
              "</div>"
            ],
            "text/plain": [
              "                                          tweet_text  ... is_there_an_emotion_directed_at_a_brand_or_product\n",
              "0  wesley83 i have a 3g iphone after 3 hrs tweeti...  ...                                   Negative emotion\n",
              "1  jessedee know about fludapp  awesome ipadiphon...  ...                                   Positive emotion\n",
              "2  swonderlin can not wait for #ipad 2 also they ...  ...                                   Positive emotion\n",
              "3  sxsw i hope this years festival isnt as crashy...  ...                                   Negative emotion\n",
              "4  sxtxstate great stuff on fri #sxsw marissa may...  ...                                   Positive emotion\n",
              "\n",
              "[5 rows x 3 columns]"
            ]
          },
          "metadata": {
            "tags": []
          },
          "execution_count": 45
        }
      ]
    },
    {
      "cell_type": "code",
      "metadata": {
        "id": "FVWFO1k6l-sz",
        "colab_type": "code",
        "outputId": "ad2f49e3-e883-4456-f787-f90742efbd9b",
        "colab": {
          "base_uri": "https://localhost:8080/",
          "height": 68
        }
      },
      "source": [
        "data[col].value_counts()"
      ],
      "execution_count": 46,
      "outputs": [
        {
          "output_type": "execute_result",
          "data": {
            "text/plain": [
              "Positive emotion    2672\n",
              "Negative emotion     519\n",
              "Name: is_there_an_emotion_directed_at_a_brand_or_product, dtype: int64"
            ]
          },
          "metadata": {
            "tags": []
          },
          "execution_count": 46
        }
      ]
    },
    {
      "cell_type": "markdown",
      "metadata": {
        "id": "6icGcVTE5sYz",
        "colab_type": "text"
      },
      "source": [
        "## Question 4"
      ]
    },
    {
      "cell_type": "markdown",
      "metadata": {
        "id": "Rg0rSepj5sYz",
        "colab_type": "text"
      },
      "source": [
        "### Encode labels\n",
        "- in column \"is_there_an_emotion_directed_at_a_brand_or_product\"\n",
        "    - change \"positive emotion\" to 1\n",
        "    - change \"negative emotion\" to 0\n",
        "- use map function to replace values"
      ]
    },
    {
      "cell_type": "code",
      "metadata": {
        "colab_type": "code",
        "id": "YftKwFv7H0N9",
        "colab": {}
      },
      "source": [
        "def emotion_code(x):\n",
        "  if x == 'Positive emotion':\n",
        "    return 1\n",
        "  else:\n",
        "    return 0\n",
        "  \n",
        "data[col] = data[col]"
      ],
      "execution_count": 0,
      "outputs": []
    },
    {
      "cell_type": "code",
      "metadata": {
        "id": "IHOATSn4mpaT",
        "colab_type": "code",
        "outputId": "c8413c8f-513d-4a38-8640-a94f6a75b553",
        "colab": {
          "base_uri": "https://localhost:8080/",
          "height": 204
        }
      },
      "source": [
        "data.head(5)"
      ],
      "execution_count": 48,
      "outputs": [
        {
          "output_type": "execute_result",
          "data": {
            "text/html": [
              "<div>\n",
              "<style scoped>\n",
              "    .dataframe tbody tr th:only-of-type {\n",
              "        vertical-align: middle;\n",
              "    }\n",
              "\n",
              "    .dataframe tbody tr th {\n",
              "        vertical-align: top;\n",
              "    }\n",
              "\n",
              "    .dataframe thead th {\n",
              "        text-align: right;\n",
              "    }\n",
              "</style>\n",
              "<table border=\"1\" class=\"dataframe\">\n",
              "  <thead>\n",
              "    <tr style=\"text-align: right;\">\n",
              "      <th></th>\n",
              "      <th>tweet_text</th>\n",
              "      <th>emotion_in_tweet_is_directed_at</th>\n",
              "      <th>is_there_an_emotion_directed_at_a_brand_or_product</th>\n",
              "    </tr>\n",
              "  </thead>\n",
              "  <tbody>\n",
              "    <tr>\n",
              "      <th>0</th>\n",
              "      <td>wesley83 i have a 3g iphone after 3 hrs tweeti...</td>\n",
              "      <td>iPhone</td>\n",
              "      <td>Negative emotion</td>\n",
              "    </tr>\n",
              "    <tr>\n",
              "      <th>1</th>\n",
              "      <td>jessedee know about fludapp  awesome ipadiphon...</td>\n",
              "      <td>iPad or iPhone App</td>\n",
              "      <td>Positive emotion</td>\n",
              "    </tr>\n",
              "    <tr>\n",
              "      <th>2</th>\n",
              "      <td>swonderlin can not wait for #ipad 2 also they ...</td>\n",
              "      <td>iPad</td>\n",
              "      <td>Positive emotion</td>\n",
              "    </tr>\n",
              "    <tr>\n",
              "      <th>3</th>\n",
              "      <td>sxsw i hope this years festival isnt as crashy...</td>\n",
              "      <td>iPad or iPhone App</td>\n",
              "      <td>Negative emotion</td>\n",
              "    </tr>\n",
              "    <tr>\n",
              "      <th>4</th>\n",
              "      <td>sxtxstate great stuff on fri #sxsw marissa may...</td>\n",
              "      <td>Google</td>\n",
              "      <td>Positive emotion</td>\n",
              "    </tr>\n",
              "  </tbody>\n",
              "</table>\n",
              "</div>"
            ],
            "text/plain": [
              "                                          tweet_text  ... is_there_an_emotion_directed_at_a_brand_or_product\n",
              "0  wesley83 i have a 3g iphone after 3 hrs tweeti...  ...                                   Negative emotion\n",
              "1  jessedee know about fludapp  awesome ipadiphon...  ...                                   Positive emotion\n",
              "2  swonderlin can not wait for #ipad 2 also they ...  ...                                   Positive emotion\n",
              "3  sxsw i hope this years festival isnt as crashy...  ...                                   Negative emotion\n",
              "4  sxtxstate great stuff on fri #sxsw marissa may...  ...                                   Positive emotion\n",
              "\n",
              "[5 rows x 3 columns]"
            ]
          },
          "metadata": {
            "tags": []
          },
          "execution_count": 48
        }
      ]
    },
    {
      "cell_type": "markdown",
      "metadata": {
        "id": "sC1qSe3h5sY2",
        "colab_type": "text"
      },
      "source": [
        "## Question 5"
      ]
    },
    {
      "cell_type": "markdown",
      "metadata": {
        "id": "aWlAN_Ts5sY2",
        "colab_type": "text"
      },
      "source": [
        "### Get feature and label\n",
        "- get column \"tweet_text\" as feature\n",
        "- get column \"is_there_an_emotion_directed_at_a_brand_or_product\" as label"
      ]
    },
    {
      "cell_type": "code",
      "metadata": {
        "id": "9A3sOZzR5sY4",
        "colab_type": "code",
        "colab": {}
      },
      "source": [
        "X = data['tweet_text']\n",
        "Y = data['is_there_an_emotion_directed_at_a_brand_or_product']"
      ],
      "execution_count": 0,
      "outputs": []
    },
    {
      "cell_type": "markdown",
      "metadata": {
        "colab_type": "text",
        "id": "3YErwYLCH0N_"
      },
      "source": [
        "### Create train and test data\n",
        "- use train_test_split to get train and test set\n",
        "- set a random_state\n",
        "- test_size: 0.25"
      ]
    },
    {
      "cell_type": "code",
      "metadata": {
        "colab_type": "code",
        "id": "lNkwrGgEH0OA",
        "colab": {}
      },
      "source": [
        "import pandas as pd\n",
        "import numpy as np\n",
        "import scipy as sp\n",
        "from sklearn.model_selection import train_test_split\n",
        "from sklearn.feature_extraction.text import CountVectorizer, TfidfVectorizer\n",
        "from sklearn.naive_bayes import MultinomialNB\n",
        "from sklearn.linear_model import LogisticRegression\n",
        "from sklearn import metrics\n",
        "from textblob import TextBlob, Word\n",
        "from nltk.stem.snowball import SnowballStemmer\n",
        "%matplotlib inline\n",
        "\n",
        "# split the the data into training and testing sets\n",
        "X_train, X_test, y_train, y_test = train_test_split(X, Y, random_state=1, test_size=0.25)"
      ],
      "execution_count": 0,
      "outputs": []
    },
    {
      "cell_type": "markdown",
      "metadata": {
        "id": "gMok2IX35sY8",
        "colab_type": "text"
      },
      "source": [
        "## Question 6"
      ]
    },
    {
      "cell_type": "markdown",
      "metadata": {
        "id": "dSqYjPuT5sY8",
        "colab_type": "text"
      },
      "source": [
        "### Vectorize data\n",
        "- create document-term matrix\n",
        "- use CountVectorizer()\n",
        "    - ngram_range: (1, 2)\n",
        "    - stop_words: 'english'\n",
        "    - min_df: 2   \n",
        "- do fit_transform on X_train\n",
        "- do transform on X_test"
      ]
    },
    {
      "cell_type": "code",
      "metadata": {
        "id": "bb9PnnqT5sY8",
        "colab_type": "code",
        "outputId": "e00ed5f5-dd84-4c94-fe5c-34a87d4df351",
        "colab": {
          "base_uri": "https://localhost:8080/",
          "height": 34
        }
      },
      "source": [
        "# use CountVectorizer to create document-term matrices from X_train and X_test\n",
        "vect = CountVectorizer(ngram_range = (1, 2), stop_words = 'english', min_df = 2)\n",
        "\n",
        "# create document-term matrices\n",
        "X_train_dtm = vect.fit_transform(X_train)\n",
        "X_test_dtm = vect.transform(X_test)\n",
        "X_train_dtm.shape"
      ],
      "execution_count": 51,
      "outputs": [
        {
          "output_type": "execute_result",
          "data": {
            "text/plain": [
              "(2393, 5434)"
            ]
          },
          "metadata": {
            "tags": []
          },
          "execution_count": 51
        }
      ]
    },
    {
      "cell_type": "markdown",
      "metadata": {
        "id": "qanDXve15sY_",
        "colab_type": "text"
      },
      "source": [
        "## Question 7"
      ]
    },
    {
      "cell_type": "markdown",
      "metadata": {
        "id": "uMaRNFkV5sY_",
        "colab_type": "text"
      },
      "source": [
        "### Select classifier logistic regression\n",
        "- use logistic regression for predicting sentiment of the given tweet\n",
        "- initialize classifier"
      ]
    },
    {
      "cell_type": "code",
      "metadata": {
        "id": "GT3dNgB55sZA",
        "colab_type": "code",
        "colab": {}
      },
      "source": [
        "from sklearn.linear_model import LogisticRegression\n",
        "\n",
        "lr = LogisticRegression()"
      ],
      "execution_count": 0,
      "outputs": []
    },
    {
      "cell_type": "markdown",
      "metadata": {
        "id": "pqQ6_HX35sZD",
        "colab_type": "text"
      },
      "source": [
        "### Fit the classifer\n",
        "- fit logistic regression classifier"
      ]
    },
    {
      "cell_type": "code",
      "metadata": {
        "id": "EIzvnNkq5sZD",
        "colab_type": "code",
        "outputId": "0de673d1-5e69-41a7-a65c-67b9b0f12225",
        "colab": {
          "base_uri": "https://localhost:8080/",
          "height": 102
        }
      },
      "source": [
        "lr.fit(X_train_dtm, y_train)"
      ],
      "execution_count": 53,
      "outputs": [
        {
          "output_type": "execute_result",
          "data": {
            "text/plain": [
              "LogisticRegression(C=1.0, class_weight=None, dual=False, fit_intercept=True,\n",
              "                   intercept_scaling=1, l1_ratio=None, max_iter=100,\n",
              "                   multi_class='warn', n_jobs=None, penalty='l2',\n",
              "                   random_state=None, solver='warn', tol=0.0001, verbose=0,\n",
              "                   warm_start=False)"
            ]
          },
          "metadata": {
            "tags": []
          },
          "execution_count": 53
        }
      ]
    },
    {
      "cell_type": "markdown",
      "metadata": {
        "id": "SZpMsYQF5sZF",
        "colab_type": "text"
      },
      "source": [
        "## Question 8"
      ]
    },
    {
      "cell_type": "markdown",
      "metadata": {
        "id": "KGnQnUww5sZF",
        "colab_type": "text"
      },
      "source": [
        "### Select classifier naive bayes\n",
        "- use naive bayes for predicting sentiment of the given tweet\n",
        "- initialize classifier\n",
        "- use MultinomialNB"
      ]
    },
    {
      "cell_type": "code",
      "metadata": {
        "colab_type": "code",
        "id": "2AbVYssaH0OE",
        "colab": {}
      },
      "source": [
        "from sklearn.naive_bayes import MultinomialNB\n",
        "\n",
        "nb = MultinomialNB()"
      ],
      "execution_count": 0,
      "outputs": []
    },
    {
      "cell_type": "markdown",
      "metadata": {
        "id": "QEaG942m5sZI",
        "colab_type": "text"
      },
      "source": [
        "### Fit the classifer\n",
        "- fit naive bayes classifier"
      ]
    },
    {
      "cell_type": "code",
      "metadata": {
        "id": "rLwRBj1R5sZI",
        "colab_type": "code",
        "outputId": "f550d60d-2d20-4937-c764-0e0a8f3c305d",
        "colab": {
          "base_uri": "https://localhost:8080/",
          "height": 34
        }
      },
      "source": [
        "nb.fit(X_train_dtm, y_train)"
      ],
      "execution_count": 55,
      "outputs": [
        {
          "output_type": "execute_result",
          "data": {
            "text/plain": [
              "MultinomialNB(alpha=1.0, class_prior=None, fit_prior=True)"
            ]
          },
          "metadata": {
            "tags": []
          },
          "execution_count": 55
        }
      ]
    },
    {
      "cell_type": "markdown",
      "metadata": {
        "id": "A7mgwYDJ5sZM",
        "colab_type": "text"
      },
      "source": [
        "## Question 9"
      ]
    },
    {
      "cell_type": "markdown",
      "metadata": {
        "id": "sZkA3tce5sZN",
        "colab_type": "text"
      },
      "source": [
        "### Make predictions on logistic regression\n",
        "- use your trained logistic regression model to make predictions on X_test"
      ]
    },
    {
      "cell_type": "code",
      "metadata": {
        "id": "l3f0M1ch5sZO",
        "colab_type": "code",
        "colab": {}
      },
      "source": [
        "y_lrpred_class = lr.predict(X_test_dtm)"
      ],
      "execution_count": 0,
      "outputs": []
    },
    {
      "cell_type": "markdown",
      "metadata": {
        "id": "lrIxjMUB5sZQ",
        "colab_type": "text"
      },
      "source": [
        "### Make predictions on naive bayes\n",
        "- use your trained naive bayes model to make predictions on X_test\n",
        "- use a different variable name to store predictions so that they are kept separately"
      ]
    },
    {
      "cell_type": "code",
      "metadata": {
        "id": "ZSQnwyLU5sZQ",
        "colab_type": "code",
        "colab": {}
      },
      "source": [
        "y_nbpred_class = nb.predict(X_test_dtm)"
      ],
      "execution_count": 0,
      "outputs": []
    },
    {
      "cell_type": "markdown",
      "metadata": {
        "id": "rwXQUE7b5sZS",
        "colab_type": "text"
      },
      "source": [
        "## Question 10"
      ]
    },
    {
      "cell_type": "markdown",
      "metadata": {
        "id": "E6SITIE75sZT",
        "colab_type": "text"
      },
      "source": [
        "### Calculate accuracy of logistic regression\n",
        "- check accuracy of logistic regression classifer\n",
        "- use sklearn.metrics.accuracy_score"
      ]
    },
    {
      "cell_type": "code",
      "metadata": {
        "colab_type": "code",
        "id": "clv2X0kKH0Ok",
        "outputId": "00a948ab-0bfb-4a86-8eea-cc4ddef1b3ef",
        "colab": {
          "base_uri": "https://localhost:8080/",
          "height": 34
        }
      },
      "source": [
        "print (metrics.accuracy_score(y_test, y_lrpred_class))"
      ],
      "execution_count": 58,
      "outputs": [
        {
          "output_type": "stream",
          "text": [
            "0.8659147869674185\n"
          ],
          "name": "stdout"
        }
      ]
    },
    {
      "cell_type": "markdown",
      "metadata": {
        "id": "1Fd_Gnd05sZV",
        "colab_type": "text"
      },
      "source": [
        "### Calculate accuracy of naive bayes\n",
        "- check accuracy of naive bayes classifer\n",
        "- use sklearn.metrics.accuracy_score"
      ]
    },
    {
      "cell_type": "code",
      "metadata": {
        "colab_type": "code",
        "id": "d32uBpHi5sZW",
        "outputId": "dab3e930-a595-47bc-dc76-1518eaf203b8",
        "colab": {
          "base_uri": "https://localhost:8080/",
          "height": 34
        }
      },
      "source": [
        "print ('Accuracy is : ', metrics.accuracy_score(y_test, y_nbpred_class))"
      ],
      "execution_count": 59,
      "outputs": [
        {
          "output_type": "stream",
          "text": [
            "Accuracy is :  0.8571428571428571\n"
          ],
          "name": "stdout"
        }
      ]
    },
    {
      "cell_type": "code",
      "metadata": {
        "id": "eXf1NZHon9lS",
        "colab_type": "code",
        "colab": {}
      },
      "source": [
        ""
      ],
      "execution_count": 0,
      "outputs": []
    }
  ]
}