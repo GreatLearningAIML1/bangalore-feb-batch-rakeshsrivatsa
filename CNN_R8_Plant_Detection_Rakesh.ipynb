{
  "nbformat": 4,
  "nbformat_minor": 0,
  "metadata": {
    "colab": {
      "name": "CNN_R8_Plant_Detection_Rakesh.ipynb",
      "provenance": [],
      "collapsed_sections": []
    },
    "kernelspec": {
      "name": "python3",
      "display_name": "Python 3"
    }
  },
  "cells": [
    {
      "cell_type": "code",
      "metadata": {
        "id": "SsnscYjQ0SgG",
        "colab_type": "code",
        "colab": {}
      },
      "source": [
        "import numpy as np \n",
        "import pandas as pd \n",
        "import matplotlib.pyplot as plt \n",
        "import math \n",
        "import cv2 \n",
        "from glob import glob #For file operations\n",
        "import itertools\n",
        "\n",
        "\n",
        "from keras.utils import np_utils\n",
        "from keras.preprocessing.image import ImageDataGenerator\n",
        "from keras.models import Sequential\n",
        "from keras.layers import Dense\n",
        "from keras.layers import Dropout\n",
        "from keras.layers import Flatten\n",
        "from keras.layers.convolutional import Conv2D\n",
        "from keras.layers.convolutional import MaxPooling2D\n",
        "from keras.layers import BatchNormalization\n",
        "from keras.callbacks import ModelCheckpoint,ReduceLROnPlateau,CSVLogger\n",
        "\n",
        "from sklearn import preprocessing\n",
        "from sklearn.model_selection import train_test_split\n",
        "from sklearn.metrics import confusion_matrix\n",
        "\n",
        "\n",
        "scale = 70\n",
        "seed = 7"
      ],
      "execution_count": 0,
      "outputs": []
    },
    {
      "cell_type": "code",
      "metadata": {
        "id": "zOrc2Cbs_-g8",
        "colab_type": "code",
        "colab": {}
      },
      "source": [
        "from google.colab import drive\n",
        "drive.mount('/content/drive')"
      ],
      "execution_count": 0,
      "outputs": []
    },
    {
      "cell_type": "code",
      "metadata": {
        "id": "9zlob2PZ0tVc",
        "colab_type": "code",
        "colab": {}
      },
      "source": [
        "path_to_images = '/content/drive/My Drive/AIMLNoteBooks/R8NeuralNetworksDeepLearning-Rajeev/images/*.png'\n",
        "images = glob(path_to_images)\n",
        "trainingset = []\n",
        "traininglabels = []\n",
        "num = len(images)\n",
        "print(num)\n",
        "count = 1\n",
        "#READING IMAGES AND RESIZING THEM\n",
        "for i in images:\n",
        "    print(str(count)+'/'+str(num),end='\\r')\n",
        "    print('i is:' + i)\n",
        "    traininglabels.append(i.split('\\\\')[0])\n",
        "    count=count+1\n",
        "trainingset = np.asarray(trainingset)\n",
        "print(traininglabels)\n",
        "traininglabels = pd.DataFrame(traininglabels)"
      ],
      "execution_count": 0,
      "outputs": []
    },
    {
      "cell_type": "code",
      "metadata": {
        "id": "MEmYFgrq8Q4i",
        "colab_type": "code",
        "colab": {}
      },
      "source": [
        "new_train = []\n",
        "sets = []; getEx = True\n",
        "for i in trainingset:\n",
        "    blurr = cv2.GaussianBlur(i,(5,5),0)\n",
        "    hsv = cv2.cvtColor(blurr,cv2.COLOR_BGR2HSV)\n",
        "    #GREEN PARAMETERS\n",
        "    lower = (25,40,50)\n",
        "    upper = (75,255,255)\n",
        "    mask = cv2.inRange(hsv,lower,upper)\n",
        "    struc = cv2.getStructuringElement(cv2.MORPH_ELLIPSE,(11,11))\n",
        "    mask = cv2.morphologyEx(mask,cv2.MORPH_CLOSE,struc)\n",
        "    boolean = mask>0\n",
        "    new = np.zeros_like(i,np.uint8)\n",
        "    new[boolean] = i[boolean]\n",
        "    new_train.append(new)\n",
        "    \n",
        "    if getEx:\n",
        "        plt.subplot(2,3,1);plt.imshow(i) # ORIGINAL\n",
        "        plt.subplot(2,3,2);plt.imshow(blurr) # BLURRED\n",
        "        plt.subplot(2,3,3);plt.imshow(hsv) # HSV CONVERTED\n",
        "        plt.subplot(2,3,4);plt.imshow(mask) # MASKED\n",
        "        plt.subplot(2,3,5);plt.imshow(boolean) # BOOLEAN MASKED\n",
        "        plt.subplot(2,3,6);plt.imshow(new) # NEW PROCESSED IMAGE\n",
        "        plt.show()\n",
        "        getEx = False\n",
        "new_train = np.asarray(new_train)\n",
        "\n",
        "# CLEANED IMAGES\n",
        "for i in range(8):\n",
        "    plt.subplot(2,4,i+1)\n",
        "    plt.imshow(new_train[i])"
      ],
      "execution_count": 0,
      "outputs": []
    },
    {
      "cell_type": "code",
      "metadata": {
        "id": "vf7SlR208Vrj",
        "colab_type": "code",
        "colab": {}
      },
      "source": [
        "labels = preprocessing.LabelEncoder()\n",
        "labels.fit(traininglabels[0])\n",
        "print('Classes'+str(labels.classes_))\n",
        "encodedlabels = labels.transform(traininglabels[0])\n",
        "clearalllabels = np_utils.to_categorical(encodedlabels)\n",
        "classes = clearalllabels.shape[1]\n",
        "print(str(classes))\n",
        "traininglabels[0].value_counts().plot(kind='pie')"
      ],
      "execution_count": 0,
      "outputs": []
    },
    {
      "cell_type": "code",
      "metadata": {
        "id": "1_lNE8Rb8X5Y",
        "colab_type": "code",
        "colab": {}
      },
      "source": [
        "new_train = new_train/255\n",
        "x_train,x_test,y_train,y_test = train_test_split(new_train,clearalllabels,test_size=0.1,random_state=seed,stratify=clearalllabels)"
      ],
      "execution_count": 0,
      "outputs": []
    },
    {
      "cell_type": "code",
      "metadata": {
        "id": "TKmG977B8fqz",
        "colab_type": "code",
        "colab": {}
      },
      "source": [
        "generator = ImageDataGenerator(rotation_range = 180,zoom_range = 0.1,width_shift_range = 0.1,height_shift_range = 0.1,horizontal_flip = True,vertical_flip = True)\n",
        "generator.fit(x_train)"
      ],
      "execution_count": 0,
      "outputs": []
    },
    {
      "cell_type": "markdown",
      "metadata": {
        "id": "FtpjJxFw-MaT",
        "colab_type": "text"
      },
      "source": [
        "**Model creation**"
      ]
    },
    {
      "cell_type": "code",
      "metadata": {
        "id": "XmN5Copj8k_z",
        "colab_type": "code",
        "colab": {}
      },
      "source": [
        "np.random.seed(seed)\n",
        "\n",
        "model = Sequential()\n",
        "\n",
        "model.add(Conv2D(filters=64, kernel_size=(5, 5), input_shape=(scale, scale, 3), activation='relu'))\n",
        "model.add(BatchNormalization(axis=3))\n",
        "model.add(Conv2D(filters=64, kernel_size=(5, 5), activation='relu'))\n",
        "model.add(MaxPooling2D((2, 2)))\n",
        "model.add(BatchNormalization(axis=3))\n",
        "model.add(Dropout(0.1))\n",
        "\n",
        "model.add(Conv2D(filters=128, kernel_size=(5, 5), activation='relu'))\n",
        "model.add(BatchNormalization(axis=3))\n",
        "model.add(Conv2D(filters=128, kernel_size=(5, 5), activation='relu'))\n",
        "model.add(MaxPooling2D((2, 2)))\n",
        "model.add(BatchNormalization(axis=3))\n",
        "model.add(Dropout(0.1))\n",
        "\n",
        "model.add(Conv2D(filters=256, kernel_size=(5, 5), activation='relu'))\n",
        "model.add(BatchNormalization(axis=3))\n",
        "model.add(Conv2D(filters=256, kernel_size=(5, 5), activation='relu'))\n",
        "model.add(MaxPooling2D((2, 2)))\n",
        "model.add(BatchNormalization(axis=3))\n",
        "model.add(Dropout(0.1))\n",
        "\n",
        "model.add(Flatten())\n",
        "\n",
        "model.add(Dense(256, activation='relu'))\n",
        "model.add(BatchNormalization())\n",
        "model.add(Dropout(0.5))\n",
        "\n",
        "model.add(Dense(256, activation='relu'))\n",
        "model.add(BatchNormalization())\n",
        "model.add(Dropout(0.5))\n",
        "\n",
        "model.add(Dense(classes, activation='softmax'))\n",
        "\n",
        "model.compile(loss='categorical_crossentropy', optimizer='adam', metrics=['accuracy'])\n",
        "\n",
        "model.summary()"
      ],
      "execution_count": 0,
      "outputs": []
    },
    {
      "cell_type": "code",
      "metadata": {
        "id": "Ibogr-uK8oe_",
        "colab_type": "code",
        "colab": {}
      },
      "source": [
        "model.fit(x_train,y_train,batch_size=200,nb_epoch=15,verbose=1,validation_data=(x_test,y_test))"
      ],
      "execution_count": 0,
      "outputs": []
    },
    {
      "cell_type": "markdown",
      "metadata": {
        "id": "fHR-6mpr-FvN",
        "colab_type": "text"
      },
      "source": [
        "**Model Score**"
      ]
    },
    {
      "cell_type": "code",
      "metadata": {
        "id": "mFEObGOk84-w",
        "colab_type": "code",
        "colab": {}
      },
      "source": [
        "score=model.evaluate(x_test,y_test)\n",
        "score"
      ],
      "execution_count": 0,
      "outputs": []
    },
    {
      "cell_type": "code",
      "metadata": {
        "id": "nFLIto_X891-",
        "colab_type": "code",
        "colab": {}
      },
      "source": [
        "y_predict = model.predict(x_test)"
      ],
      "execution_count": 0,
      "outputs": []
    },
    {
      "cell_type": "code",
      "metadata": {
        "id": "BAfxuqae8_7D",
        "colab_type": "code",
        "colab": {}
      },
      "source": [
        "print(model.evaluate(x_train, y_train)) \n",
        "print(model.evaluate(x_test, y_test)) "
      ],
      "execution_count": 0,
      "outputs": []
    },
    {
      "cell_type": "markdown",
      "metadata": {
        "id": "-YySHyEh98wu",
        "colab_type": "text"
      },
      "source": [
        "**Confusion Matrix**"
      ]
    },
    {
      "cell_type": "code",
      "metadata": {
        "id": "PQeLtu-39Bsi",
        "colab_type": "code",
        "colab": {}
      },
      "source": [
        "y_pred = model.predict(x_test)\n",
        "y_class = np.argmax(y_pred, axis = 1) \n",
        "y_check = np.argmax(y_test, axis = 1) \n",
        "\n",
        "cmatrix = confusion_matrix(y_check, y_class)\n",
        "print(cmatrix)"
      ],
      "execution_count": 0,
      "outputs": []
    },
    {
      "cell_type": "markdown",
      "metadata": {
        "id": "MnRk6EwKCVst",
        "colab_type": "text"
      },
      "source": [
        "**Getting predictions**"
      ]
    },
    {
      "cell_type": "code",
      "metadata": {
        "id": "EXCnwhK49DrJ",
        "colab_type": "code",
        "colab": {}
      },
      "source": [
        "path_to_test = '/content/drive/My Drive/AIMLNoteBooks/R8NeuralNetworksDeepLearning-Rajeev/images/test/*.png'\n",
        "pics = glob(path_to_test)\n",
        "\n",
        "testimages = []\n",
        "tests = []\n",
        "count=1\n",
        "num = len(pics)\n",
        "\n",
        "for i in pics:\n",
        "    print(str(count)+'/'+str(num),end='\\r')\n",
        "    tests.append(i.split('/')[-1])\n",
        "    testimages.append(cv2.resize(cv2.imread(i),(scale,scale)))\n",
        "    count = count + 1\n",
        "\n",
        "testimages = np.asarray(testimages)"
      ],
      "execution_count": 0,
      "outputs": []
    },
    {
      "cell_type": "code",
      "metadata": {
        "id": "M0stgxag9Hsp",
        "colab_type": "code",
        "colab": {}
      },
      "source": [
        "newtestimages = []\n",
        "sets = []\n",
        "getEx = True\n",
        "for i in testimages:\n",
        "    blurr = cv2.GaussianBlur(i,(5,5),0)\n",
        "    hsv = cv2.cvtColor(blurr,cv2.COLOR_BGR2HSV)\n",
        "    \n",
        "    lower = (25,40,50)\n",
        "    upper = (75,255,255)\n",
        "    mask = cv2.inRange(hsv,lower,upper)\n",
        "    struc = cv2.getStructuringElement(cv2.MORPH_ELLIPSE,(11,11))\n",
        "    mask = cv2.morphologyEx(mask,cv2.MORPH_CLOSE,struc)\n",
        "    boolean = mask>0\n",
        "    masking = np.zeros_like(i,np.uint8)\n",
        "    masking[boolean] = i[boolean]\n",
        "    newtestimages.append(masking)\n",
        "    \n",
        "    if getEx:\n",
        "        plt.subplot(2,3,1);plt.imshow(i)\n",
        "        plt.subplot(2,3,2);plt.imshow(blurr)\n",
        "        plt.subplot(2,3,3);plt.imshow(hsv)\n",
        "        plt.subplot(2,3,4);plt.imshow(mask)\n",
        "        plt.subplot(2,3,5);plt.imshow(boolean)\n",
        "        plt.subplot(2,3,6);plt.imshow(masking)\n",
        "        plt.show()\n",
        "        getEx=False\n",
        "        \n",
        "newtestimages = np.asarray(newtestimages)\n",
        "# OTHER MASKED IMAGES\n",
        "for i in range(6):\n",
        "    plt.subplot(2,3,i+1)\n",
        "    plt.imshow(newtestimages[i])"
      ],
      "execution_count": 0,
      "outputs": []
    },
    {
      "cell_type": "markdown",
      "metadata": {
        "id": "dpRAwDuHCNua",
        "colab_type": "text"
      },
      "source": [
        "**Write Output to a File**"
      ]
    },
    {
      "cell_type": "code",
      "metadata": {
        "id": "ZTS-o69U9KcF",
        "colab_type": "code",
        "colab": {}
      },
      "source": [
        "newtestimages=newtestimages/255\n",
        "prediction = model.predict(newtestimages)\n",
        "# PREDICTION TO A CSV FILE\n",
        "pred = np.argmax(prediction,axis=1)\n",
        "predStr = labels.classes_[pred]\n",
        "result = {'file':tests,'species':predStr}\n",
        "result = pd.DataFrame(result)\n",
        "result.to_csv(\"/content/drive/My Drive/AIMLNoteBooks/R8NeuralNetworksDeepLearning-Rajeev/Prediction.csv\",index=False)"
      ],
      "execution_count": 0,
      "outputs": []
    }
  ]
}