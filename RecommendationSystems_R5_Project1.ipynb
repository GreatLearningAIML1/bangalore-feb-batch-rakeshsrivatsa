{
  "nbformat": 4,
  "nbformat_minor": 0,
  "metadata": {
    "colab": {
      "name": "RecommendationSystems_R5_Project1.ipynb",
      "version": "0.3.2",
      "provenance": [],
      "collapsed_sections": []
    },
    "kernelspec": {
      "name": "python3",
      "display_name": "Python 3"
    },
    "accelerator": "GPU"
  },
  "cells": [
    {
      "cell_type": "code",
      "metadata": {
        "id": "YEU3SYo97HSJ",
        "colab_type": "code",
        "colab": {
          "base_uri": "https://localhost:8080/",
          "height": 71
        },
        "outputId": "f8e07e91-31ba-4275-d2d0-7d9395cce2e3"
      },
      "source": [
        "import numpy as np\n",
        "import pandas as pd\n",
        "from sklearn.tree import DecisionTreeClassifier\n",
        "from sklearn.model_selection import train_test_split\n",
        "from sklearn.metrics import roc_curve, auc\n",
        "from sklearn import metrics\n",
        "import matplotlib.pyplot as plt\n",
        "%matplotlib inline\n",
        "from sklearn import preprocessing\n",
        "import time\n",
        "from sklearn.externals import joblib\n",
        "import Recommenders as Recommenders\n",
        "import Evaluation as Evaluation"
      ],
      "execution_count": 1,
      "outputs": [
        {
          "output_type": "stream",
          "text": [
            "/usr/local/lib/python3.6/dist-packages/sklearn/externals/joblib/__init__.py:15: DeprecationWarning: sklearn.externals.joblib is deprecated in 0.21 and will be removed in 0.23. Please import this functionality directly from joblib, which can be installed with: pip install joblib. If this warning is raised when loading pickled models, you may need to re-serialize those models with scikit-learn 0.21+.\n",
            "  warnings.warn(msg, category=DeprecationWarning)\n"
          ],
          "name": "stderr"
        }
      ]
    },
    {
      "cell_type": "code",
      "metadata": {
        "id": "Qu3R47B87ceS",
        "colab_type": "code",
        "outputId": "9321907c-7345-4245-ca91-90c29e0b787a",
        "colab": {
          "base_uri": "https://localhost:8080/",
          "height": 34
        }
      },
      "source": [
        "from google.colab import drive\n",
        "drive.mount('/content/drive')"
      ],
      "execution_count": 2,
      "outputs": [
        {
          "output_type": "stream",
          "text": [
            "Drive already mounted at /content/drive; to attempt to forcibly remount, call drive.mount(\"/content/drive\", force_remount=True).\n"
          ],
          "name": "stdout"
        }
      ]
    },
    {
      "cell_type": "code",
      "metadata": {
        "id": "LamPyqUz7eEe",
        "colab_type": "code",
        "outputId": "20e9fbdc-55bc-4e84-8144-348daa2d12fa",
        "colab": {
          "base_uri": "https://localhost:8080/",
          "height": 153
        }
      },
      "source": [
        "elec_df = pd.read_csv('/content/drive/My Drive/AIML_NoteBooks/LabAndAssignments/R6/ratings_Electronics.csv',header=None)\n",
        "elec_df.columns = [\"userId\", \"productId\", \"ratings\", \"timestamp\"];\n",
        "\n",
        "elec_df.drop('timestamp', axis=1, inplace=True)\n",
        "elec_df = elec_df[['userId','productId','ratings']]\n",
        "elec_df.info()"
      ],
      "execution_count": 3,
      "outputs": [
        {
          "output_type": "stream",
          "text": [
            "<class 'pandas.core.frame.DataFrame'>\n",
            "RangeIndex: 7824482 entries, 0 to 7824481\n",
            "Data columns (total 3 columns):\n",
            "userId       object\n",
            "productId    object\n",
            "ratings      float64\n",
            "dtypes: float64(1), object(2)\n",
            "memory usage: 179.1+ MB\n"
          ],
          "name": "stdout"
        }
      ]
    },
    {
      "cell_type": "code",
      "metadata": {
        "id": "Jjn0CQWT5jIC",
        "colab_type": "code",
        "colab": {
          "base_uri": "https://localhost:8080/",
          "height": 1000
        },
        "outputId": "972cb47d-1468-426b-ed1c-025d15af2c08"
      },
      "source": [
        "elec_df.drop_duplicates(subset='userId', keep=\"last\")"
      ],
      "execution_count": 4,
      "outputs": [
        {
          "output_type": "execute_result",
          "data": {
            "text/html": [
              "<div>\n",
              "<style scoped>\n",
              "    .dataframe tbody tr th:only-of-type {\n",
              "        vertical-align: middle;\n",
              "    }\n",
              "\n",
              "    .dataframe tbody tr th {\n",
              "        vertical-align: top;\n",
              "    }\n",
              "\n",
              "    .dataframe thead th {\n",
              "        text-align: right;\n",
              "    }\n",
              "</style>\n",
              "<table border=\"1\" class=\"dataframe\">\n",
              "  <thead>\n",
              "    <tr style=\"text-align: right;\">\n",
              "      <th></th>\n",
              "      <th>userId</th>\n",
              "      <th>productId</th>\n",
              "      <th>ratings</th>\n",
              "    </tr>\n",
              "  </thead>\n",
              "  <tbody>\n",
              "    <tr>\n",
              "      <th>2</th>\n",
              "      <td>A2NWSAGRHCP8N5</td>\n",
              "      <td>0439886341</td>\n",
              "      <td>1.0</td>\n",
              "    </tr>\n",
              "    <tr>\n",
              "      <th>3</th>\n",
              "      <td>A2WNBOD3WNDNKT</td>\n",
              "      <td>0439886341</td>\n",
              "      <td>3.0</td>\n",
              "    </tr>\n",
              "    <tr>\n",
              "      <th>4</th>\n",
              "      <td>A1GI0U4ZRJA8WN</td>\n",
              "      <td>0439886341</td>\n",
              "      <td>1.0</td>\n",
              "    </tr>\n",
              "    <tr>\n",
              "      <th>9</th>\n",
              "      <td>A89DO69P0XZ27</td>\n",
              "      <td>0511189877</td>\n",
              "      <td>5.0</td>\n",
              "    </tr>\n",
              "    <tr>\n",
              "      <th>11</th>\n",
              "      <td>A1DA3W4GTFXP6O</td>\n",
              "      <td>0528881469</td>\n",
              "      <td>5.0</td>\n",
              "    </tr>\n",
              "    <tr>\n",
              "      <th>12</th>\n",
              "      <td>A29LPQQDG7LD5J</td>\n",
              "      <td>0528881469</td>\n",
              "      <td>1.0</td>\n",
              "    </tr>\n",
              "    <tr>\n",
              "      <th>21</th>\n",
              "      <td>A2AW1SSVUIYV9Y</td>\n",
              "      <td>0528881469</td>\n",
              "      <td>4.0</td>\n",
              "    </tr>\n",
              "    <tr>\n",
              "      <th>22</th>\n",
              "      <td>A2AEHUKOV014BP</td>\n",
              "      <td>0528881469</td>\n",
              "      <td>5.0</td>\n",
              "    </tr>\n",
              "    <tr>\n",
              "      <th>23</th>\n",
              "      <td>AMLFNXUIEMN4T</td>\n",
              "      <td>0528881469</td>\n",
              "      <td>1.0</td>\n",
              "    </tr>\n",
              "    <tr>\n",
              "      <th>24</th>\n",
              "      <td>A2O8FIJR9EBU56</td>\n",
              "      <td>0528881469</td>\n",
              "      <td>4.0</td>\n",
              "    </tr>\n",
              "    <tr>\n",
              "      <th>25</th>\n",
              "      <td>A3IQGFB959IR4P</td>\n",
              "      <td>0528881469</td>\n",
              "      <td>1.0</td>\n",
              "    </tr>\n",
              "    <tr>\n",
              "      <th>26</th>\n",
              "      <td>AYTBGUX49LF3W</td>\n",
              "      <td>0528881469</td>\n",
              "      <td>4.0</td>\n",
              "    </tr>\n",
              "    <tr>\n",
              "      <th>27</th>\n",
              "      <td>A24QFSUU00IZ05</td>\n",
              "      <td>0528881469</td>\n",
              "      <td>2.0</td>\n",
              "    </tr>\n",
              "    <tr>\n",
              "      <th>28</th>\n",
              "      <td>A1NG5X8VYZWX0Q</td>\n",
              "      <td>0528881469</td>\n",
              "      <td>1.0</td>\n",
              "    </tr>\n",
              "    <tr>\n",
              "      <th>30</th>\n",
              "      <td>A2AOEW5UGXFOOQ</td>\n",
              "      <td>0528881469</td>\n",
              "      <td>5.0</td>\n",
              "    </tr>\n",
              "    <tr>\n",
              "      <th>32</th>\n",
              "      <td>AR84FMFYCQCWF</td>\n",
              "      <td>0528881469</td>\n",
              "      <td>1.0</td>\n",
              "    </tr>\n",
              "    <tr>\n",
              "      <th>33</th>\n",
              "      <td>A19TBA1WARJS55</td>\n",
              "      <td>0528881469</td>\n",
              "      <td>2.0</td>\n",
              "    </tr>\n",
              "    <tr>\n",
              "      <th>34</th>\n",
              "      <td>A3C5SMBSKKWNPT</td>\n",
              "      <td>0528881469</td>\n",
              "      <td>5.0</td>\n",
              "    </tr>\n",
              "    <tr>\n",
              "      <th>37</th>\n",
              "      <td>A132P6YSJSI5G2</td>\n",
              "      <td>0528881469</td>\n",
              "      <td>2.0</td>\n",
              "    </tr>\n",
              "    <tr>\n",
              "      <th>40</th>\n",
              "      <td>A22FB2WSZSXSHH</td>\n",
              "      <td>059400232X</td>\n",
              "      <td>5.0</td>\n",
              "    </tr>\n",
              "    <tr>\n",
              "      <th>41</th>\n",
              "      <td>AZQZ3STMCBG5H</td>\n",
              "      <td>059400232X</td>\n",
              "      <td>5.0</td>\n",
              "    </tr>\n",
              "    <tr>\n",
              "      <th>42</th>\n",
              "      <td>A2EGPA22UHMQXL</td>\n",
              "      <td>0594012015</td>\n",
              "      <td>1.0</td>\n",
              "    </tr>\n",
              "    <tr>\n",
              "      <th>43</th>\n",
              "      <td>AC57CU3TF6ZMJ</td>\n",
              "      <td>0594012015</td>\n",
              "      <td>5.0</td>\n",
              "    </tr>\n",
              "    <tr>\n",
              "      <th>44</th>\n",
              "      <td>A2YX0Z6RHA8Y2H</td>\n",
              "      <td>0594012015</td>\n",
              "      <td>1.0</td>\n",
              "    </tr>\n",
              "    <tr>\n",
              "      <th>45</th>\n",
              "      <td>A38T51B7J6QVD9</td>\n",
              "      <td>0594012015</td>\n",
              "      <td>1.0</td>\n",
              "    </tr>\n",
              "    <tr>\n",
              "      <th>47</th>\n",
              "      <td>A9HI77BE35VYE</td>\n",
              "      <td>0594012015</td>\n",
              "      <td>1.0</td>\n",
              "    </tr>\n",
              "    <tr>\n",
              "      <th>48</th>\n",
              "      <td>A3HFUWKSPF5QEH</td>\n",
              "      <td>0594012015</td>\n",
              "      <td>5.0</td>\n",
              "    </tr>\n",
              "    <tr>\n",
              "      <th>49</th>\n",
              "      <td>A38ETMHM9ATSF0</td>\n",
              "      <td>0594012015</td>\n",
              "      <td>1.0</td>\n",
              "    </tr>\n",
              "    <tr>\n",
              "      <th>52</th>\n",
              "      <td>A3B12X05JZKM94</td>\n",
              "      <td>0594033896</td>\n",
              "      <td>5.0</td>\n",
              "    </tr>\n",
              "    <tr>\n",
              "      <th>56</th>\n",
              "      <td>AOK77THMKCGXZ</td>\n",
              "      <td>0594033896</td>\n",
              "      <td>4.0</td>\n",
              "    </tr>\n",
              "    <tr>\n",
              "      <th>...</th>\n",
              "      <td>...</td>\n",
              "      <td>...</td>\n",
              "      <td>...</td>\n",
              "    </tr>\n",
              "    <tr>\n",
              "      <th>7824452</th>\n",
              "      <td>A3AENU8Y9HLRAQ</td>\n",
              "      <td>B00LMOH8DU</td>\n",
              "      <td>5.0</td>\n",
              "    </tr>\n",
              "    <tr>\n",
              "      <th>7824453</th>\n",
              "      <td>ABX8TXRB2GSKO</td>\n",
              "      <td>B00LMOH8DU</td>\n",
              "      <td>5.0</td>\n",
              "    </tr>\n",
              "    <tr>\n",
              "      <th>7824454</th>\n",
              "      <td>A1QUWXCBPGCQMW</td>\n",
              "      <td>B00LMOH8DU</td>\n",
              "      <td>5.0</td>\n",
              "    </tr>\n",
              "    <tr>\n",
              "      <th>7824455</th>\n",
              "      <td>A37B1XSZUYNSNK</td>\n",
              "      <td>B00LMOH8DU</td>\n",
              "      <td>5.0</td>\n",
              "    </tr>\n",
              "    <tr>\n",
              "      <th>7824456</th>\n",
              "      <td>A3FOXB6244Y5PC</td>\n",
              "      <td>B00LNUH5X6</td>\n",
              "      <td>5.0</td>\n",
              "    </tr>\n",
              "    <tr>\n",
              "      <th>7824457</th>\n",
              "      <td>AELQMX8YAEEYI</td>\n",
              "      <td>B00LOLBBQQ</td>\n",
              "      <td>5.0</td>\n",
              "    </tr>\n",
              "    <tr>\n",
              "      <th>7824458</th>\n",
              "      <td>AG1NNE1V43RWC</td>\n",
              "      <td>B00LOLBBQQ</td>\n",
              "      <td>1.0</td>\n",
              "    </tr>\n",
              "    <tr>\n",
              "      <th>7824459</th>\n",
              "      <td>A2QW4HHHC6XWH4</td>\n",
              "      <td>B00LPQRT34</td>\n",
              "      <td>4.0</td>\n",
              "    </tr>\n",
              "    <tr>\n",
              "      <th>7824460</th>\n",
              "      <td>A2025SOZT6OE6D</td>\n",
              "      <td>B00LS5WBYE</td>\n",
              "      <td>5.0</td>\n",
              "    </tr>\n",
              "    <tr>\n",
              "      <th>7824461</th>\n",
              "      <td>A2DOJYSPCLCQIT</td>\n",
              "      <td>B00LTAUTHE</td>\n",
              "      <td>5.0</td>\n",
              "    </tr>\n",
              "    <tr>\n",
              "      <th>7824462</th>\n",
              "      <td>A1PB6OT0OOPKNQ</td>\n",
              "      <td>B00LXEC8CU</td>\n",
              "      <td>5.0</td>\n",
              "    </tr>\n",
              "    <tr>\n",
              "      <th>7824463</th>\n",
              "      <td>A1MTPZKAYVSES3</td>\n",
              "      <td>BT008G3W52</td>\n",
              "      <td>5.0</td>\n",
              "    </tr>\n",
              "    <tr>\n",
              "      <th>7824464</th>\n",
              "      <td>AS7WVL4JGN1FI</td>\n",
              "      <td>BT008SXQ4C</td>\n",
              "      <td>1.0</td>\n",
              "    </tr>\n",
              "    <tr>\n",
              "      <th>7824465</th>\n",
              "      <td>A3GGII8ILEUI4P</td>\n",
              "      <td>BT008T2BGK</td>\n",
              "      <td>5.0</td>\n",
              "    </tr>\n",
              "    <tr>\n",
              "      <th>7824466</th>\n",
              "      <td>ATK4Q037EM13F</td>\n",
              "      <td>BT008UKTMW</td>\n",
              "      <td>4.0</td>\n",
              "    </tr>\n",
              "    <tr>\n",
              "      <th>7824467</th>\n",
              "      <td>AT10LK8R9MLHT</td>\n",
              "      <td>BT008UKTMW</td>\n",
              "      <td>3.0</td>\n",
              "    </tr>\n",
              "    <tr>\n",
              "      <th>7824468</th>\n",
              "      <td>AKVMJCP7T93X1</td>\n",
              "      <td>BT008UKTMW</td>\n",
              "      <td>5.0</td>\n",
              "    </tr>\n",
              "    <tr>\n",
              "      <th>7824469</th>\n",
              "      <td>A2H4BLBXDNSZ2O</td>\n",
              "      <td>BT008UKTMW</td>\n",
              "      <td>4.0</td>\n",
              "    </tr>\n",
              "    <tr>\n",
              "      <th>7824470</th>\n",
              "      <td>A2DARIL2TWUOLS</td>\n",
              "      <td>BT008UKTMW</td>\n",
              "      <td>2.0</td>\n",
              "    </tr>\n",
              "    <tr>\n",
              "      <th>7824471</th>\n",
              "      <td>A7ETK9SC1HAMP</td>\n",
              "      <td>BT008UKTMW</td>\n",
              "      <td>5.0</td>\n",
              "    </tr>\n",
              "    <tr>\n",
              "      <th>7824472</th>\n",
              "      <td>A5FUA9HEV2O42</td>\n",
              "      <td>BT008UKTMW</td>\n",
              "      <td>5.0</td>\n",
              "    </tr>\n",
              "    <tr>\n",
              "      <th>7824473</th>\n",
              "      <td>A84WRQR47OOKR</td>\n",
              "      <td>BT008UKTMW</td>\n",
              "      <td>1.0</td>\n",
              "    </tr>\n",
              "    <tr>\n",
              "      <th>7824474</th>\n",
              "      <td>A180UGKKYCPDH0</td>\n",
              "      <td>BT008UKTMW</td>\n",
              "      <td>5.0</td>\n",
              "    </tr>\n",
              "    <tr>\n",
              "      <th>7824475</th>\n",
              "      <td>A2R6Q6KJCYSVH7</td>\n",
              "      <td>BT008UKTMW</td>\n",
              "      <td>3.0</td>\n",
              "    </tr>\n",
              "    <tr>\n",
              "      <th>7824476</th>\n",
              "      <td>A2IGIIABRZ5LAB</td>\n",
              "      <td>BT008UKTMW</td>\n",
              "      <td>5.0</td>\n",
              "    </tr>\n",
              "    <tr>\n",
              "      <th>7824477</th>\n",
              "      <td>A2YZI3C9MOHC0L</td>\n",
              "      <td>BT008UKTMW</td>\n",
              "      <td>5.0</td>\n",
              "    </tr>\n",
              "    <tr>\n",
              "      <th>7824478</th>\n",
              "      <td>A322MDK0M89RHN</td>\n",
              "      <td>BT008UKTMW</td>\n",
              "      <td>5.0</td>\n",
              "    </tr>\n",
              "    <tr>\n",
              "      <th>7824479</th>\n",
              "      <td>A1MH90R0ADMIK0</td>\n",
              "      <td>BT008UKTMW</td>\n",
              "      <td>4.0</td>\n",
              "    </tr>\n",
              "    <tr>\n",
              "      <th>7824480</th>\n",
              "      <td>A10M2KEFPEQDHN</td>\n",
              "      <td>BT008UKTMW</td>\n",
              "      <td>4.0</td>\n",
              "    </tr>\n",
              "    <tr>\n",
              "      <th>7824481</th>\n",
              "      <td>A2G81TMIOIDEQQ</td>\n",
              "      <td>BT008V9J9U</td>\n",
              "      <td>5.0</td>\n",
              "    </tr>\n",
              "  </tbody>\n",
              "</table>\n",
              "<p>4201696 rows × 3 columns</p>\n",
              "</div>"
            ],
            "text/plain": [
              "                 userId   productId  ratings\n",
              "2        A2NWSAGRHCP8N5  0439886341      1.0\n",
              "3        A2WNBOD3WNDNKT  0439886341      3.0\n",
              "4        A1GI0U4ZRJA8WN  0439886341      1.0\n",
              "9         A89DO69P0XZ27  0511189877      5.0\n",
              "11       A1DA3W4GTFXP6O  0528881469      5.0\n",
              "12       A29LPQQDG7LD5J  0528881469      1.0\n",
              "21       A2AW1SSVUIYV9Y  0528881469      4.0\n",
              "22       A2AEHUKOV014BP  0528881469      5.0\n",
              "23        AMLFNXUIEMN4T  0528881469      1.0\n",
              "24       A2O8FIJR9EBU56  0528881469      4.0\n",
              "25       A3IQGFB959IR4P  0528881469      1.0\n",
              "26        AYTBGUX49LF3W  0528881469      4.0\n",
              "27       A24QFSUU00IZ05  0528881469      2.0\n",
              "28       A1NG5X8VYZWX0Q  0528881469      1.0\n",
              "30       A2AOEW5UGXFOOQ  0528881469      5.0\n",
              "32        AR84FMFYCQCWF  0528881469      1.0\n",
              "33       A19TBA1WARJS55  0528881469      2.0\n",
              "34       A3C5SMBSKKWNPT  0528881469      5.0\n",
              "37       A132P6YSJSI5G2  0528881469      2.0\n",
              "40       A22FB2WSZSXSHH  059400232X      5.0\n",
              "41        AZQZ3STMCBG5H  059400232X      5.0\n",
              "42       A2EGPA22UHMQXL  0594012015      1.0\n",
              "43        AC57CU3TF6ZMJ  0594012015      5.0\n",
              "44       A2YX0Z6RHA8Y2H  0594012015      1.0\n",
              "45       A38T51B7J6QVD9  0594012015      1.0\n",
              "47        A9HI77BE35VYE  0594012015      1.0\n",
              "48       A3HFUWKSPF5QEH  0594012015      5.0\n",
              "49       A38ETMHM9ATSF0  0594012015      1.0\n",
              "52       A3B12X05JZKM94  0594033896      5.0\n",
              "56        AOK77THMKCGXZ  0594033896      4.0\n",
              "...                 ...         ...      ...\n",
              "7824452  A3AENU8Y9HLRAQ  B00LMOH8DU      5.0\n",
              "7824453   ABX8TXRB2GSKO  B00LMOH8DU      5.0\n",
              "7824454  A1QUWXCBPGCQMW  B00LMOH8DU      5.0\n",
              "7824455  A37B1XSZUYNSNK  B00LMOH8DU      5.0\n",
              "7824456  A3FOXB6244Y5PC  B00LNUH5X6      5.0\n",
              "7824457   AELQMX8YAEEYI  B00LOLBBQQ      5.0\n",
              "7824458   AG1NNE1V43RWC  B00LOLBBQQ      1.0\n",
              "7824459  A2QW4HHHC6XWH4  B00LPQRT34      4.0\n",
              "7824460  A2025SOZT6OE6D  B00LS5WBYE      5.0\n",
              "7824461  A2DOJYSPCLCQIT  B00LTAUTHE      5.0\n",
              "7824462  A1PB6OT0OOPKNQ  B00LXEC8CU      5.0\n",
              "7824463  A1MTPZKAYVSES3  BT008G3W52      5.0\n",
              "7824464   AS7WVL4JGN1FI  BT008SXQ4C      1.0\n",
              "7824465  A3GGII8ILEUI4P  BT008T2BGK      5.0\n",
              "7824466   ATK4Q037EM13F  BT008UKTMW      4.0\n",
              "7824467   AT10LK8R9MLHT  BT008UKTMW      3.0\n",
              "7824468   AKVMJCP7T93X1  BT008UKTMW      5.0\n",
              "7824469  A2H4BLBXDNSZ2O  BT008UKTMW      4.0\n",
              "7824470  A2DARIL2TWUOLS  BT008UKTMW      2.0\n",
              "7824471   A7ETK9SC1HAMP  BT008UKTMW      5.0\n",
              "7824472   A5FUA9HEV2O42  BT008UKTMW      5.0\n",
              "7824473   A84WRQR47OOKR  BT008UKTMW      1.0\n",
              "7824474  A180UGKKYCPDH0  BT008UKTMW      5.0\n",
              "7824475  A2R6Q6KJCYSVH7  BT008UKTMW      3.0\n",
              "7824476  A2IGIIABRZ5LAB  BT008UKTMW      5.0\n",
              "7824477  A2YZI3C9MOHC0L  BT008UKTMW      5.0\n",
              "7824478  A322MDK0M89RHN  BT008UKTMW      5.0\n",
              "7824479  A1MH90R0ADMIK0  BT008UKTMW      4.0\n",
              "7824480  A10M2KEFPEQDHN  BT008UKTMW      4.0\n",
              "7824481  A2G81TMIOIDEQQ  BT008V9J9U      5.0\n",
              "\n",
              "[4201696 rows x 3 columns]"
            ]
          },
          "metadata": {
            "tags": []
          },
          "execution_count": 4
        }
      ]
    },
    {
      "cell_type": "code",
      "metadata": {
        "id": "xMyxVFZ4heNB",
        "colab_type": "code",
        "colab": {}
      },
      "source": [
        "# get the number of review by userId\n",
        "users_by_count = elec_df.groupby('userId')['productId'].count().reset_index(name='counts') "
      ],
      "execution_count": 0,
      "outputs": []
    },
    {
      "cell_type": "markdown",
      "metadata": {
        "id": "wEuRB0JzgTMo",
        "colab_type": "text"
      },
      "source": [
        "Selecting products which have more than 50 reviews"
      ]
    },
    {
      "cell_type": "code",
      "metadata": {
        "id": "9_7qHgkrhkw4",
        "colab_type": "code",
        "colab": {}
      },
      "source": [
        "top_users = users_by_count[ users_by_count['counts'] > 50]"
      ],
      "execution_count": 0,
      "outputs": []
    },
    {
      "cell_type": "code",
      "metadata": {
        "id": "3e0JO0Y3iPLG",
        "colab_type": "code",
        "colab": {
          "base_uri": "https://localhost:8080/",
          "height": 153
        },
        "outputId": "fff35537-37d0-4b86-fcc8-9e9662e346d5"
      },
      "source": [
        "top_users_reviews = elec_df[elec_df['userId'].isin(top_users['userId'].values)]\n",
        "top_users_reviews.info()"
      ],
      "execution_count": 7,
      "outputs": [
        {
          "output_type": "stream",
          "text": [
            "<class 'pandas.core.frame.DataFrame'>\n",
            "Int64Index: 122171 entries, 118 to 7824444\n",
            "Data columns (total 3 columns):\n",
            "userId       122171 non-null object\n",
            "productId    122171 non-null object\n",
            "ratings      122171 non-null float64\n",
            "dtypes: float64(1), object(2)\n",
            "memory usage: 3.7+ MB\n"
          ],
          "name": "stdout"
        }
      ]
    },
    {
      "cell_type": "code",
      "metadata": {
        "id": "m67OOOSWkg3J",
        "colab_type": "code",
        "colab": {
          "base_uri": "https://localhost:8080/",
          "height": 102
        },
        "outputId": "764a8d19-2d21-4c80-d185-efa4b1436703"
      },
      "source": [
        "!pip install scikit-surprise"
      ],
      "execution_count": 8,
      "outputs": [
        {
          "output_type": "stream",
          "text": [
            "Requirement already satisfied: scikit-surprise in /usr/local/lib/python3.6/dist-packages (1.0.6)\n",
            "Requirement already satisfied: scipy>=1.0.0 in /usr/local/lib/python3.6/dist-packages (from scikit-surprise) (1.3.0)\n",
            "Requirement already satisfied: six>=1.10.0 in /usr/local/lib/python3.6/dist-packages (from scikit-surprise) (1.12.0)\n",
            "Requirement already satisfied: numpy>=1.11.2 in /usr/local/lib/python3.6/dist-packages (from scikit-surprise) (1.16.4)\n",
            "Requirement already satisfied: joblib>=0.11 in /usr/local/lib/python3.6/dist-packages (from scikit-surprise) (0.13.2)\n"
          ],
          "name": "stdout"
        }
      ]
    },
    {
      "cell_type": "code",
      "metadata": {
        "id": "ObDIABoei58t",
        "colab_type": "code",
        "colab": {
          "base_uri": "https://localhost:8080/",
          "height": 34
        },
        "outputId": "150ce367-205c-43e4-e0ac-b30203a848a2"
      },
      "source": [
        "from surprise import Reader, Dataset\n",
        "reader = Reader()\n",
        "data = Dataset.load_from_df(top_users_reviews[['userId', 'productId', 'ratings']], reader)\n",
        "data.read_ratings"
      ],
      "execution_count": 9,
      "outputs": [
        {
          "output_type": "execute_result",
          "data": {
            "text/plain": [
              "<bound method Dataset.read_ratings of <surprise.dataset.DatasetAutoFolds object at 0x7fa514b762e8>>"
            ]
          },
          "metadata": {
            "tags": []
          },
          "execution_count": 9
        }
      ]
    },
    {
      "cell_type": "code",
      "metadata": {
        "id": "7QpYBpIYoWOU",
        "colab_type": "code",
        "colab": {}
      },
      "source": [
        "splitting data into training and test set for independent attributes"
      ],
      "execution_count": 0,
      "outputs": []
    },
    {
      "cell_type": "code",
      "metadata": {
        "id": "rGnxL_oJo5Um",
        "colab_type": "code",
        "colab": {}
      },
      "source": [
        "from surprise.model_selection import train_test_split\n",
        "\n",
        "train_data, test_data = train_test_split(data, test_size=0.30)"
      ],
      "execution_count": 0,
      "outputs": []
    },
    {
      "cell_type": "code",
      "metadata": {
        "id": "P4L6neRXpNh9",
        "colab_type": "code",
        "colab": {
          "base_uri": "https://localhost:8080/",
          "height": 34
        },
        "outputId": "1fceefbc-351e-4045-b925-421b6d20581d"
      },
      "source": [
        "type(train_data)"
      ],
      "execution_count": 14,
      "outputs": [
        {
          "output_type": "execute_result",
          "data": {
            "text/plain": [
              "surprise.trainset.Trainset"
            ]
          },
          "metadata": {
            "tags": []
          },
          "execution_count": 14
        }
      ]
    },
    {
      "cell_type": "markdown",
      "metadata": {
        "id": "YyBDvh95uE6N",
        "colab_type": "text"
      },
      "source": [
        "Get the most popular recommmended product"
      ]
    },
    {
      "cell_type": "code",
      "metadata": {
        "id": "_2_OPfzKqioK",
        "colab_type": "code",
        "outputId": "aeda962f-499e-4744-eedb-1cc01d967b40",
        "colab": {
          "base_uri": "https://localhost:8080/",
          "height": 359
        }
      },
      "source": [
        "wavg = top_users_reviews.groupby('productId')['ratings'].mean().reset_index(name='avg rating').sort_values('avg rating', ascending=False)\n",
        "wavg.head(10)"
      ],
      "execution_count": 15,
      "outputs": [
        {
          "output_type": "execute_result",
          "data": {
            "text/html": [
              "<div>\n",
              "<style scoped>\n",
              "    .dataframe tbody tr th:only-of-type {\n",
              "        vertical-align: middle;\n",
              "    }\n",
              "\n",
              "    .dataframe tbody tr th {\n",
              "        vertical-align: top;\n",
              "    }\n",
              "\n",
              "    .dataframe thead th {\n",
              "        text-align: right;\n",
              "    }\n",
              "</style>\n",
              "<table border=\"1\" class=\"dataframe\">\n",
              "  <thead>\n",
              "    <tr style=\"text-align: right;\">\n",
              "      <th></th>\n",
              "      <th>productId</th>\n",
              "      <th>avg rating</th>\n",
              "    </tr>\n",
              "  </thead>\n",
              "  <tbody>\n",
              "    <tr>\n",
              "      <th>47154</th>\n",
              "      <td>B00LKG1MC8</td>\n",
              "      <td>5.0</td>\n",
              "    </tr>\n",
              "    <tr>\n",
              "      <th>18649</th>\n",
              "      <td>B001UE6HZ2</td>\n",
              "      <td>5.0</td>\n",
              "    </tr>\n",
              "    <tr>\n",
              "      <th>18704</th>\n",
              "      <td>B001UKJ8FC</td>\n",
              "      <td>5.0</td>\n",
              "    </tr>\n",
              "    <tr>\n",
              "      <th>18703</th>\n",
              "      <td>B001UK6UO4</td>\n",
              "      <td>5.0</td>\n",
              "    </tr>\n",
              "    <tr>\n",
              "      <th>37782</th>\n",
              "      <td>B0082N9DGY</td>\n",
              "      <td>5.0</td>\n",
              "    </tr>\n",
              "    <tr>\n",
              "      <th>37783</th>\n",
              "      <td>B0082N9E9U</td>\n",
              "      <td>5.0</td>\n",
              "    </tr>\n",
              "    <tr>\n",
              "      <th>18698</th>\n",
              "      <td>B001UJJNNA</td>\n",
              "      <td>5.0</td>\n",
              "    </tr>\n",
              "    <tr>\n",
              "      <th>18695</th>\n",
              "      <td>B001UIPV28</td>\n",
              "      <td>5.0</td>\n",
              "    </tr>\n",
              "    <tr>\n",
              "      <th>18694</th>\n",
              "      <td>B001UIHAOK</td>\n",
              "      <td>5.0</td>\n",
              "    </tr>\n",
              "    <tr>\n",
              "      <th>37789</th>\n",
              "      <td>B0082PZ0LO</td>\n",
              "      <td>5.0</td>\n",
              "    </tr>\n",
              "  </tbody>\n",
              "</table>\n",
              "</div>"
            ],
            "text/plain": [
              "        productId  avg rating\n",
              "47154  B00LKG1MC8         5.0\n",
              "18649  B001UE6HZ2         5.0\n",
              "18704  B001UKJ8FC         5.0\n",
              "18703  B001UK6UO4         5.0\n",
              "37782  B0082N9DGY         5.0\n",
              "37783  B0082N9E9U         5.0\n",
              "18698  B001UJJNNA         5.0\n",
              "18695  B001UIPV28         5.0\n",
              "18694  B001UIHAOK         5.0\n",
              "37789  B0082PZ0LO         5.0"
            ]
          },
          "metadata": {
            "tags": []
          },
          "execution_count": 15
        }
      ]
    },
    {
      "cell_type": "markdown",
      "metadata": {
        "id": "8dd3kaTS9oBW",
        "colab_type": "text"
      },
      "source": [
        "Use the popularity model to make some predictions"
      ]
    },
    {
      "cell_type": "code",
      "metadata": {
        "id": "4PRzdrldnYNc",
        "colab_type": "code",
        "colab": {
          "base_uri": "https://localhost:8080/",
          "height": 34
        },
        "outputId": "4d77324f-2c78-4255-d53d-54505af1de12"
      },
      "source": [
        "train_data.global_mean"
      ],
      "execution_count": 16,
      "outputs": [
        {
          "output_type": "execute_result",
          "data": {
            "text/plain": [
              "4.2630409616576435"
            ]
          },
          "metadata": {
            "tags": []
          },
          "execution_count": 16
        }
      ]
    },
    {
      "cell_type": "code",
      "metadata": {
        "id": "V_4_TL8_jGaV",
        "colab_type": "code",
        "colab": {
          "base_uri": "https://localhost:8080/",
          "height": 34
        },
        "outputId": "ac7a7b93-7a84-484a-8515-f124912c10c8"
      },
      "source": [
        "from surprise import SVD, accuracy\n",
        "algo = SVD()\n",
        "algo.fit(train_data)"
      ],
      "execution_count": 17,
      "outputs": [
        {
          "output_type": "execute_result",
          "data": {
            "text/plain": [
              "<surprise.prediction_algorithms.matrix_factorization.SVD at 0x7fa514b76a20>"
            ]
          },
          "metadata": {
            "tags": []
          },
          "execution_count": 17
        }
      ]
    },
    {
      "cell_type": "code",
      "metadata": {
        "id": "vdZiQ_DzjIEt",
        "colab_type": "code",
        "colab": {}
      },
      "source": [
        "predictions = algo.test(test_data)"
      ],
      "execution_count": 0,
      "outputs": []
    },
    {
      "cell_type": "code",
      "metadata": {
        "id": "V5GEJpfAjJy1",
        "colab_type": "code",
        "colab": {
          "base_uri": "https://localhost:8080/",
          "height": 51
        },
        "outputId": "79b57031-5bb9-41c5-9bbb-e445ca66b52e"
      },
      "source": [
        "from surprise import accuracy\n",
        "accuracy.rmse(predictions)"
      ],
      "execution_count": 19,
      "outputs": [
        {
          "output_type": "stream",
          "text": [
            "RMSE: 0.9849\n"
          ],
          "name": "stdout"
        },
        {
          "output_type": "execute_result",
          "data": {
            "text/plain": [
              "0.9849295165099282"
            ]
          },
          "metadata": {
            "tags": []
          },
          "execution_count": 19
        }
      ]
    },
    {
      "cell_type": "markdown",
      "metadata": {
        "id": "uC7vOyIKjL8T",
        "colab_type": "text"
      },
      "source": [
        "Model evaluation"
      ]
    },
    {
      "cell_type": "code",
      "metadata": {
        "id": "5og3OJ9ujNfp",
        "colab_type": "code",
        "colab": {
          "base_uri": "https://localhost:8080/",
          "height": 768
        },
        "outputId": "1b21d3eb-6d54-4911-a6df-7dd43beacc7d"
      },
      "source": [
        "import surprise\n",
        "from surprise import evaluate\n",
        "\n",
        "surprise.evaluate(algo, data, measures=[u'rmse', u'mae'], with_dump=False)"
      ],
      "execution_count": 20,
      "outputs": [
        {
          "output_type": "stream",
          "text": [
            "/usr/local/lib/python3.6/dist-packages/surprise/evaluate.py:66: UserWarning: The evaluate() method is deprecated. Please use model_selection.cross_validate() instead.\n",
            "  'model_selection.cross_validate() instead.', UserWarning)\n",
            "/usr/local/lib/python3.6/dist-packages/surprise/dataset.py:193: UserWarning: Using data.split() or using load_from_folds() without using a CV iterator is now deprecated. \n",
            "  UserWarning)\n"
          ],
          "name": "stderr"
        },
        {
          "output_type": "stream",
          "text": [
            "Evaluating RMSE, MAE of algorithm SVD.\n",
            "\n",
            "------------\n",
            "Fold 1\n",
            "RMSE: 0.9803\n",
            "MAE:  0.7245\n",
            "------------\n",
            "Fold 2\n",
            "RMSE: 0.9835\n",
            "MAE:  0.7265\n",
            "------------\n",
            "Fold 3\n",
            "RMSE: 0.9732\n",
            "MAE:  0.7208\n",
            "------------\n",
            "Fold 4\n",
            "RMSE: 0.9891\n",
            "MAE:  0.7325\n",
            "------------\n",
            "Fold 5\n",
            "RMSE: 0.9843\n",
            "MAE:  0.7279\n",
            "------------\n",
            "------------\n",
            "Mean RMSE: 0.9821\n",
            "Mean MAE : 0.7265\n",
            "------------\n",
            "------------\n"
          ],
          "name": "stdout"
        },
        {
          "output_type": "execute_result",
          "data": {
            "text/plain": [
              "CaseInsensitiveDefaultDict(list,\n",
              "                           {'mae': [0.7245479190305385,\n",
              "                             0.7264969211089013,\n",
              "                             0.7207892456081049,\n",
              "                             0.7325185753055219,\n",
              "                             0.7279133060656663],\n",
              "                            'rmse': [0.9803356991355212,\n",
              "                             0.9835127887875742,\n",
              "                             0.9731966794625193,\n",
              "                             0.9890701733346196,\n",
              "                             0.9842836991906657]})"
            ]
          },
          "metadata": {
            "tags": []
          },
          "execution_count": 20
        }
      ]
    }
  ]
}