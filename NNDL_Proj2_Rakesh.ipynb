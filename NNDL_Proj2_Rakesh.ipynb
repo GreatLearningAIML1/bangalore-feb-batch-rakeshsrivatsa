{
  "nbformat": 4,
  "nbformat_minor": 0,
  "metadata": {
    "colab": {
      "name": "NNDL_Proj2_Rakesh.ipynb",
      "provenance": [],
      "collapsed_sections": []
    },
    "kernelspec": {
      "name": "python3",
      "display_name": "Python 3"
    }
  },
  "cells": [
    {
      "cell_type": "code",
      "metadata": {
        "id": "r8qwkzWdntFL",
        "colab_type": "code",
        "colab": {}
      },
      "source": [
        "# import the necessary packages\n",
        "from __future__ import print_function\n",
        "from sklearn.model_selection import train_test_split\n",
        "from sklearn.neighbors import KNeighborsClassifier\n",
        "from sklearn.metrics import confusion_matrix\n",
        "from sklearn.metrics import classification_report\n",
        "from sklearn import datasets\n",
        "from skimage import exposure\n",
        "from sklearn import metrics\n",
        "import numpy as np\n",
        "#import imutils\n",
        "import cv2\n",
        "import matplotlib.pyplot as plt\n",
        "import matplotlib.pylab as plt\n",
        "import matplotlib.cm as cm\n",
        "%matplotlib inline\n",
        "\n",
        "import pandas as pd\n",
        "import h5py\n",
        "import warnings\n",
        "warnings.filterwarnings('ignore')"
      ],
      "execution_count": 0,
      "outputs": []
    },
    {
      "cell_type": "code",
      "metadata": {
        "id": "3rGdjEHJIqAf",
        "colab_type": "code",
        "colab": {}
      },
      "source": [
        "import numpy \n",
        "import pandas\n",
        "\n"
      ],
      "execution_count": 0,
      "outputs": []
    },
    {
      "cell_type": "code",
      "metadata": {
        "id": "Wlx-ymYOqeF5",
        "colab_type": "code",
        "outputId": "f9fd03de-1fd7-4a53-e6df-962a9355b829",
        "colab": {
          "base_uri": "https://localhost:8080/",
          "height": 122
        }
      },
      "source": [
        "from google.colab import drive\n",
        "drive.mount('/content/drive')\n"
      ],
      "execution_count": 3,
      "outputs": [
        {
          "output_type": "stream",
          "text": [
            "Go to this URL in a browser: https://accounts.google.com/o/oauth2/auth?client_id=947318989803-6bn6qk8qdgf4n4g3pfee6491hc0brc4i.apps.googleusercontent.com&redirect_uri=urn%3Aietf%3Awg%3Aoauth%3A2.0%3Aoob&scope=email%20https%3A%2F%2Fwww.googleapis.com%2Fauth%2Fdocs.test%20https%3A%2F%2Fwww.googleapis.com%2Fauth%2Fdrive%20https%3A%2F%2Fwww.googleapis.com%2Fauth%2Fdrive.photos.readonly%20https%3A%2F%2Fwww.googleapis.com%2Fauth%2Fpeopleapi.readonly&response_type=code\n",
            "\n",
            "Enter your authorization code:\n",
            "··········\n",
            "Mounted at /content/drive\n"
          ],
          "name": "stdout"
        }
      ]
    },
    {
      "cell_type": "code",
      "metadata": {
        "id": "mLa0Jy74urud",
        "colab_type": "code",
        "colab": {}
      },
      "source": [
        "svhn = h5py.File('/content/drive/My Drive/AIML_NoteBooks/LabAndAssignments/R8/SVHN_single_grey1.h5', 'r')"
      ],
      "execution_count": 0,
      "outputs": []
    },
    {
      "cell_type": "code",
      "metadata": {
        "id": "PD17HTLwvC85",
        "colab_type": "code",
        "outputId": "6010554d-af71-4391-92fc-c2863fade3ba",
        "colab": {
          "base_uri": "https://localhost:8080/",
          "height": 34
        }
      },
      "source": [
        "list(svhn)"
      ],
      "execution_count": 5,
      "outputs": [
        {
          "output_type": "execute_result",
          "data": {
            "text/plain": [
              "['X_test', 'X_train', 'X_val', 'y_test', 'y_train', 'y_val']"
            ]
          },
          "metadata": {
            "tags": []
          },
          "execution_count": 5
        }
      ]
    },
    {
      "cell_type": "code",
      "metadata": {
        "id": "1aF5EBVtv4pm",
        "colab_type": "code",
        "colab": {}
      },
      "source": [
        "testData = svhn['X_test'][:]\n",
        "trainData = svhn['X_train'][:]\n",
        "valData = svhn['X_val'][:]\n",
        "testLabels = svhn['y_test'][:]\n",
        "trainLabels = svhn['y_train'][:]\n",
        "valLabels = svhn['y_val'][:]"
      ],
      "execution_count": 0,
      "outputs": []
    },
    {
      "cell_type": "code",
      "metadata": {
        "id": "zXX6xuzK2kX6",
        "colab_type": "code",
        "outputId": "c52aca01-b570-43be-dff5-86f623619323",
        "colab": {
          "base_uri": "https://localhost:8080/",
          "height": 34
        }
      },
      "source": [
        "trainLabels.shape"
      ],
      "execution_count": 7,
      "outputs": [
        {
          "output_type": "execute_result",
          "data": {
            "text/plain": [
              "(42000,)"
            ]
          },
          "metadata": {
            "tags": []
          },
          "execution_count": 7
        }
      ]
    },
    {
      "cell_type": "code",
      "metadata": {
        "id": "ofuFs2YExH4n",
        "colab_type": "code",
        "colab": {}
      },
      "source": [
        "X_train_reshaped = trainData.reshape((42000, 1024))\n",
        "X_test_reshaped = testData.reshape((18000, 1024))\n",
        "X_val_reshaped = valData.reshape((60000, 1024))"
      ],
      "execution_count": 0,
      "outputs": []
    },
    {
      "cell_type": "code",
      "metadata": {
        "id": "HA-snjw2OhwS",
        "colab_type": "code",
        "outputId": "e70c87b8-ba4c-4b20-bd89-522fe9df6d49",
        "colab": {
          "base_uri": "https://localhost:8080/",
          "height": 68
        }
      },
      "source": [
        "knn = KNeighborsClassifier(n_neighbors=3)\n",
        "knn.fit(X_train_reshaped, trainLabels)"
      ],
      "execution_count": 10,
      "outputs": [
        {
          "output_type": "execute_result",
          "data": {
            "text/plain": [
              "KNeighborsClassifier(algorithm='auto', leaf_size=30, metric='minkowski',\n",
              "                     metric_params=None, n_jobs=None, n_neighbors=3, p=2,\n",
              "                     weights='uniform')"
            ]
          },
          "metadata": {
            "tags": []
          },
          "execution_count": 10
        }
      ]
    },
    {
      "cell_type": "code",
      "metadata": {
        "id": "6ApQSvNWOnh8",
        "colab_type": "code",
        "colab": {}
      },
      "source": [
        "y_pred = knn.predict(X_test_reshaped)"
      ],
      "execution_count": 0,
      "outputs": []
    },
    {
      "cell_type": "code",
      "metadata": {
        "id": "0HKvSTqROsS-",
        "colab_type": "code",
        "colab": {}
      },
      "source": [
        "metrics.accuracy_score(y_pred, testLabels)"
      ],
      "execution_count": 0,
      "outputs": []
    },
    {
      "cell_type": "code",
      "metadata": {
        "id": "Fq20lWS7UKIr",
        "colab_type": "code",
        "colab": {}
      },
      "source": [
        "input_shape=(32, 32, 1)"
      ],
      "execution_count": 0,
      "outputs": []
    },
    {
      "cell_type": "code",
      "metadata": {
        "id": "r9FG7iMoUbUx",
        "colab_type": "code",
        "colab": {}
      },
      "source": [
        "learning_rate = 0.01"
      ],
      "execution_count": 0,
      "outputs": []
    },
    {
      "cell_type": "code",
      "metadata": {
        "id": "g4IrcPShZCXl",
        "colab_type": "code",
        "colab": {}
      },
      "source": [
        "y_train_cat = keras.utils.to_categorical(trainLabels, 10)\n",
        "y_val_cat = keras.utils.to_categorical(valLabels, 10)\n",
        "y_test_cat = keras.utils.to_categorical(testLabels, 10)"
      ],
      "execution_count": 0,
      "outputs": []
    },
    {
      "cell_type": "code",
      "metadata": {
        "id": "_CFypTIVTi2f",
        "colab_type": "code",
        "colab": {}
      },
      "source": [
        "import keras\n",
        "from keras.models import Sequential\n",
        "from keras.layers.core import Dense,Dropout,Activation,Flatten, Reshape\n",
        "from keras.layers.convolutional import Conv2D,MaxPooling2D\n",
        "from keras.layers.normalization import BatchNormalization"
      ],
      "execution_count": 0,
      "outputs": []
    },
    {
      "cell_type": "code",
      "metadata": {
        "id": "Uc61byn00XYg",
        "colab_type": "code",
        "colab": {}
      },
      "source": [
        "    model_input = Input(shape=(32, 32, 1))\n",
        "    x = BatchNormalization()(model_input)\n",
        "        \n",
        "    x = Conv2D(32, (3, 3), activation='relu', padding='same')(model_input)\n",
        "    x = MaxPooling2D(pool_size=(2, 2))(x) \n",
        "    \n",
        "    x = Conv2D(32, (3, 3), activation='relu')(x)\n",
        "    x = MaxPooling2D(pool_size=(2, 2))(x)    \n",
        "    x = Dropout(0.25)(x)\n",
        "    \n",
        "    x = Conv2D(64, (3, 3), activation='relu')(x)       \n",
        "    x = Conv2D(64, (3, 3), activation='relu')(x)    \n",
        "    x = Dropout(0.25)(x)\n",
        "    \n",
        "    x = Conv2D(196, (3, 3), activation='relu')(x)    \n",
        "    x = Dropout(0.25)(x)\n",
        "              \n",
        "    x = Flatten()(x)\n",
        "    \n",
        "    x = Dense(512, activation='relu')(x)    \n",
        "    x = Dropout(0.5)(x)\n",
        "    \n",
        "    y1 = Dense(11, activation='softmax')(x)\n",
        "    y2 = Dense(11, activation='softmax')(x)\n",
        "    y3 = Dense(11, activation='softmax')(x)\n",
        "    y4 = Dense(11, activation='softmax')(x)\n",
        "    y5 = Dense(11, activation='softmax')(x)\n",
        "    \n",
        "    model = Model(input=model_input, output=[y1, y2, y3, y4, y5])\n",
        "\n",
        "    model.compile(loss='categorical_crossentropy', optimizer='sgd', metrics=['accuracy'])"
      ],
      "execution_count": 0,
      "outputs": []
    },
    {
      "cell_type": "code",
      "metadata": {
        "id": "7-G0ptLGUCSc",
        "colab_type": "code",
        "colab": {}
      },
      "source": [
        "model.fit(trainData, y_train_cat, batch_size=64, epochs=50, validation_data=(valData, y_val_cat))"
      ],
      "execution_count": 0,
      "outputs": []
    },
    {
      "cell_type": "code",
      "metadata": {
        "id": "mVhGSnZiWnjD",
        "colab_type": "code",
        "colab": {}
      },
      "source": [
        "model.evaluate(testData, y_test_cat)"
      ],
      "execution_count": 0,
      "outputs": []
    },
    {
      "cell_type": "code",
      "metadata": {
        "id": "MlBl1zHRb6_h",
        "colab_type": "code",
        "colab": {}
      },
      "source": [
        "y_pred_deep = model.predict_classes(testData)"
      ],
      "execution_count": 0,
      "outputs": []
    },
    {
      "cell_type": "code",
      "metadata": {
        "id": "xReevTrpJgyO",
        "colab_type": "code",
        "colab": {}
      },
      "source": [
        ""
      ],
      "execution_count": 0,
      "outputs": []
    }
  ]
}
