{
 "cells": [
  {
   "cell_type": "code",
   "execution_count": 1,
   "metadata": {},
   "outputs": [],
   "source": [
    "import numpy as np\n",
    "import pandas as pd\n",
    "from scipy.stats import ttest_1samp, ttest_ind, mannwhitneyu, levene, shapiro,wilcoxon\n",
    "from statsmodels.stats.power import ttest_power\n",
    "insurance_sales = pd.read_csv(\"data.csv\")"
   ]
  },
  {
   "cell_type": "markdown",
   "metadata": {},
   "source": [
    "1.Find the mean of old scheme and new scheme column. (5 points)"
   ]
  },
  {
   "cell_type": "code",
   "execution_count": 2,
   "metadata": {},
   "outputs": [
    {
     "data": {
      "text/plain": [
       "SALESPERSON                  15.500000\n",
       "Old Scheme (in thousands)    68.033333\n",
       "New Scheme (in thousands)    72.033333\n",
       "dtype: float64"
      ]
     },
     "execution_count": 2,
     "metadata": {},
     "output_type": "execute_result"
    }
   ],
   "source": [
    "insurance_sales.mean()"
   ]
  },
  {
   "cell_type": "markdown",
   "metadata": {},
   "source": [
    "2.Use the five percent significance test over the data to determine the p value to check new scheme has significantly raised outputs? (10 points)"
   ]
  },
  {
   "cell_type": "code",
   "execution_count": 3,
   "metadata": {},
   "outputs": [
    {
     "name": "stdout",
     "output_type": "stream",
     "text": [
      "0.6937067608923764 0.49063515686248105\n"
     ]
    }
   ],
   "source": [
    "#Null Hypothesis : There is no significant difference between new and old data\n",
    "#Alternate Hypothesis : There is a significant difference between new and old data\n",
    "\n",
    "old_sample = insurance_sales['Old Scheme (in thousands)']\n",
    "new_sample = insurance_sales['New Scheme (in thousands)']\n",
    "t_statistic, p_value = ttest_ind(new_sample, old_sample, )\n",
    "print(t_statistic, p_value)"
   ]
  },
  {
   "cell_type": "code",
   "execution_count": null,
   "metadata": {},
   "outputs": [],
   "source": [
    "#Since p value is greater than .05, we accept null hypothesis.i.e\n",
    "#there is no signinficant difference between the two insurance schemes."
   ]
  },
  {
   "cell_type": "markdown",
   "metadata": {},
   "source": [
    "3.What conclusion does the test (p-value) lead to? (2.5 points)"
   ]
  },
  {
   "cell_type": "markdown",
   "metadata": {},
   "source": [
    "The above test(p-value) shows that since the p value is greater than .05, we accept null hypothesis.i.e\n",
    " there is no signinficant difference between the two insurance schemes."
   ]
  },
  {
   "cell_type": "markdown",
   "metadata": {},
   "source": [
    "4.Suppose it has been calculated that in order for Titan to break even, the average output must increase by £5000 in the scheme compared to the old scheme. If this figure is alternative hypothesis, what is:\n",
    "        a) The probability of a type 1 error? (2.5 points)\n",
    "\n",
    "        b) What is the p- value of the hypothesis test if we test for a difference of $5000? (5 points)\n",
    "\n",
    "        c) Power of the test (5 points)"
   ]
  },
  {
   "cell_type": "code",
   "execution_count": 4,
   "metadata": {},
   "outputs": [
    {
     "name": "stdout",
     "output_type": "stream",
     "text": [
      "P-Value is  0.49063515686248105\n"
     ]
    },
    {
     "data": {
      "text/plain": [
       "0.12909555513169643"
      ]
     },
     "execution_count": 4,
     "metadata": {},
     "output_type": "execute_result"
    }
   ],
   "source": [
    "#a. Probability of Type 1 error is 5% i.e 0.05\n",
    "#b. H0: Difference in sum assured for before and after change <=5000\n",
    "#   HA: Difference in sum assured for before and after change >5000\n",
    "        \n",
    "old_sample = insurance_sales['Old Scheme (in thousands)']\n",
    "new_sample = insurance_sales['New Scheme (in thousands)']\n",
    "t_statistic, p_value = ttest_ind(new_sample, old_sample, )\n",
    "print(\"P-Value is \", p_value)\n",
    "\n",
    "#c.\n",
    "(np.mean(new_sample) - np.mean(old_sample)) / np.sqrt(((30-1)*np.var(new_sample)+(30-1)*np.var(old_sample)) / 30+30-2)\n"
   ]
  },
  {
   "cell_type": "code",
   "execution_count": 5,
   "metadata": {},
   "outputs": [
    {
     "name": "stdout",
     "output_type": "stream",
     "text": [
      "0.050535294654324825\n"
     ]
    }
   ],
   "source": [
    "print(ttest_power(0.0129, nobs=30, alpha=0.05, alternative='two-sided'))"
   ]
  },
  {
   "cell_type": "code",
   "execution_count": null,
   "metadata": {},
   "outputs": [],
   "source": [
    "#Power of t-test is 0.0505"
   ]
  }
 ],
 "metadata": {
  "kernelspec": {
   "display_name": "Python 3",
   "language": "python",
   "name": "python3"
  },
  "language_info": {
   "codemirror_mode": {
    "name": "ipython",
    "version": 3
   },
   "file_extension": ".py",
   "mimetype": "text/x-python",
   "name": "python",
   "nbconvert_exporter": "python",
   "pygments_lexer": "ipython3",
   "version": "3.7.1"
  }
 },
 "nbformat": 4,
 "nbformat_minor": 2
}
