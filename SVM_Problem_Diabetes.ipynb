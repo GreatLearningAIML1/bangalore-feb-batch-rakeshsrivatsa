{
  "nbformat": 4,
  "nbformat_minor": 0,
  "metadata": {
    "colab": {
      "name": "SVM_Problem_Diabetes.ipynb",
      "version": "0.3.2",
      "provenance": [],
      "collapsed_sections": []
    },
    "language_info": {
      "codemirror_mode": {
        "name": "ipython",
        "version": 3
      },
      "file_extension": ".py",
      "mimetype": "text/x-python",
      "name": "python",
      "nbconvert_exporter": "python",
      "pygments_lexer": "ipython3",
      "version": "3.6.1"
    },
    "kernelspec": {
      "display_name": "Python 3",
      "language": "python",
      "name": "python3"
    }
  },
  "cells": [
    {
      "cell_type": "code",
      "metadata": {
        "id": "XaeZxlgb7MPw",
        "colab_type": "code",
        "colab": {}
      },
      "source": [
        "import pandas as pd\n",
        "import numpy as np\n",
        "from sklearn.model_selection import train_test_split\n",
        "from sklearn.preprocessing import StandardScaler\n",
        "from sklearn.preprocessing import MinMaxScaler\n",
        "from sklearn.svm import SVC\n",
        "from sklearn.metrics import confusion_matrix\n",
        "from sklearn.metrics import f1_score\n",
        "from sklearn.metrics import accuracy_score\n",
        "from sklearn.feature_selection import SelectKBest\n",
        "from sklearn.feature_selection import chi2\n",
        "from sklearn.feature_selection import VarianceThreshold\n",
        "import matplotlib.pyplot as plt\n",
        "import seaborn as sns\n",
        "%matplotlib inline"
      ],
      "execution_count": 0,
      "outputs": []
    },
    {
      "cell_type": "markdown",
      "metadata": {
        "id": "qURtTlUS7MP0",
        "colab_type": "text"
      },
      "source": [
        "### Read the input file 'Diabetes.csv' using Pandas and check it's column names(1 Marks)"
      ]
    },
    {
      "cell_type": "code",
      "metadata": {
        "id": "XvjYeBmt7MP1",
        "colab_type": "code",
        "colab": {
          "base_uri": "https://localhost:8080/",
          "height": 34
        },
        "outputId": "1b234374-47af-4904-b6fb-6d845528784d"
      },
      "source": [
        "from google.colab import drive\n",
        "drive.mount('/content/drive')\n"
      ],
      "execution_count": 2,
      "outputs": [
        {
          "output_type": "stream",
          "text": [
            "Drive already mounted at /content/drive; to attempt to forcibly remount, call drive.mount(\"/content/drive\", force_remount=True).\n"
          ],
          "name": "stdout"
        }
      ]
    },
    {
      "cell_type": "code",
      "metadata": {
        "id": "RYY9Vchh7MP3",
        "colab_type": "code",
        "colab": {
          "base_uri": "https://localhost:8080/",
          "height": 204
        },
        "outputId": "1c27c22d-88b8-48c1-f684-3288aa93e5f4"
      },
      "source": [
        "data = pd.read_csv(\"/content/drive/My Drive/AIML_NoteBooks/LabAndAssignments/diabetes.csv\")\n",
        "data.head()\n",
        "# Eye ball the imported dataset"
      ],
      "execution_count": 3,
      "outputs": [
        {
          "output_type": "execute_result",
          "data": {
            "text/html": [
              "<div>\n",
              "<style scoped>\n",
              "    .dataframe tbody tr th:only-of-type {\n",
              "        vertical-align: middle;\n",
              "    }\n",
              "\n",
              "    .dataframe tbody tr th {\n",
              "        vertical-align: top;\n",
              "    }\n",
              "\n",
              "    .dataframe thead th {\n",
              "        text-align: right;\n",
              "    }\n",
              "</style>\n",
              "<table border=\"1\" class=\"dataframe\">\n",
              "  <thead>\n",
              "    <tr style=\"text-align: right;\">\n",
              "      <th></th>\n",
              "      <th>Pregnancies</th>\n",
              "      <th>Glucose</th>\n",
              "      <th>BloodPressure</th>\n",
              "      <th>SkinThickness</th>\n",
              "      <th>Insulin</th>\n",
              "      <th>BMI</th>\n",
              "      <th>DiabetesPedigreeFunction</th>\n",
              "      <th>Age</th>\n",
              "      <th>Outcome</th>\n",
              "    </tr>\n",
              "  </thead>\n",
              "  <tbody>\n",
              "    <tr>\n",
              "      <th>0</th>\n",
              "      <td>6</td>\n",
              "      <td>148</td>\n",
              "      <td>72</td>\n",
              "      <td>35</td>\n",
              "      <td>0</td>\n",
              "      <td>33.6</td>\n",
              "      <td>0.627</td>\n",
              "      <td>50</td>\n",
              "      <td>1</td>\n",
              "    </tr>\n",
              "    <tr>\n",
              "      <th>1</th>\n",
              "      <td>1</td>\n",
              "      <td>85</td>\n",
              "      <td>66</td>\n",
              "      <td>29</td>\n",
              "      <td>0</td>\n",
              "      <td>26.6</td>\n",
              "      <td>0.351</td>\n",
              "      <td>31</td>\n",
              "      <td>0</td>\n",
              "    </tr>\n",
              "    <tr>\n",
              "      <th>2</th>\n",
              "      <td>8</td>\n",
              "      <td>183</td>\n",
              "      <td>64</td>\n",
              "      <td>0</td>\n",
              "      <td>0</td>\n",
              "      <td>23.3</td>\n",
              "      <td>0.672</td>\n",
              "      <td>32</td>\n",
              "      <td>1</td>\n",
              "    </tr>\n",
              "    <tr>\n",
              "      <th>3</th>\n",
              "      <td>1</td>\n",
              "      <td>89</td>\n",
              "      <td>66</td>\n",
              "      <td>23</td>\n",
              "      <td>94</td>\n",
              "      <td>28.1</td>\n",
              "      <td>0.167</td>\n",
              "      <td>21</td>\n",
              "      <td>0</td>\n",
              "    </tr>\n",
              "    <tr>\n",
              "      <th>4</th>\n",
              "      <td>0</td>\n",
              "      <td>137</td>\n",
              "      <td>40</td>\n",
              "      <td>35</td>\n",
              "      <td>168</td>\n",
              "      <td>43.1</td>\n",
              "      <td>2.288</td>\n",
              "      <td>33</td>\n",
              "      <td>1</td>\n",
              "    </tr>\n",
              "  </tbody>\n",
              "</table>\n",
              "</div>"
            ],
            "text/plain": [
              "   Pregnancies  Glucose  BloodPressure  ...  DiabetesPedigreeFunction  Age  Outcome\n",
              "0            6      148             72  ...                     0.627   50        1\n",
              "1            1       85             66  ...                     0.351   31        0\n",
              "2            8      183             64  ...                     0.672   32        1\n",
              "3            1       89             66  ...                     0.167   21        0\n",
              "4            0      137             40  ...                     2.288   33        1\n",
              "\n",
              "[5 rows x 9 columns]"
            ]
          },
          "metadata": {
            "tags": []
          },
          "execution_count": 3
        }
      ]
    },
    {
      "cell_type": "code",
      "metadata": {
        "id": "zUNl3g9F-JBu",
        "colab_type": "code",
        "colab": {}
      },
      "source": [
        "X = data.iloc[:, 0:8]\n",
        "y = data.iloc[:, 8]"
      ],
      "execution_count": 0,
      "outputs": []
    },
    {
      "cell_type": "markdown",
      "metadata": {
        "id": "LcHjHMj17MP5",
        "colab_type": "text"
      },
      "source": [
        "### Check dimension of dataset"
      ]
    },
    {
      "cell_type": "code",
      "metadata": {
        "id": "VjvdrfKt7MP6",
        "colab_type": "code",
        "colab": {
          "base_uri": "https://localhost:8080/",
          "height": 221
        },
        "outputId": "b3a49235-494c-44f5-c812-40d406cb775e"
      },
      "source": [
        "print(data.describe())\n",
        "print(data.shape)"
      ],
      "execution_count": 5,
      "outputs": [
        {
          "output_type": "stream",
          "text": [
            "       Pregnancies     Glucose  ...         Age     Outcome\n",
            "count   768.000000  768.000000  ...  768.000000  768.000000\n",
            "mean      3.845052  120.894531  ...   33.240885    0.348958\n",
            "std       3.369578   31.972618  ...   11.760232    0.476951\n",
            "min       0.000000    0.000000  ...   21.000000    0.000000\n",
            "25%       1.000000   99.000000  ...   24.000000    0.000000\n",
            "50%       3.000000  117.000000  ...   29.000000    0.000000\n",
            "75%       6.000000  140.250000  ...   41.000000    1.000000\n",
            "max      17.000000  199.000000  ...   81.000000    1.000000\n",
            "\n",
            "[8 rows x 9 columns]\n",
            "(768, 9)\n"
          ],
          "name": "stdout"
        }
      ]
    },
    {
      "cell_type": "markdown",
      "metadata": {
        "id": "caRjC9wF7MP7",
        "colab_type": "text"
      },
      "source": [
        "### Check distribution of dependent variable, Outcome and plot it (1 Marks)"
      ]
    },
    {
      "cell_type": "code",
      "metadata": {
        "id": "qp-0P73X7MP8",
        "colab_type": "code",
        "colab": {
          "base_uri": "https://localhost:8080/",
          "height": 408
        },
        "outputId": "3f2b6e23-e97a-4386-9b74-1f97181ac88c"
      },
      "source": [
        "sns.heatmap(X.corr(), annot = True)"
      ],
      "execution_count": 6,
      "outputs": [
        {
          "output_type": "execute_result",
          "data": {
            "text/plain": [
              "<matplotlib.axes._subplots.AxesSubplot at 0x7f035c7a96a0>"
            ]
          },
          "metadata": {
            "tags": []
          },
          "execution_count": 6
        },
        {
          "output_type": "display_data",
          "data": {
            "image/png": "[encoded data removed]",
            "text/plain": [
              "<Figure size 432x288 with 2 Axes>"
            ]
          },
          "metadata": {
            "tags": []
          }
        }
      ]
    },
    {
      "cell_type": "markdown",
      "metadata": {
        "id": "zYn-9pwd7MP-",
        "colab_type": "text"
      },
      "source": [
        "### Out of  768 data points, 500 are labeled as 0 and 268 as 1.\n",
        "### Outcome 0 means No diabetes, outcome 1 means diabetes"
      ]
    },
    {
      "cell_type": "code",
      "metadata": {
        "id": "S3e-UkjX7MP_",
        "colab_type": "code",
        "colab": {}
      },
      "source": [
        "zero_not_accepted = ['Glucose', 'BloodPressure', 'SkinThickness', 'BMI', 'Insulin']\n",
        "\n",
        "for column in zero_not_accepted:\n",
        "    X[column] = X[column].replace(0, np.NaN)\n",
        "    mean = int(X[column].mean(skipna=True))\n",
        "    X[column] = X[column].replace(np.NaN, mean)"
      ],
      "execution_count": 0,
      "outputs": []
    },
    {
      "cell_type": "code",
      "metadata": {
        "id": "tqfBheap7MQB",
        "colab_type": "code",
        "colab": {}
      },
      "source": [
        "# Check data types and info of dataset"
      ],
      "execution_count": 0,
      "outputs": []
    },
    {
      "cell_type": "markdown",
      "metadata": {
        "id": "gzWVnjY-7MQD",
        "colab_type": "text"
      },
      "source": [
        "### Check data distribution using summary statistics and provide your findings(2 Marks)"
      ]
    },
    {
      "cell_type": "code",
      "metadata": {
        "id": "AcUBk8nv7MQE",
        "colab_type": "code",
        "colab": {}
      },
      "source": [
        ""
      ],
      "execution_count": 0,
      "outputs": []
    },
    {
      "cell_type": "markdown",
      "metadata": {
        "id": "yargBzMK7MQG",
        "colab_type": "text"
      },
      "source": [
        "### Do correlation analysis and bivariate viualization with Insights(1 Marks)"
      ]
    },
    {
      "cell_type": "code",
      "metadata": {
        "id": "d-FNqPfD7MQI",
        "colab_type": "code",
        "colab": {
          "base_uri": "https://localhost:8080/",
          "height": 323
        },
        "outputId": "752acc8c-aa1a-45a8-b6a1-681acb62a182"
      },
      "source": [
        "## Var[X] = p(1-p)\n",
        "sel = VarianceThreshold(threshold=(.8 * (1 - .8)))\n",
        "X_filtered = sel.fit_transform(X)\n",
        "\n",
        "print(X.head(1))\n",
        "print(X_filtered[0])\n",
        "#DiabetesPedigreeFunction was dropped\n",
        "X = X.drop('DiabetesPedigreeFunction', axis=1)\n",
        "\n",
        "top_4_features = SelectKBest(score_func=chi2, k=4)\n",
        "X_top_4_features = top_4_features.fit_transform(X, y)\n",
        "print(X.head())\n",
        "print(X_top_4_features)\n",
        "X = X.drop(['Pregnancies', 'BloodPressure', 'SkinThickness'], axis=1)"
      ],
      "execution_count": 9,
      "outputs": [
        {
          "output_type": "stream",
          "text": [
            "   Pregnancies  Glucose  BloodPressure  ...   BMI  DiabetesPedigreeFunction  Age\n",
            "0            6    148.0           72.0  ...  33.6                     0.627   50\n",
            "\n",
            "[1 rows x 8 columns]\n",
            "[  6.  148.   72.   35.  155.   33.6  50. ]\n",
            "   Pregnancies  Glucose  BloodPressure  SkinThickness  Insulin   BMI  Age\n",
            "0            6    148.0           72.0           35.0    155.0  33.6   50\n",
            "1            1     85.0           66.0           29.0    155.0  26.6   31\n",
            "2            8    183.0           64.0           29.0    155.0  23.3   32\n",
            "3            1     89.0           66.0           23.0     94.0  28.1   21\n",
            "4            0    137.0           40.0           35.0    168.0  43.1   33\n",
            "[[  6. 148. 155.  50.]\n",
            " [  1.  85. 155.  31.]\n",
            " [  8. 183. 155.  32.]\n",
            " ...\n",
            " [  5. 121. 112.  30.]\n",
            " [  1. 126. 155.  47.]\n",
            " [  1.  93. 155.  23.]]\n"
          ],
          "name": "stdout"
        }
      ]
    },
    {
      "cell_type": "code",
      "metadata": {
        "id": "y_wcVMBT7MQK",
        "colab_type": "code",
        "colab": {}
      },
      "source": [
        ""
      ],
      "execution_count": 0,
      "outputs": []
    },
    {
      "cell_type": "markdown",
      "metadata": {
        "id": "53oES_fU7MQM",
        "colab_type": "text"
      },
      "source": [
        "#### Do train and test split with stratify sampling on Outcome variable to maintain the distribution of dependent variable(1 Marks)"
      ]
    },
    {
      "cell_type": "code",
      "metadata": {
        "id": "rSGFNK_77MQM",
        "colab_type": "code",
        "colab": {}
      },
      "source": [
        "X_train, X_test, y_train, y_test = train_test_split(X, y, random_state=0, test_size=0.20)"
      ],
      "execution_count": 0,
      "outputs": []
    },
    {
      "cell_type": "markdown",
      "metadata": {
        "id": "tmHNC62V-gOy",
        "colab_type": "text"
      },
      "source": [
        "Doing feature scaling."
      ]
    },
    {
      "cell_type": "code",
      "metadata": {
        "id": "hXCyvYWr7MQP",
        "colab_type": "code",
        "colab": {}
      },
      "source": [
        "sc_X = StandardScaler()\n",
        "X_train = sc_X.fit_transform(X_train)\n",
        "X_test = sc_X.transform(X_test)"
      ],
      "execution_count": 0,
      "outputs": []
    },
    {
      "cell_type": "markdown",
      "metadata": {
        "id": "s-SyPPL87MQS",
        "colab_type": "text"
      },
      "source": [
        "### Train Support Vector Machine Model(1 Marks)"
      ]
    },
    {
      "cell_type": "code",
      "metadata": {
        "id": "x3yj5l8n7MQT",
        "colab_type": "code",
        "colab": {
          "base_uri": "https://localhost:8080/",
          "height": 85
        },
        "outputId": "6ec255ba-717e-4c46-cf0e-f5747ab54778"
      },
      "source": [
        "# use from sklearn.svm import SVC\n",
        "classifier = SVC(random_state=0, kernel='rbf')\n",
        "classifier.fit(X_train, y_train)"
      ],
      "execution_count": 12,
      "outputs": [
        {
          "output_type": "execute_result",
          "data": {
            "text/plain": [
              "SVC(C=1.0, cache_size=200, class_weight=None, coef0=0.0,\n",
              "    decision_function_shape='ovr', degree=3, gamma='auto_deprecated',\n",
              "    kernel='rbf', max_iter=-1, probability=False, random_state=0,\n",
              "    shrinking=True, tol=0.001, verbose=False)"
            ]
          },
          "metadata": {
            "tags": []
          },
          "execution_count": 12
        }
      ]
    },
    {
      "cell_type": "code",
      "metadata": {
        "id": "ZkioS0br7MQV",
        "colab_type": "code",
        "colab": {}
      },
      "source": [
        "# your insights"
      ],
      "execution_count": 0,
      "outputs": []
    },
    {
      "cell_type": "markdown",
      "metadata": {
        "id": "MgJ_YRzj7MQX",
        "colab_type": "text"
      },
      "source": [
        "### Scale the data points using MinMaxScaler ( 1 Marks)"
      ]
    },
    {
      "cell_type": "code",
      "metadata": {
        "id": "ZIaxhUhs7MQX",
        "colab_type": "code",
        "colab": {}
      },
      "source": [
        "sc_X = MinMaxScaler()\n",
        "X_train = sc_X.fit_transform(X_train)\n",
        "X_test = sc_X.transform(X_test)"
      ],
      "execution_count": 0,
      "outputs": []
    },
    {
      "cell_type": "markdown",
      "metadata": {
        "id": "TDC-lI_P7MQZ",
        "colab_type": "text"
      },
      "source": [
        "### Fit SVM Model on Scale data and give your observation( 1 Marks)"
      ]
    },
    {
      "cell_type": "code",
      "metadata": {
        "id": "eaFtHDop7MQa",
        "colab_type": "code",
        "colab": {}
      },
      "source": [
        "y_pred = classifier.predict(X_test)"
      ],
      "execution_count": 0,
      "outputs": []
    },
    {
      "cell_type": "code",
      "metadata": {
        "id": "PzIHVvpa_abN",
        "colab_type": "code",
        "colab": {
          "base_uri": "https://localhost:8080/",
          "height": 85
        },
        "outputId": "125cca67-c3b9-4e5b-fc7d-0731bd5049f6"
      },
      "source": [
        "cm = confusion_matrix(y_test, y_pred)\n",
        "print (cm)\n",
        "print(f1_score(y_test, y_pred))\n",
        "print(accuracy_score(y_test, y_pred))"
      ],
      "execution_count": 16,
      "outputs": [
        {
          "output_type": "stream",
          "text": [
            "[[  0 107]\n",
            " [  0  47]]\n",
            "0.46766169154228854\n",
            "0.3051948051948052\n"
          ],
          "name": "stdout"
        }
      ]
    },
    {
      "cell_type": "markdown",
      "metadata": {
        "id": "A135TJpE7MQc",
        "colab_type": "text"
      },
      "source": [
        "#we can try increasing either C or gamma to fit a more complex model."
      ]
    },
    {
      "cell_type": "markdown",
      "metadata": {
        "id": "MiRxqK2v7MQc",
        "colab_type": "text"
      },
      "source": [
        "### Try improving the model accuracy using C=1000 (1 Marks)"
      ]
    },
    {
      "cell_type": "code",
      "metadata": {
        "id": "-YjclG7O7MQd",
        "colab_type": "code",
        "colab": {
          "base_uri": "https://localhost:8080/",
          "height": 139
        },
        "outputId": "1fd35c1e-3beb-4e53-f091-873e5e48c332"
      },
      "source": [
        "classifier = SVC(C=1000,random_state=0, kernel='rbf')\n",
        "classifier.fit(X_train, y_train)"
      ],
      "execution_count": 18,
      "outputs": [
        {
          "output_type": "stream",
          "text": [
            "/usr/local/lib/python3.6/dist-packages/sklearn/svm/base.py:193: FutureWarning: The default value of gamma will change from 'auto' to 'scale' in version 0.22 to account better for unscaled features. Set gamma explicitly to 'auto' or 'scale' to avoid this warning.\n",
            "  \"avoid this warning.\", FutureWarning)\n"
          ],
          "name": "stderr"
        },
        {
          "output_type": "execute_result",
          "data": {
            "text/plain": [
              "SVC(C=1000, cache_size=200, class_weight=None, coef0=0.0,\n",
              "    decision_function_shape='ovr', degree=3, gamma='auto_deprecated',\n",
              "    kernel='rbf', max_iter=-1, probability=False, random_state=0,\n",
              "    shrinking=True, tol=0.001, verbose=False)"
            ]
          },
          "metadata": {
            "tags": []
          },
          "execution_count": 18
        }
      ]
    },
    {
      "cell_type": "code",
      "metadata": {
        "id": "3skKME8M_VwX",
        "colab_type": "code",
        "colab": {}
      },
      "source": [
        "sc_X = MinMaxScaler()\n",
        "X_train = sc_X.fit_transform(X_train)\n",
        "X_test = sc_X.transform(X_test)"
      ],
      "execution_count": 0,
      "outputs": []
    },
    {
      "cell_type": "code",
      "metadata": {
        "id": "VD7cNPcw_XXJ",
        "colab_type": "code",
        "colab": {}
      },
      "source": [
        "y_pred = classifier.predict(X_test)"
      ],
      "execution_count": 0,
      "outputs": []
    },
    {
      "cell_type": "code",
      "metadata": {
        "id": "W4s437tT_bOR",
        "colab_type": "code",
        "colab": {
          "base_uri": "https://localhost:8080/",
          "height": 85
        },
        "outputId": "2899bc65-98a8-4f71-8fd9-aa2f20d960a2"
      },
      "source": [
        "cm = confusion_matrix(y_test, y_pred)\n",
        "print (cm)\n",
        "print(f1_score(y_test, y_pred))\n",
        "print(accuracy_score(y_test, y_pred))"
      ],
      "execution_count": 21,
      "outputs": [
        {
          "output_type": "stream",
          "text": [
            "[[97 10]\n",
            " [23 24]]\n",
            "0.5925925925925926\n",
            "0.7857142857142857\n"
          ],
          "name": "stdout"
        }
      ]
    },
    {
      "cell_type": "markdown",
      "metadata": {
        "id": "qfjMCmPP7MQh",
        "colab_type": "text"
      },
      "source": [
        "### Here, increasing C allows us to improve the model, resulting in ??? accuracy.\n",
        "### Let's try to explore different Kernel and C (Bonus for practice)"
      ]
    },
    {
      "cell_type": "code",
      "metadata": {
        "id": "i-8awMI_7MQi",
        "colab_type": "code",
        "colab": {}
      },
      "source": [
        "import multiprocessing \n",
        "from sklearn.model_selection import GridSearchCV"
      ],
      "execution_count": 0,
      "outputs": []
    },
    {
      "cell_type": "code",
      "metadata": {
        "id": "vLCaoshY7MQl",
        "colab_type": "code",
        "colab": {}
      },
      "source": [
        " param_grid = [    {        \n",
        "     'kernel': ['linear', 'rbf', 'poly', 'sigmoid'],        \n",
        "     'C': [ 0.1, 0.2, 0.4, 0.5, 1.0, 1.5, 1.8, 2.0, 2.5, 3.0 ]    } ]"
      ],
      "execution_count": 0,
      "outputs": []
    },
    {
      "cell_type": "code",
      "metadata": {
        "id": "kvd7i23M7MQn",
        "colab_type": "code",
        "colab": {}
      },
      "source": [
        "gs = GridSearchCV(estimator=SVC(), param_grid=param_grid,scoring='accuracy', cv=10, n_jobs=multiprocessing.cpu_count())"
      ],
      "execution_count": 0,
      "outputs": []
    },
    {
      "cell_type": "code",
      "metadata": {
        "id": "0AvTR7yp7MQq",
        "colab_type": "code",
        "colab": {}
      },
      "source": [
        "gs.fit(X_train_scaled, y_train) "
      ],
      "execution_count": 0,
      "outputs": []
    },
    {
      "cell_type": "code",
      "metadata": {
        "id": "CTpGTblR7MQt",
        "colab_type": "code",
        "colab": {}
      },
      "source": [
        "gs.best_estimator_"
      ],
      "execution_count": 0,
      "outputs": []
    },
    {
      "cell_type": "code",
      "metadata": {
        "id": "oi0o5pNK7MQw",
        "colab_type": "code",
        "colab": {}
      },
      "source": [
        "gs.best_score_ "
      ],
      "execution_count": 0,
      "outputs": []
    }
  ]
}